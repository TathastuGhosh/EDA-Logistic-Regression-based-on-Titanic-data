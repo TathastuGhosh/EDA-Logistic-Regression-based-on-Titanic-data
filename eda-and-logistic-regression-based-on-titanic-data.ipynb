{
 "cells": [
  {
   "cell_type": "markdown",
   "id": "87167b4d",
   "metadata": {
    "papermill": {
     "duration": 0.040212,
     "end_time": "2024-08-26T10:23:48.061698",
     "exception": false,
     "start_time": "2024-08-26T10:23:48.021486",
     "status": "completed"
    },
    "tags": []
   },
   "source": [
    "# Table of Contents\n",
    "\n",
    "* [A. The main aspects of EDA](#Section-one)\n",
    "* [B. Steps going to be followed](#Section-two)\n",
    "     * [Getting an overview](#subsection-one-of-section-1)\n",
    "     * [Univariate Analysis](#subsection-two-of-section-1)\n",
    "     * [Bivariate Analysis](#subsection-three-of-section-1)\n",
    "* [Calling the packages](#Section-three)\n",
    "* [Importing Datasets](#Section-four)\n",
    "* [Observing the datasets](#Section-five)\n",
    "* [Univariate Analysis](#Section-six)\n",
    "* [Bivariate Analysis](#Section-seven)\n",
    "* [Feature Engineering](#Section-eight)\n",
    "* [Multivariate Analysis](#Section-nine)\n",
    "* [Logistic Regression](#Section-ten)"
   ]
  },
  {
   "cell_type": "code",
   "execution_count": 1,
   "id": "91cd2fdb",
   "metadata": {
    "_cell_guid": "b1076dfc-b9ad-4769-8c92-a6c4dae69d19",
    "_uuid": "8f2839f25d086af736a60e9eeb907d3b93b6e0e5",
    "execution": {
     "iopub.execute_input": "2024-08-26T10:23:48.137972Z",
     "iopub.status.busy": "2024-08-26T10:23:48.137374Z",
     "iopub.status.idle": "2024-08-26T10:23:48.602055Z",
     "shell.execute_reply": "2024-08-26T10:23:48.600911Z"
    },
    "papermill": {
     "duration": 0.506013,
     "end_time": "2024-08-26T10:23:48.604803",
     "exception": false,
     "start_time": "2024-08-26T10:23:48.098790",
     "status": "completed"
    },
    "tags": []
   },
   "outputs": [
    {
     "name": "stdout",
     "output_type": "stream",
     "text": [
      "/kaggle/input/titanic/train.csv\n",
      "/kaggle/input/titanic/test.csv\n",
      "/kaggle/input/titanic/gender_submission.csv\n"
     ]
    }
   ],
   "source": [
    "# This Python 3 environment comes with many helpful analytics libraries installed\n",
    "# It is defined by the kaggle/python Docker image: https://github.com/kaggle/docker-python\n",
    "# For example, here's several helpful packages to load\n",
    "\n",
    "import numpy as np # linear algebra\n",
    "import pandas as pd # data processing, CSV file I/O (e.g. pd.read_csv)\n",
    "\n",
    "# Input data files are available in the read-only \"../input/\" directory\n",
    "# For example, running this (by clicking run or pressing Shift+Enter) will list all files under the input directory\n",
    "\n",
    "import os\n",
    "for dirname, _, filenames in os.walk('/kaggle/input'):\n",
    "    for filename in filenames:\n",
    "        print(os.path.join(dirname, filename))\n",
    "\n",
    "# You can write up to 20GB to the current directory (/kaggle/working/) that gets preserved as output when you create a version using \"Save & Run All\" \n",
    "# You can also write temporary files to /kaggle/temp/, but they won't be saved outside of the current session"
   ]
  },
  {
   "cell_type": "markdown",
   "id": "413dd0b9",
   "metadata": {
    "papermill": {
     "duration": 0.038352,
     "end_time": "2024-08-26T10:23:48.680101",
     "exception": false,
     "start_time": "2024-08-26T10:23:48.641749",
     "status": "completed"
    },
    "tags": []
   },
   "source": [
    "Before jumping directly to the code, we should know little about the Exploratory Data Analysis(EDA).\n",
    "<a id=\"Section-one\" ></a>\n",
    "# **A. The main aspects of EDA**\n",
    "* Understanding data structures\n",
    "* Identifying patterns and relationships\n",
    "* Detecting anomalies and outliers\n",
    "* Testing assumptions\n",
    "* Handling missing values\n",
    "* feature engineering\n",
    "* Analysis and reporting\n",
    "* Model building\n"
   ]
  },
  {
   "cell_type": "markdown",
   "id": "4a08c486",
   "metadata": {
    "papermill": {
     "duration": 0.036211,
     "end_time": "2024-08-26T10:23:48.753518",
     "exception": false,
     "start_time": "2024-08-26T10:23:48.717307",
     "status": "completed"
    },
    "tags": []
   },
   "source": [
    "<a id=\"Section-two\" ></a>\n",
    "# **B. Steps going to be followed** \n",
    "\n",
    "<a id=\"subsection-one-of-section-1\" ></a>\n",
    "# i. Getting a overview of data such as dimension of the data, data types of the columns etc.\n",
    "<a id=\"subsection-two-of-section-1\" ></a>\n",
    "# ii. Univariate analysis\n",
    "\n",
    "#####   a) Steps of doing Univariate Analysis on Numerical columns\n",
    "\n",
    "- **Descriptive Statistics**: Compute basic summary statistics for the column, such as mean, median, mode, standard deviation, range, and quartiles. These statistics give a general understanding of the distribution of the data and can help identify skewness or outliers.\n",
    "\n",
    "- **Visualizations**: Create visualizations to explore the distribution of the data. Some common visualizations for numerical data include histograms, box plots, and density plots. These visualizations provide a visual representation of the distribution of the data and can help identify skewness an outliers.\n",
    "\n",
    "- **Identifying Outliers**: Identify and examine any outliers in the data. Outliers can be identified using visualizations. It is important to determine whether the outliers are due to measurement errors, data entry errors, or legitimate differences in the data, and to decide whether to include or exclude them from the analysis.\n",
    "\n",
    "- **Skewness**: Check for skewness in the data and consider transforming the data or using robust statistical methods that are less sensitive to skewness, if necessary.\n",
    "\n",
    "- **Conclusion**: Summarize the findings of the EDA and make decisions about how to proceed with further analysis.\n",
    "\n",
    "##### b) Steps of doing Univariate Analysis on Categorical columns\n",
    "\n",
    "- **Descriptive Statistics**: Compute the frequency distribution of the categories in the column. This will give a general understanding of the distribution of the categories and their relative frequencies.\n",
    "\n",
    "- **Visualizations**: Create visualizations to explore the distribution of the categories. Some common visualizations for categorical data include count plots and pie charts. These visualizations provide a visual representation of the distribution of the categories and can help identify any patterns or anomalies in the data.\n",
    "\n",
    "- **Missing Values**: Check for missing values in the data and decide how to handle them. Missing values can be imputed or excluded from the analysis, depending on the research question and the data set.\n",
    "\n",
    "- **Conclusion**: Summarize the findings of the EDA and make decisions about how to proceed with further analysis.\n",
    "####  Then we will proceed for bivariate and multivariate analysis.\n",
    " #####         It focuses on scritinizing any patterns or relationships between two or more number of variables.\n",
    " \n",
    "<a id=\"subsection-three-of-section-1\" ></a>\n",
    "# iii. Bivariate analysis\n",
    "- Select 2 cols\n",
    "- Understand type of relationship\n",
    "    1. **Numerical - Numerical**<br>\n",
    "        a. You can plot graphs like scatterplot(regression plots), 2D histplot, 2D KDEplots<br>\n",
    "        b. Check correlation coefficent to check linear relationship\n",
    "    2. **Numerical - Categorical** - create visualizations that compare the distribution of the numerical data across different categories of the categorical data.<br>\n",
    "        a. You can plot graphs like barplot, boxplot, kdeplot violinplot even scatterplots<br>\n",
    "    3. **Categorical - Categorical**<br>\n",
    "        a. You can create cross-tabulations or contingency tables that show the distribution of values in one categorical column, grouped by the values in the other categorical column.<br>\n",
    "        b. You can plots like heatmap, stacked barplots, treemaps\n",
    "        \n",
    "- Write your conclusions"
   ]
  },
  {
   "cell_type": "markdown",
   "id": "5d2b2308",
   "metadata": {
    "papermill": {
     "duration": 0.036153,
     "end_time": "2024-08-26T10:23:48.827626",
     "exception": false,
     "start_time": "2024-08-26T10:23:48.791473",
     "status": "completed"
    },
    "tags": []
   },
   "source": [
    "<a id=\"Section-three\" ></a>\n",
    "# **1.  Calling the packages**"
   ]
  },
  {
   "cell_type": "code",
   "execution_count": 2,
   "id": "04282de8",
   "metadata": {
    "execution": {
     "iopub.execute_input": "2024-08-26T10:23:48.905671Z",
     "iopub.status.busy": "2024-08-26T10:23:48.905127Z",
     "iopub.status.idle": "2024-08-26T10:23:51.475784Z",
     "shell.execute_reply": "2024-08-26T10:23:51.474611Z"
    },
    "papermill": {
     "duration": 2.611841,
     "end_time": "2024-08-26T10:23:51.478521",
     "exception": false,
     "start_time": "2024-08-26T10:23:48.866680",
     "status": "completed"
    },
    "tags": []
   },
   "outputs": [],
   "source": [
    "import numpy as np\n",
    "import pandas as pd\n",
    "import matplotlib.pyplot as plt\n",
    "import seaborn as sns\n",
    "import plotly.graph_objects as go\n",
    "import plotly.express as px"
   ]
  },
  {
   "cell_type": "markdown",
   "id": "416836bb",
   "metadata": {
    "papermill": {
     "duration": 0.037188,
     "end_time": "2024-08-26T10:23:51.552117",
     "exception": false,
     "start_time": "2024-08-26T10:23:51.514929",
     "status": "completed"
    },
    "tags": []
   },
   "source": [
    "<a id=\"Section-four\" ></a>\n",
    "# **2.  Importing Datasets**"
   ]
  },
  {
   "cell_type": "code",
   "execution_count": 3,
   "id": "9870f561",
   "metadata": {
    "execution": {
     "iopub.execute_input": "2024-08-26T10:23:51.629093Z",
     "iopub.status.busy": "2024-08-26T10:23:51.628437Z",
     "iopub.status.idle": "2024-08-26T10:23:51.654162Z",
     "shell.execute_reply": "2024-08-26T10:23:51.652971Z"
    },
    "papermill": {
     "duration": 0.066984,
     "end_time": "2024-08-26T10:23:51.657055",
     "exception": false,
     "start_time": "2024-08-26T10:23:51.590071",
     "status": "completed"
    },
    "tags": []
   },
   "outputs": [],
   "source": [
    "# Importing datasets\n",
    "\n",
    "df = pd.read_csv('/kaggle/input/titanic/train.csv')"
   ]
  },
  {
   "cell_type": "markdown",
   "id": "8805ba65",
   "metadata": {
    "papermill": {
     "duration": 0.036081,
     "end_time": "2024-08-26T10:23:51.731096",
     "exception": false,
     "start_time": "2024-08-26T10:23:51.695015",
     "status": "completed"
    },
    "tags": []
   },
   "source": [
    "<a id=\"Section-five\" ></a>\n",
    "# **3. Observing the datasets**"
   ]
  },
  {
   "cell_type": "code",
   "execution_count": 4,
   "id": "10d114c6",
   "metadata": {
    "execution": {
     "iopub.execute_input": "2024-08-26T10:23:51.810028Z",
     "iopub.status.busy": "2024-08-26T10:23:51.809544Z",
     "iopub.status.idle": "2024-08-26T10:23:51.816187Z",
     "shell.execute_reply": "2024-08-26T10:23:51.814978Z"
    },
    "papermill": {
     "duration": 0.050146,
     "end_time": "2024-08-26T10:23:51.818808",
     "exception": false,
     "start_time": "2024-08-26T10:23:51.768662",
     "status": "completed"
    },
    "tags": []
   },
   "outputs": [
    {
     "name": "stdout",
     "output_type": "stream",
     "text": [
      "There are 891 no of rows and 12 no of columns.\n"
     ]
    }
   ],
   "source": [
    "# shape of the datasets\n",
    "rows, columns = df.shape\n",
    "print(f\"There are {rows} no of rows and {columns} no of columns.\")"
   ]
  },
  {
   "cell_type": "code",
   "execution_count": 5,
   "id": "65992d3a",
   "metadata": {
    "execution": {
     "iopub.execute_input": "2024-08-26T10:23:51.897557Z",
     "iopub.status.busy": "2024-08-26T10:23:51.897096Z",
     "iopub.status.idle": "2024-08-26T10:23:51.929957Z",
     "shell.execute_reply": "2024-08-26T10:23:51.928420Z"
    },
    "papermill": {
     "duration": 0.074984,
     "end_time": "2024-08-26T10:23:51.932733",
     "exception": false,
     "start_time": "2024-08-26T10:23:51.857749",
     "status": "completed"
    },
    "tags": []
   },
   "outputs": [
    {
     "data": {
      "text/html": [
       "<div>\n",
       "<style scoped>\n",
       "    .dataframe tbody tr th:only-of-type {\n",
       "        vertical-align: middle;\n",
       "    }\n",
       "\n",
       "    .dataframe tbody tr th {\n",
       "        vertical-align: top;\n",
       "    }\n",
       "\n",
       "    .dataframe thead th {\n",
       "        text-align: right;\n",
       "    }\n",
       "</style>\n",
       "<table border=\"1\" class=\"dataframe\">\n",
       "  <thead>\n",
       "    <tr style=\"text-align: right;\">\n",
       "      <th></th>\n",
       "      <th>PassengerId</th>\n",
       "      <th>Survived</th>\n",
       "      <th>Pclass</th>\n",
       "      <th>Name</th>\n",
       "      <th>Sex</th>\n",
       "      <th>Age</th>\n",
       "      <th>SibSp</th>\n",
       "      <th>Parch</th>\n",
       "      <th>Ticket</th>\n",
       "      <th>Fare</th>\n",
       "      <th>Cabin</th>\n",
       "      <th>Embarked</th>\n",
       "    </tr>\n",
       "  </thead>\n",
       "  <tbody>\n",
       "    <tr>\n",
       "      <th>0</th>\n",
       "      <td>1</td>\n",
       "      <td>0</td>\n",
       "      <td>3</td>\n",
       "      <td>Braund, Mr. Owen Harris</td>\n",
       "      <td>male</td>\n",
       "      <td>22.0</td>\n",
       "      <td>1</td>\n",
       "      <td>0</td>\n",
       "      <td>A/5 21171</td>\n",
       "      <td>7.2500</td>\n",
       "      <td>NaN</td>\n",
       "      <td>S</td>\n",
       "    </tr>\n",
       "    <tr>\n",
       "      <th>1</th>\n",
       "      <td>2</td>\n",
       "      <td>1</td>\n",
       "      <td>1</td>\n",
       "      <td>Cumings, Mrs. John Bradley (Florence Briggs Th...</td>\n",
       "      <td>female</td>\n",
       "      <td>38.0</td>\n",
       "      <td>1</td>\n",
       "      <td>0</td>\n",
       "      <td>PC 17599</td>\n",
       "      <td>71.2833</td>\n",
       "      <td>C85</td>\n",
       "      <td>C</td>\n",
       "    </tr>\n",
       "    <tr>\n",
       "      <th>2</th>\n",
       "      <td>3</td>\n",
       "      <td>1</td>\n",
       "      <td>3</td>\n",
       "      <td>Heikkinen, Miss. Laina</td>\n",
       "      <td>female</td>\n",
       "      <td>26.0</td>\n",
       "      <td>0</td>\n",
       "      <td>0</td>\n",
       "      <td>STON/O2. 3101282</td>\n",
       "      <td>7.9250</td>\n",
       "      <td>NaN</td>\n",
       "      <td>S</td>\n",
       "    </tr>\n",
       "    <tr>\n",
       "      <th>3</th>\n",
       "      <td>4</td>\n",
       "      <td>1</td>\n",
       "      <td>1</td>\n",
       "      <td>Futrelle, Mrs. Jacques Heath (Lily May Peel)</td>\n",
       "      <td>female</td>\n",
       "      <td>35.0</td>\n",
       "      <td>1</td>\n",
       "      <td>0</td>\n",
       "      <td>113803</td>\n",
       "      <td>53.1000</td>\n",
       "      <td>C123</td>\n",
       "      <td>S</td>\n",
       "    </tr>\n",
       "    <tr>\n",
       "      <th>4</th>\n",
       "      <td>5</td>\n",
       "      <td>0</td>\n",
       "      <td>3</td>\n",
       "      <td>Allen, Mr. William Henry</td>\n",
       "      <td>male</td>\n",
       "      <td>35.0</td>\n",
       "      <td>0</td>\n",
       "      <td>0</td>\n",
       "      <td>373450</td>\n",
       "      <td>8.0500</td>\n",
       "      <td>NaN</td>\n",
       "      <td>S</td>\n",
       "    </tr>\n",
       "  </tbody>\n",
       "</table>\n",
       "</div>"
      ],
      "text/plain": [
       "   PassengerId  Survived  Pclass  \\\n",
       "0            1         0       3   \n",
       "1            2         1       1   \n",
       "2            3         1       3   \n",
       "3            4         1       1   \n",
       "4            5         0       3   \n",
       "\n",
       "                                                Name     Sex   Age  SibSp  \\\n",
       "0                            Braund, Mr. Owen Harris    male  22.0      1   \n",
       "1  Cumings, Mrs. John Bradley (Florence Briggs Th...  female  38.0      1   \n",
       "2                             Heikkinen, Miss. Laina  female  26.0      0   \n",
       "3       Futrelle, Mrs. Jacques Heath (Lily May Peel)  female  35.0      1   \n",
       "4                           Allen, Mr. William Henry    male  35.0      0   \n",
       "\n",
       "   Parch            Ticket     Fare Cabin Embarked  \n",
       "0      0         A/5 21171   7.2500   NaN        S  \n",
       "1      0          PC 17599  71.2833   C85        C  \n",
       "2      0  STON/O2. 3101282   7.9250   NaN        S  \n",
       "3      0            113803  53.1000  C123        S  \n",
       "4      0            373450   8.0500   NaN        S  "
      ]
     },
     "execution_count": 5,
     "metadata": {},
     "output_type": "execute_result"
    }
   ],
   "source": [
    "# head of the datasets\n",
    "df.head()"
   ]
  },
  {
   "cell_type": "code",
   "execution_count": 6,
   "id": "e57e2dac",
   "metadata": {
    "execution": {
     "iopub.execute_input": "2024-08-26T10:23:52.070246Z",
     "iopub.status.busy": "2024-08-26T10:23:52.069783Z",
     "iopub.status.idle": "2024-08-26T10:23:52.077644Z",
     "shell.execute_reply": "2024-08-26T10:23:52.076461Z"
    },
    "papermill": {
     "duration": 0.108298,
     "end_time": "2024-08-26T10:23:52.080254",
     "exception": false,
     "start_time": "2024-08-26T10:23:51.971956",
     "status": "completed"
    },
    "tags": []
   },
   "outputs": [
    {
     "data": {
      "text/plain": [
       "Index(['PassengerId', 'Survived', 'Pclass', 'Name', 'Sex', 'Age', 'SibSp',\n",
       "       'Parch', 'Ticket', 'Fare', 'Cabin', 'Embarked'],\n",
       "      dtype='object')"
      ]
     },
     "execution_count": 6,
     "metadata": {},
     "output_type": "execute_result"
    }
   ],
   "source": [
    "# getting the name of columns\n",
    "df.columns"
   ]
  },
  {
   "cell_type": "code",
   "execution_count": 7,
   "id": "f0ef53d7",
   "metadata": {
    "execution": {
     "iopub.execute_input": "2024-08-26T10:23:52.157156Z",
     "iopub.status.busy": "2024-08-26T10:23:52.156718Z",
     "iopub.status.idle": "2024-08-26T10:23:52.184017Z",
     "shell.execute_reply": "2024-08-26T10:23:52.182267Z"
    },
    "papermill": {
     "duration": 0.069135,
     "end_time": "2024-08-26T10:23:52.186844",
     "exception": false,
     "start_time": "2024-08-26T10:23:52.117709",
     "status": "completed"
    },
    "tags": []
   },
   "outputs": [
    {
     "name": "stdout",
     "output_type": "stream",
     "text": [
      "<class 'pandas.core.frame.DataFrame'>\n",
      "RangeIndex: 891 entries, 0 to 890\n",
      "Data columns (total 12 columns):\n",
      " #   Column       Non-Null Count  Dtype  \n",
      "---  ------       --------------  -----  \n",
      " 0   PassengerId  891 non-null    int64  \n",
      " 1   Survived     891 non-null    int64  \n",
      " 2   Pclass       891 non-null    int64  \n",
      " 3   Name         891 non-null    object \n",
      " 4   Sex          891 non-null    object \n",
      " 5   Age          714 non-null    float64\n",
      " 6   SibSp        891 non-null    int64  \n",
      " 7   Parch        891 non-null    int64  \n",
      " 8   Ticket       891 non-null    object \n",
      " 9   Fare         891 non-null    float64\n",
      " 10  Cabin        204 non-null    object \n",
      " 11  Embarked     889 non-null    object \n",
      "dtypes: float64(2), int64(5), object(5)\n",
      "memory usage: 83.7+ KB\n"
     ]
    }
   ],
   "source": [
    "# getting data types of all the columns\n",
    "df.info()"
   ]
  },
  {
   "cell_type": "markdown",
   "id": "6733604d",
   "metadata": {
    "papermill": {
     "duration": 0.040264,
     "end_time": "2024-08-26T10:23:52.264542",
     "exception": false,
     "start_time": "2024-08-26T10:23:52.224278",
     "status": "completed"
    },
    "tags": []
   },
   "source": [
    "#### Conclusion :\n",
    "* There are 891 rows and 12 columns.\n",
    "* The column 'Age','Cabin' and 'Embarked' consist null values (*we will visualize this later*)"
   ]
  },
  {
   "cell_type": "markdown",
   "id": "618c056d",
   "metadata": {
    "papermill": {
     "duration": 0.039897,
     "end_time": "2024-08-26T10:23:52.345274",
     "exception": false,
     "start_time": "2024-08-26T10:23:52.305377",
     "status": "completed"
    },
    "tags": []
   },
   "source": [
    "<a id=\"Section-six\" ></a>\n",
    "# **4. Univariate analysis**"
   ]
  },
  {
   "cell_type": "markdown",
   "id": "e408e9cc",
   "metadata": {
    "papermill": {
     "duration": 0.037895,
     "end_time": "2024-08-26T10:23:52.422398",
     "exception": false,
     "start_time": "2024-08-26T10:23:52.384503",
     "status": "completed"
    },
    "tags": []
   },
   "source": [
    "### **4.1 Age**"
   ]
  },
  {
   "cell_type": "code",
   "execution_count": 8,
   "id": "49ec7793",
   "metadata": {
    "execution": {
     "iopub.execute_input": "2024-08-26T10:23:52.505949Z",
     "iopub.status.busy": "2024-08-26T10:23:52.505449Z",
     "iopub.status.idle": "2024-08-26T10:23:52.522110Z",
     "shell.execute_reply": "2024-08-26T10:23:52.520890Z"
    },
    "papermill": {
     "duration": 0.060604,
     "end_time": "2024-08-26T10:23:52.524696",
     "exception": false,
     "start_time": "2024-08-26T10:23:52.464092",
     "status": "completed"
    },
    "tags": []
   },
   "outputs": [
    {
     "data": {
      "text/plain": [
       "count    714.000000\n",
       "mean      29.699118\n",
       "std       14.526497\n",
       "min        0.420000\n",
       "25%       20.125000\n",
       "50%       28.000000\n",
       "75%       38.000000\n",
       "max       80.000000\n",
       "Name: Age, dtype: float64"
      ]
     },
     "execution_count": 8,
     "metadata": {},
     "output_type": "execute_result"
    }
   ],
   "source": [
    "# descriptive summary\n",
    "df['Age'].describe()"
   ]
  },
  {
   "cell_type": "code",
   "execution_count": 9,
   "id": "68cf8c8b",
   "metadata": {
    "execution": {
     "iopub.execute_input": "2024-08-26T10:23:52.608936Z",
     "iopub.status.busy": "2024-08-26T10:23:52.608210Z",
     "iopub.status.idle": "2024-08-26T10:23:53.154180Z",
     "shell.execute_reply": "2024-08-26T10:23:53.152769Z"
    },
    "papermill": {
     "duration": 0.594483,
     "end_time": "2024-08-26T10:23:53.159320",
     "exception": false,
     "start_time": "2024-08-26T10:23:52.564837",
     "status": "completed"
    },
    "tags": []
   },
   "outputs": [
    {
     "name": "stderr",
     "output_type": "stream",
     "text": [
      "/opt/conda/lib/python3.10/site-packages/seaborn/_oldcore.py:1119: FutureWarning: use_inf_as_na option is deprecated and will be removed in a future version. Convert inf values to NaN before operating instead.\n",
      "  with pd.option_context('mode.use_inf_as_na', True):\n"
     ]
    },
    {
     "data": {
      "text/plain": [
       "<seaborn.axisgrid.FacetGrid at 0x7cc50733bca0>"
      ]
     },
     "execution_count": 9,
     "metadata": {},
     "output_type": "execute_result"
    },
    {
     "data": {
      "image/png": "[encoded data removed]",
      "text/plain": [
       "<Figure size 500x500 with 1 Axes>"
      ]
     },
     "metadata": {},
     "output_type": "display_data"
    }
   ],
   "source": [
    "# histogram\n",
    "sns.displot(df,x='Age',bins=20,kind='hist')"
   ]
  },
  {
   "cell_type": "code",
   "execution_count": 10,
   "id": "4c039d8c",
   "metadata": {
    "execution": {
     "iopub.execute_input": "2024-08-26T10:23:53.242003Z",
     "iopub.status.busy": "2024-08-26T10:23:53.241555Z",
     "iopub.status.idle": "2024-08-26T10:23:53.751878Z",
     "shell.execute_reply": "2024-08-26T10:23:53.749897Z"
    },
    "papermill": {
     "duration": 0.55443,
     "end_time": "2024-08-26T10:23:53.754872",
     "exception": false,
     "start_time": "2024-08-26T10:23:53.200442",
     "status": "completed"
    },
    "tags": []
   },
   "outputs": [
    {
     "name": "stderr",
     "output_type": "stream",
     "text": [
      "/opt/conda/lib/python3.10/site-packages/seaborn/_oldcore.py:1119: FutureWarning: use_inf_as_na option is deprecated and will be removed in a future version. Convert inf values to NaN before operating instead.\n",
      "  with pd.option_context('mode.use_inf_as_na', True):\n"
     ]
    },
    {
     "data": {
      "text/plain": [
       "<seaborn.axisgrid.FacetGrid at 0x7cc507eca5c0>"
      ]
     },
     "execution_count": 10,
     "metadata": {},
     "output_type": "execute_result"
    },
    {
     "data": {
      "image/png": "[encoded data removed]",
      "text/plain": [
       "<Figure size 500x500 with 1 Axes>"
      ]
     },
     "metadata": {},
     "output_type": "display_data"
    }
   ],
   "source": [
    "# density plot\n",
    "sns.displot(df,x='Age',kind='kde')"
   ]
  },
  {
   "cell_type": "code",
   "execution_count": 11,
   "id": "12947141",
   "metadata": {
    "execution": {
     "iopub.execute_input": "2024-08-26T10:23:53.836071Z",
     "iopub.status.busy": "2024-08-26T10:23:53.835572Z",
     "iopub.status.idle": "2024-08-26T10:23:53.844485Z",
     "shell.execute_reply": "2024-08-26T10:23:53.843301Z"
    },
    "papermill": {
     "duration": 0.053125,
     "end_time": "2024-08-26T10:23:53.847035",
     "exception": false,
     "start_time": "2024-08-26T10:23:53.793910",
     "status": "completed"
    },
    "tags": []
   },
   "outputs": [
    {
     "data": {
      "text/plain": [
       "0.38910778230082704"
      ]
     },
     "execution_count": 11,
     "metadata": {},
     "output_type": "execute_result"
    }
   ],
   "source": [
    "# skewness\n",
    "df['Age'].skew()"
   ]
  },
  {
   "cell_type": "code",
   "execution_count": 12,
   "id": "ff7e0301",
   "metadata": {
    "execution": {
     "iopub.execute_input": "2024-08-26T10:23:53.928890Z",
     "iopub.status.busy": "2024-08-26T10:23:53.928114Z",
     "iopub.status.idle": "2024-08-26T10:23:54.300836Z",
     "shell.execute_reply": "2024-08-26T10:23:54.299582Z"
    },
    "papermill": {
     "duration": 0.416627,
     "end_time": "2024-08-26T10:23:54.303543",
     "exception": false,
     "start_time": "2024-08-26T10:23:53.886916",
     "status": "completed"
    },
    "tags": []
   },
   "outputs": [
    {
     "data": {
      "text/plain": [
       "<seaborn.axisgrid.FacetGrid at 0x7cc507e72470>"
      ]
     },
     "execution_count": 12,
     "metadata": {},
     "output_type": "execute_result"
    },
    {
     "data": {
      "image/png": "[encoded data removed]",
      "text/plain": [
       "<Figure size 500x500 with 1 Axes>"
      ]
     },
     "metadata": {},
     "output_type": "display_data"
    }
   ],
   "source": [
    "# boxplot\n",
    "sns.catplot(df,y='Age',kind='box')"
   ]
  },
  {
   "cell_type": "code",
   "execution_count": 13,
   "id": "31a2006f",
   "metadata": {
    "execution": {
     "iopub.execute_input": "2024-08-26T10:23:54.389486Z",
     "iopub.status.busy": "2024-08-26T10:23:54.389068Z",
     "iopub.status.idle": "2024-08-26T10:23:54.410428Z",
     "shell.execute_reply": "2024-08-26T10:23:54.408835Z"
    },
    "papermill": {
     "duration": 0.065763,
     "end_time": "2024-08-26T10:23:54.412961",
     "exception": false,
     "start_time": "2024-08-26T10:23:54.347198",
     "status": "completed"
    },
    "tags": []
   },
   "outputs": [
    {
     "data": {
      "text/html": [
       "<div>\n",
       "<style scoped>\n",
       "    .dataframe tbody tr th:only-of-type {\n",
       "        vertical-align: middle;\n",
       "    }\n",
       "\n",
       "    .dataframe tbody tr th {\n",
       "        vertical-align: top;\n",
       "    }\n",
       "\n",
       "    .dataframe thead th {\n",
       "        text-align: right;\n",
       "    }\n",
       "</style>\n",
       "<table border=\"1\" class=\"dataframe\">\n",
       "  <thead>\n",
       "    <tr style=\"text-align: right;\">\n",
       "      <th></th>\n",
       "      <th>PassengerId</th>\n",
       "      <th>Survived</th>\n",
       "      <th>Pclass</th>\n",
       "      <th>Name</th>\n",
       "      <th>Sex</th>\n",
       "      <th>Age</th>\n",
       "      <th>SibSp</th>\n",
       "      <th>Parch</th>\n",
       "      <th>Ticket</th>\n",
       "      <th>Fare</th>\n",
       "      <th>Cabin</th>\n",
       "      <th>Embarked</th>\n",
       "    </tr>\n",
       "  </thead>\n",
       "  <tbody>\n",
       "    <tr>\n",
       "      <th>33</th>\n",
       "      <td>34</td>\n",
       "      <td>0</td>\n",
       "      <td>2</td>\n",
       "      <td>Wheadon, Mr. Edward H</td>\n",
       "      <td>male</td>\n",
       "      <td>66.0</td>\n",
       "      <td>0</td>\n",
       "      <td>0</td>\n",
       "      <td>C.A. 24579</td>\n",
       "      <td>10.5000</td>\n",
       "      <td>NaN</td>\n",
       "      <td>S</td>\n",
       "    </tr>\n",
       "    <tr>\n",
       "      <th>96</th>\n",
       "      <td>97</td>\n",
       "      <td>0</td>\n",
       "      <td>1</td>\n",
       "      <td>Goldschmidt, Mr. George B</td>\n",
       "      <td>male</td>\n",
       "      <td>71.0</td>\n",
       "      <td>0</td>\n",
       "      <td>0</td>\n",
       "      <td>PC 17754</td>\n",
       "      <td>34.6542</td>\n",
       "      <td>A5</td>\n",
       "      <td>C</td>\n",
       "    </tr>\n",
       "    <tr>\n",
       "      <th>116</th>\n",
       "      <td>117</td>\n",
       "      <td>0</td>\n",
       "      <td>3</td>\n",
       "      <td>Connors, Mr. Patrick</td>\n",
       "      <td>male</td>\n",
       "      <td>70.5</td>\n",
       "      <td>0</td>\n",
       "      <td>0</td>\n",
       "      <td>370369</td>\n",
       "      <td>7.7500</td>\n",
       "      <td>NaN</td>\n",
       "      <td>Q</td>\n",
       "    </tr>\n",
       "    <tr>\n",
       "      <th>493</th>\n",
       "      <td>494</td>\n",
       "      <td>0</td>\n",
       "      <td>1</td>\n",
       "      <td>Artagaveytia, Mr. Ramon</td>\n",
       "      <td>male</td>\n",
       "      <td>71.0</td>\n",
       "      <td>0</td>\n",
       "      <td>0</td>\n",
       "      <td>PC 17609</td>\n",
       "      <td>49.5042</td>\n",
       "      <td>NaN</td>\n",
       "      <td>C</td>\n",
       "    </tr>\n",
       "    <tr>\n",
       "      <th>630</th>\n",
       "      <td>631</td>\n",
       "      <td>1</td>\n",
       "      <td>1</td>\n",
       "      <td>Barkworth, Mr. Algernon Henry Wilson</td>\n",
       "      <td>male</td>\n",
       "      <td>80.0</td>\n",
       "      <td>0</td>\n",
       "      <td>0</td>\n",
       "      <td>27042</td>\n",
       "      <td>30.0000</td>\n",
       "      <td>A23</td>\n",
       "      <td>S</td>\n",
       "    </tr>\n",
       "    <tr>\n",
       "      <th>672</th>\n",
       "      <td>673</td>\n",
       "      <td>0</td>\n",
       "      <td>2</td>\n",
       "      <td>Mitchell, Mr. Henry Michael</td>\n",
       "      <td>male</td>\n",
       "      <td>70.0</td>\n",
       "      <td>0</td>\n",
       "      <td>0</td>\n",
       "      <td>C.A. 24580</td>\n",
       "      <td>10.5000</td>\n",
       "      <td>NaN</td>\n",
       "      <td>S</td>\n",
       "    </tr>\n",
       "    <tr>\n",
       "      <th>745</th>\n",
       "      <td>746</td>\n",
       "      <td>0</td>\n",
       "      <td>1</td>\n",
       "      <td>Crosby, Capt. Edward Gifford</td>\n",
       "      <td>male</td>\n",
       "      <td>70.0</td>\n",
       "      <td>1</td>\n",
       "      <td>1</td>\n",
       "      <td>WE/P 5735</td>\n",
       "      <td>71.0000</td>\n",
       "      <td>B22</td>\n",
       "      <td>S</td>\n",
       "    </tr>\n",
       "    <tr>\n",
       "      <th>851</th>\n",
       "      <td>852</td>\n",
       "      <td>0</td>\n",
       "      <td>3</td>\n",
       "      <td>Svensson, Mr. Johan</td>\n",
       "      <td>male</td>\n",
       "      <td>74.0</td>\n",
       "      <td>0</td>\n",
       "      <td>0</td>\n",
       "      <td>347060</td>\n",
       "      <td>7.7750</td>\n",
       "      <td>NaN</td>\n",
       "      <td>S</td>\n",
       "    </tr>\n",
       "  </tbody>\n",
       "</table>\n",
       "</div>"
      ],
      "text/plain": [
       "     PassengerId  Survived  Pclass                                  Name  \\\n",
       "33            34         0       2                 Wheadon, Mr. Edward H   \n",
       "96            97         0       1             Goldschmidt, Mr. George B   \n",
       "116          117         0       3                  Connors, Mr. Patrick   \n",
       "493          494         0       1               Artagaveytia, Mr. Ramon   \n",
       "630          631         1       1  Barkworth, Mr. Algernon Henry Wilson   \n",
       "672          673         0       2           Mitchell, Mr. Henry Michael   \n",
       "745          746         0       1          Crosby, Capt. Edward Gifford   \n",
       "851          852         0       3                   Svensson, Mr. Johan   \n",
       "\n",
       "      Sex   Age  SibSp  Parch      Ticket     Fare Cabin Embarked  \n",
       "33   male  66.0      0      0  C.A. 24579  10.5000   NaN        S  \n",
       "96   male  71.0      0      0    PC 17754  34.6542    A5        C  \n",
       "116  male  70.5      0      0      370369   7.7500   NaN        Q  \n",
       "493  male  71.0      0      0    PC 17609  49.5042   NaN        C  \n",
       "630  male  80.0      0      0       27042  30.0000   A23        S  \n",
       "672  male  70.0      0      0  C.A. 24580  10.5000   NaN        S  \n",
       "745  male  70.0      1      1   WE/P 5735  71.0000   B22        S  \n",
       "851  male  74.0      0      0      347060   7.7750   NaN        S  "
      ]
     },
     "execution_count": 13,
     "metadata": {},
     "output_type": "execute_result"
    }
   ],
   "source": [
    "# Are the outliers in the boxplot questionable ?\n",
    "df[df['Age']>65]"
   ]
  },
  {
   "cell_type": "code",
   "execution_count": 14,
   "id": "5bb04ea7",
   "metadata": {
    "execution": {
     "iopub.execute_input": "2024-08-26T10:23:54.497262Z",
     "iopub.status.busy": "2024-08-26T10:23:54.496814Z",
     "iopub.status.idle": "2024-08-26T10:23:54.505222Z",
     "shell.execute_reply": "2024-08-26T10:23:54.504125Z"
    },
    "papermill": {
     "duration": 0.053452,
     "end_time": "2024-08-26T10:23:54.507622",
     "exception": false,
     "start_time": "2024-08-26T10:23:54.454170",
     "status": "completed"
    },
    "tags": []
   },
   "outputs": [
    {
     "data": {
      "text/plain": [
       "19.865319865319865"
      ]
     },
     "execution_count": 14,
     "metadata": {},
     "output_type": "execute_result"
    }
   ],
   "source": [
    "# missing values\n",
    "(df['Age'].isnull().sum()/len(df['Age']))*100"
   ]
  },
  {
   "cell_type": "markdown",
   "id": "5baab8b8",
   "metadata": {
    "papermill": {
     "duration": 0.0414,
     "end_time": "2024-08-26T10:23:54.589993",
     "exception": false,
     "start_time": "2024-08-26T10:23:54.548593",
     "status": "completed"
    },
    "tags": []
   },
   "source": [
    "#### Conclusion :\n",
    "* From the descriptive summary it is observed that highest aged passenger is of age *80* and lowest aged passenger is an infant.\n",
    "* It can be observed from the density plot and histogram that most of the passengers are between the age of *20-40*. There are very few passengers over the age 70.\n",
    "* Boxplot suggests that 'Age' column has outliers, but scrutinizing the data which are considered as outliers by the boxplot it can be concluded that there is nothing considered to be questionable in those outliers.\n",
    "* Approximately *20%* observations are missing. "
   ]
  },
  {
   "cell_type": "markdown",
   "id": "ae7f2884",
   "metadata": {
    "papermill": {
     "duration": 0.043422,
     "end_time": "2024-08-26T10:23:54.674590",
     "exception": false,
     "start_time": "2024-08-26T10:23:54.631168",
     "status": "completed"
    },
    "tags": []
   },
   "source": [
    "### **4.2 Fare**"
   ]
  },
  {
   "cell_type": "code",
   "execution_count": 15,
   "id": "98b67eaa",
   "metadata": {
    "execution": {
     "iopub.execute_input": "2024-08-26T10:23:54.760640Z",
     "iopub.status.busy": "2024-08-26T10:23:54.760185Z",
     "iopub.status.idle": "2024-08-26T10:23:54.772997Z",
     "shell.execute_reply": "2024-08-26T10:23:54.771809Z"
    },
    "papermill": {
     "duration": 0.058754,
     "end_time": "2024-08-26T10:23:54.775667",
     "exception": false,
     "start_time": "2024-08-26T10:23:54.716913",
     "status": "completed"
    },
    "tags": []
   },
   "outputs": [
    {
     "data": {
      "text/plain": [
       "count    891.000000\n",
       "mean      32.204208\n",
       "std       49.693429\n",
       "min        0.000000\n",
       "25%        7.910400\n",
       "50%       14.454200\n",
       "75%       31.000000\n",
       "max      512.329200\n",
       "Name: Fare, dtype: float64"
      ]
     },
     "execution_count": 15,
     "metadata": {},
     "output_type": "execute_result"
    }
   ],
   "source": [
    "df['Fare'].describe()"
   ]
  },
  {
   "cell_type": "code",
   "execution_count": 16,
   "id": "5625849a",
   "metadata": {
    "execution": {
     "iopub.execute_input": "2024-08-26T10:23:54.860076Z",
     "iopub.status.busy": "2024-08-26T10:23:54.859543Z",
     "iopub.status.idle": "2024-08-26T10:23:55.218792Z",
     "shell.execute_reply": "2024-08-26T10:23:55.217639Z"
    },
    "papermill": {
     "duration": 0.404985,
     "end_time": "2024-08-26T10:23:55.221488",
     "exception": false,
     "start_time": "2024-08-26T10:23:54.816503",
     "status": "completed"
    },
    "tags": []
   },
   "outputs": [
    {
     "name": "stderr",
     "output_type": "stream",
     "text": [
      "/opt/conda/lib/python3.10/site-packages/seaborn/_oldcore.py:1119: FutureWarning: use_inf_as_na option is deprecated and will be removed in a future version. Convert inf values to NaN before operating instead.\n",
      "  with pd.option_context('mode.use_inf_as_na', True):\n"
     ]
    },
    {
     "data": {
      "text/plain": [
       "<seaborn.axisgrid.FacetGrid at 0x7cc507a4ae30>"
      ]
     },
     "execution_count": 16,
     "metadata": {},
     "output_type": "execute_result"
    },
    {
     "data": {
      "image/png": "[encoded data removed]",
      "text/plain": [
       "<Figure size 500x500 with 1 Axes>"
      ]
     },
     "metadata": {},
     "output_type": "display_data"
    }
   ],
   "source": [
    "# histogram\n",
    "sns.displot(df,x='Fare',bins=20,kind='hist')"
   ]
  },
  {
   "cell_type": "code",
   "execution_count": 17,
   "id": "4588c7ca",
   "metadata": {
    "execution": {
     "iopub.execute_input": "2024-08-26T10:23:55.310467Z",
     "iopub.status.busy": "2024-08-26T10:23:55.310008Z",
     "iopub.status.idle": "2024-08-26T10:23:55.319560Z",
     "shell.execute_reply": "2024-08-26T10:23:55.318460Z"
    },
    "papermill": {
     "duration": 0.05698,
     "end_time": "2024-08-26T10:23:55.321952",
     "exception": false,
     "start_time": "2024-08-26T10:23:55.264972",
     "status": "completed"
    },
    "tags": []
   },
   "outputs": [
    {
     "data": {
      "text/plain": [
       "4.787316519674893"
      ]
     },
     "execution_count": 17,
     "metadata": {},
     "output_type": "execute_result"
    }
   ],
   "source": [
    "# skewness\n",
    "df['Fare'].skew()"
   ]
  },
  {
   "cell_type": "code",
   "execution_count": 18,
   "id": "584aa5d1",
   "metadata": {
    "execution": {
     "iopub.execute_input": "2024-08-26T10:23:55.411841Z",
     "iopub.status.busy": "2024-08-26T10:23:55.411376Z",
     "iopub.status.idle": "2024-08-26T10:23:55.751717Z",
     "shell.execute_reply": "2024-08-26T10:23:55.749878Z"
    },
    "papermill": {
     "duration": 0.388989,
     "end_time": "2024-08-26T10:23:55.754799",
     "exception": false,
     "start_time": "2024-08-26T10:23:55.365810",
     "status": "completed"
    },
    "tags": []
   },
   "outputs": [
    {
     "data": {
      "text/plain": [
       "<seaborn.axisgrid.FacetGrid at 0x7cc507a4aef0>"
      ]
     },
     "execution_count": 18,
     "metadata": {},
     "output_type": "execute_result"
    },
    {
     "data": {
      "image/png": "[encoded data removed]",
      "text/plain": [
       "<Figure size 500x500 with 1 Axes>"
      ]
     },
     "metadata": {},
     "output_type": "display_data"
    }
   ],
   "source": [
    "# identifying outlier\n",
    "sns.catplot(df,y='Fare',kind='box')"
   ]
  },
  {
   "cell_type": "code",
   "execution_count": 19,
   "id": "92588f1d",
   "metadata": {
    "execution": {
     "iopub.execute_input": "2024-08-26T10:23:55.841258Z",
     "iopub.status.busy": "2024-08-26T10:23:55.840762Z",
     "iopub.status.idle": "2024-08-26T10:23:55.861693Z",
     "shell.execute_reply": "2024-08-26T10:23:55.860572Z"
    },
    "papermill": {
     "duration": 0.066721,
     "end_time": "2024-08-26T10:23:55.864329",
     "exception": false,
     "start_time": "2024-08-26T10:23:55.797608",
     "status": "completed"
    },
    "tags": []
   },
   "outputs": [
    {
     "data": {
      "text/html": [
       "<div>\n",
       "<style scoped>\n",
       "    .dataframe tbody tr th:only-of-type {\n",
       "        vertical-align: middle;\n",
       "    }\n",
       "\n",
       "    .dataframe tbody tr th {\n",
       "        vertical-align: top;\n",
       "    }\n",
       "\n",
       "    .dataframe thead th {\n",
       "        text-align: right;\n",
       "    }\n",
       "</style>\n",
       "<table border=\"1\" class=\"dataframe\">\n",
       "  <thead>\n",
       "    <tr style=\"text-align: right;\">\n",
       "      <th></th>\n",
       "      <th>PassengerId</th>\n",
       "      <th>Survived</th>\n",
       "      <th>Pclass</th>\n",
       "      <th>Name</th>\n",
       "      <th>Sex</th>\n",
       "      <th>Age</th>\n",
       "      <th>SibSp</th>\n",
       "      <th>Parch</th>\n",
       "      <th>Ticket</th>\n",
       "      <th>Fare</th>\n",
       "      <th>Cabin</th>\n",
       "      <th>Embarked</th>\n",
       "    </tr>\n",
       "  </thead>\n",
       "  <tbody>\n",
       "    <tr>\n",
       "      <th>27</th>\n",
       "      <td>28</td>\n",
       "      <td>0</td>\n",
       "      <td>1</td>\n",
       "      <td>Fortune, Mr. Charles Alexander</td>\n",
       "      <td>male</td>\n",
       "      <td>19.0</td>\n",
       "      <td>3</td>\n",
       "      <td>2</td>\n",
       "      <td>19950</td>\n",
       "      <td>263.0000</td>\n",
       "      <td>C23 C25 C27</td>\n",
       "      <td>S</td>\n",
       "    </tr>\n",
       "    <tr>\n",
       "      <th>88</th>\n",
       "      <td>89</td>\n",
       "      <td>1</td>\n",
       "      <td>1</td>\n",
       "      <td>Fortune, Miss. Mabel Helen</td>\n",
       "      <td>female</td>\n",
       "      <td>23.0</td>\n",
       "      <td>3</td>\n",
       "      <td>2</td>\n",
       "      <td>19950</td>\n",
       "      <td>263.0000</td>\n",
       "      <td>C23 C25 C27</td>\n",
       "      <td>S</td>\n",
       "    </tr>\n",
       "    <tr>\n",
       "      <th>258</th>\n",
       "      <td>259</td>\n",
       "      <td>1</td>\n",
       "      <td>1</td>\n",
       "      <td>Ward, Miss. Anna</td>\n",
       "      <td>female</td>\n",
       "      <td>35.0</td>\n",
       "      <td>0</td>\n",
       "      <td>0</td>\n",
       "      <td>PC 17755</td>\n",
       "      <td>512.3292</td>\n",
       "      <td>NaN</td>\n",
       "      <td>C</td>\n",
       "    </tr>\n",
       "    <tr>\n",
       "      <th>311</th>\n",
       "      <td>312</td>\n",
       "      <td>1</td>\n",
       "      <td>1</td>\n",
       "      <td>Ryerson, Miss. Emily Borie</td>\n",
       "      <td>female</td>\n",
       "      <td>18.0</td>\n",
       "      <td>2</td>\n",
       "      <td>2</td>\n",
       "      <td>PC 17608</td>\n",
       "      <td>262.3750</td>\n",
       "      <td>B57 B59 B63 B66</td>\n",
       "      <td>C</td>\n",
       "    </tr>\n",
       "    <tr>\n",
       "      <th>341</th>\n",
       "      <td>342</td>\n",
       "      <td>1</td>\n",
       "      <td>1</td>\n",
       "      <td>Fortune, Miss. Alice Elizabeth</td>\n",
       "      <td>female</td>\n",
       "      <td>24.0</td>\n",
       "      <td>3</td>\n",
       "      <td>2</td>\n",
       "      <td>19950</td>\n",
       "      <td>263.0000</td>\n",
       "      <td>C23 C25 C27</td>\n",
       "      <td>S</td>\n",
       "    </tr>\n",
       "    <tr>\n",
       "      <th>438</th>\n",
       "      <td>439</td>\n",
       "      <td>0</td>\n",
       "      <td>1</td>\n",
       "      <td>Fortune, Mr. Mark</td>\n",
       "      <td>male</td>\n",
       "      <td>64.0</td>\n",
       "      <td>1</td>\n",
       "      <td>4</td>\n",
       "      <td>19950</td>\n",
       "      <td>263.0000</td>\n",
       "      <td>C23 C25 C27</td>\n",
       "      <td>S</td>\n",
       "    </tr>\n",
       "    <tr>\n",
       "      <th>679</th>\n",
       "      <td>680</td>\n",
       "      <td>1</td>\n",
       "      <td>1</td>\n",
       "      <td>Cardeza, Mr. Thomas Drake Martinez</td>\n",
       "      <td>male</td>\n",
       "      <td>36.0</td>\n",
       "      <td>0</td>\n",
       "      <td>1</td>\n",
       "      <td>PC 17755</td>\n",
       "      <td>512.3292</td>\n",
       "      <td>B51 B53 B55</td>\n",
       "      <td>C</td>\n",
       "    </tr>\n",
       "    <tr>\n",
       "      <th>737</th>\n",
       "      <td>738</td>\n",
       "      <td>1</td>\n",
       "      <td>1</td>\n",
       "      <td>Lesurer, Mr. Gustave J</td>\n",
       "      <td>male</td>\n",
       "      <td>35.0</td>\n",
       "      <td>0</td>\n",
       "      <td>0</td>\n",
       "      <td>PC 17755</td>\n",
       "      <td>512.3292</td>\n",
       "      <td>B101</td>\n",
       "      <td>C</td>\n",
       "    </tr>\n",
       "    <tr>\n",
       "      <th>742</th>\n",
       "      <td>743</td>\n",
       "      <td>1</td>\n",
       "      <td>1</td>\n",
       "      <td>Ryerson, Miss. Susan Parker \"Suzette\"</td>\n",
       "      <td>female</td>\n",
       "      <td>21.0</td>\n",
       "      <td>2</td>\n",
       "      <td>2</td>\n",
       "      <td>PC 17608</td>\n",
       "      <td>262.3750</td>\n",
       "      <td>B57 B59 B63 B66</td>\n",
       "      <td>C</td>\n",
       "    </tr>\n",
       "  </tbody>\n",
       "</table>\n",
       "</div>"
      ],
      "text/plain": [
       "     PassengerId  Survived  Pclass                                   Name  \\\n",
       "27            28         0       1         Fortune, Mr. Charles Alexander   \n",
       "88            89         1       1             Fortune, Miss. Mabel Helen   \n",
       "258          259         1       1                       Ward, Miss. Anna   \n",
       "311          312         1       1             Ryerson, Miss. Emily Borie   \n",
       "341          342         1       1         Fortune, Miss. Alice Elizabeth   \n",
       "438          439         0       1                      Fortune, Mr. Mark   \n",
       "679          680         1       1     Cardeza, Mr. Thomas Drake Martinez   \n",
       "737          738         1       1                 Lesurer, Mr. Gustave J   \n",
       "742          743         1       1  Ryerson, Miss. Susan Parker \"Suzette\"   \n",
       "\n",
       "        Sex   Age  SibSp  Parch    Ticket      Fare            Cabin Embarked  \n",
       "27     male  19.0      3      2     19950  263.0000      C23 C25 C27        S  \n",
       "88   female  23.0      3      2     19950  263.0000      C23 C25 C27        S  \n",
       "258  female  35.0      0      0  PC 17755  512.3292              NaN        C  \n",
       "311  female  18.0      2      2  PC 17608  262.3750  B57 B59 B63 B66        C  \n",
       "341  female  24.0      3      2     19950  263.0000      C23 C25 C27        S  \n",
       "438    male  64.0      1      4     19950  263.0000      C23 C25 C27        S  \n",
       "679    male  36.0      0      1  PC 17755  512.3292      B51 B53 B55        C  \n",
       "737    male  35.0      0      0  PC 17755  512.3292             B101        C  \n",
       "742  female  21.0      2      2  PC 17608  262.3750  B57 B59 B63 B66        C  "
      ]
     },
     "execution_count": 19,
     "metadata": {},
     "output_type": "execute_result"
    }
   ],
   "source": [
    "# observing outliers\n",
    "df[df['Fare']>250]"
   ]
  },
  {
   "cell_type": "code",
   "execution_count": 20,
   "id": "71cafb6e",
   "metadata": {
    "execution": {
     "iopub.execute_input": "2024-08-26T10:23:55.954648Z",
     "iopub.status.busy": "2024-08-26T10:23:55.954200Z",
     "iopub.status.idle": "2024-08-26T10:23:55.962366Z",
     "shell.execute_reply": "2024-08-26T10:23:55.961182Z"
    },
    "papermill": {
     "duration": 0.056673,
     "end_time": "2024-08-26T10:23:55.964804",
     "exception": false,
     "start_time": "2024-08-26T10:23:55.908131",
     "status": "completed"
    },
    "tags": []
   },
   "outputs": [
    {
     "data": {
      "text/plain": [
       "0"
      ]
     },
     "execution_count": 20,
     "metadata": {},
     "output_type": "execute_result"
    }
   ],
   "source": [
    "# missing values\n",
    "df['Fare'].isnull().sum()"
   ]
  },
  {
   "cell_type": "markdown",
   "id": "465068fe",
   "metadata": {
    "papermill": {
     "duration": 0.041556,
     "end_time": "2024-08-26T10:23:56.048216",
     "exception": false,
     "start_time": "2024-08-26T10:23:56.006660",
     "status": "completed"
    },
    "tags": []
   },
   "source": [
    "#### Conclusion :\n",
    "* From the statistical summary, the maximum fare paid by a passenger *512.3292 dollars* and there is someone(or more) who is travelling for free. Standard deviation is very high.\n",
    "* Highly positively skewed.\n",
    "* There are so many observations which are considered as earlier. But this happens because most of the passengers have paid an amount of *0-150 dollars* but there are very few persons who have paid over *200 dollars*.\n",
    "\n",
    "**But but but**, there is one problem which is there are some rows which gives us the fare of the overall family(see \"df[df['Fare']>250]\"). Thats why, we are getting those large amount of fare like 512 dollars. It gives us a wrong picture of this column hence we must note this and modify it to transform into the individual fare in the *Feature engineering* section. \n",
    "* There is no missing value."
   ]
  },
  {
   "cell_type": "markdown",
   "id": "760706ca",
   "metadata": {
    "papermill": {
     "duration": 0.042423,
     "end_time": "2024-08-26T10:23:56.132833",
     "exception": false,
     "start_time": "2024-08-26T10:23:56.090410",
     "status": "completed"
    },
    "tags": []
   },
   "source": [
    "### **4.3 Survived**"
   ]
  },
  {
   "cell_type": "code",
   "execution_count": 21,
   "id": "351e25cb",
   "metadata": {
    "execution": {
     "iopub.execute_input": "2024-08-26T10:23:56.220537Z",
     "iopub.status.busy": "2024-08-26T10:23:56.220089Z",
     "iopub.status.idle": "2024-08-26T10:23:56.230590Z",
     "shell.execute_reply": "2024-08-26T10:23:56.229578Z"
    },
    "papermill": {
     "duration": 0.056158,
     "end_time": "2024-08-26T10:23:56.232956",
     "exception": false,
     "start_time": "2024-08-26T10:23:56.176798",
     "status": "completed"
    },
    "tags": []
   },
   "outputs": [
    {
     "data": {
      "text/plain": [
       "Survived\n",
       "0    549\n",
       "1    342\n",
       "Name: count, dtype: int64"
      ]
     },
     "execution_count": 21,
     "metadata": {},
     "output_type": "execute_result"
    }
   ],
   "source": [
    "# getting data on how many of them survived and how many not\n",
    "df['Survived'].value_counts()"
   ]
  },
  {
   "cell_type": "code",
   "execution_count": 22,
   "id": "857d99f5",
   "metadata": {
    "execution": {
     "iopub.execute_input": "2024-08-26T10:23:56.323236Z",
     "iopub.status.busy": "2024-08-26T10:23:56.322780Z",
     "iopub.status.idle": "2024-08-26T10:23:56.468097Z",
     "shell.execute_reply": "2024-08-26T10:23:56.466929Z"
    },
    "papermill": {
     "duration": 0.194571,
     "end_time": "2024-08-26T10:23:56.470651",
     "exception": false,
     "start_time": "2024-08-26T10:23:56.276080",
     "status": "completed"
    },
    "tags": []
   },
   "outputs": [
    {
     "data": {
      "text/plain": [
       "<Axes: ylabel='count'>"
      ]
     },
     "execution_count": 22,
     "metadata": {},
     "output_type": "execute_result"
    },
    {
     "data": {
      "image/png": "[encoded data removed]",
      "text/plain": [
       "<Figure size 640x480 with 1 Axes>"
      ]
     },
     "metadata": {},
     "output_type": "display_data"
    }
   ],
   "source": [
    "# getting data on how many of them survived and how many not based on 'Plot'\n",
    "df['Survived'].value_counts().plot(kind='pie',autopct = '%0.1f%%')"
   ]
  },
  {
   "cell_type": "code",
   "execution_count": 23,
   "id": "30a04513",
   "metadata": {
    "execution": {
     "iopub.execute_input": "2024-08-26T10:23:56.563480Z",
     "iopub.status.busy": "2024-08-26T10:23:56.563064Z",
     "iopub.status.idle": "2024-08-26T10:23:56.571171Z",
     "shell.execute_reply": "2024-08-26T10:23:56.569887Z"
    },
    "papermill": {
     "duration": 0.057536,
     "end_time": "2024-08-26T10:23:56.573617",
     "exception": false,
     "start_time": "2024-08-26T10:23:56.516081",
     "status": "completed"
    },
    "tags": []
   },
   "outputs": [
    {
     "data": {
      "text/plain": [
       "0"
      ]
     },
     "execution_count": 23,
     "metadata": {},
     "output_type": "execute_result"
    }
   ],
   "source": [
    "# missing values\n",
    "df['Survived'].isnull().sum()"
   ]
  },
  {
   "cell_type": "markdown",
   "id": "b55848b7",
   "metadata": {
    "papermill": {
     "duration": 0.045889,
     "end_time": "2024-08-26T10:23:56.662806",
     "exception": false,
     "start_time": "2024-08-26T10:23:56.616917",
     "status": "completed"
    },
    "tags": []
   },
   "source": [
    "#### Conclusion :\n",
    "* There are *342 passengers* who has survived and *549 passengers* were deceased.\n",
    "* There are no missing data."
   ]
  },
  {
   "cell_type": "markdown",
   "id": "7ae01268",
   "metadata": {
    "papermill": {
     "duration": 0.043112,
     "end_time": "2024-08-26T10:23:56.749877",
     "exception": false,
     "start_time": "2024-08-26T10:23:56.706765",
     "status": "completed"
    },
    "tags": []
   },
   "source": [
    "### **4.4 Pclass**"
   ]
  },
  {
   "cell_type": "code",
   "execution_count": 24,
   "id": "0dd51ef2",
   "metadata": {
    "execution": {
     "iopub.execute_input": "2024-08-26T10:23:56.840021Z",
     "iopub.status.busy": "2024-08-26T10:23:56.839549Z",
     "iopub.status.idle": "2024-08-26T10:23:56.848653Z",
     "shell.execute_reply": "2024-08-26T10:23:56.847450Z"
    },
    "papermill": {
     "duration": 0.05719,
     "end_time": "2024-08-26T10:23:56.851306",
     "exception": false,
     "start_time": "2024-08-26T10:23:56.794116",
     "status": "completed"
    },
    "tags": []
   },
   "outputs": [
    {
     "data": {
      "text/plain": [
       "Pclass\n",
       "3    491\n",
       "1    216\n",
       "2    184\n",
       "Name: count, dtype: int64"
      ]
     },
     "execution_count": 24,
     "metadata": {},
     "output_type": "execute_result"
    }
   ],
   "source": [
    "df['Pclass'].value_counts()"
   ]
  },
  {
   "cell_type": "code",
   "execution_count": 25,
   "id": "858345bf",
   "metadata": {
    "execution": {
     "iopub.execute_input": "2024-08-26T10:23:56.940992Z",
     "iopub.status.busy": "2024-08-26T10:23:56.939810Z",
     "iopub.status.idle": "2024-08-26T10:23:57.087519Z",
     "shell.execute_reply": "2024-08-26T10:23:57.085940Z"
    },
    "papermill": {
     "duration": 0.196758,
     "end_time": "2024-08-26T10:23:57.091905",
     "exception": false,
     "start_time": "2024-08-26T10:23:56.895147",
     "status": "completed"
    },
    "tags": []
   },
   "outputs": [
    {
     "data": {
      "text/plain": [
       "<Axes: ylabel='count'>"
      ]
     },
     "execution_count": 25,
     "metadata": {},
     "output_type": "execute_result"
    },
    {
     "data": {
      "image/png": "[encoded data removed]",
      "text/plain": [
       "<Figure size 640x480 with 1 Axes>"
      ]
     },
     "metadata": {},
     "output_type": "display_data"
    }
   ],
   "source": [
    "df['Pclass'].value_counts().plot(kind='pie',autopct = '%0.1f%%')"
   ]
  },
  {
   "cell_type": "code",
   "execution_count": 26,
   "id": "61aacfbb",
   "metadata": {
    "execution": {
     "iopub.execute_input": "2024-08-26T10:23:57.216173Z",
     "iopub.status.busy": "2024-08-26T10:23:57.214883Z",
     "iopub.status.idle": "2024-08-26T10:23:57.223341Z",
     "shell.execute_reply": "2024-08-26T10:23:57.222189Z"
    },
    "papermill": {
     "duration": 0.058628,
     "end_time": "2024-08-26T10:23:57.226560",
     "exception": false,
     "start_time": "2024-08-26T10:23:57.167932",
     "status": "completed"
    },
    "tags": []
   },
   "outputs": [
    {
     "data": {
      "text/plain": [
       "0"
      ]
     },
     "execution_count": 26,
     "metadata": {},
     "output_type": "execute_result"
    }
   ],
   "source": [
    "df['Pclass'].isnull().sum()"
   ]
  },
  {
   "cell_type": "markdown",
   "id": "ee41fa3d",
   "metadata": {
    "papermill": {
     "duration": 0.044208,
     "end_time": "2024-08-26T10:23:57.315719",
     "exception": false,
     "start_time": "2024-08-26T10:23:57.271511",
     "status": "completed"
    },
    "tags": []
   },
   "source": [
    "### **4.5 Sex**"
   ]
  },
  {
   "cell_type": "code",
   "execution_count": 27,
   "id": "6d00f376",
   "metadata": {
    "execution": {
     "iopub.execute_input": "2024-08-26T10:23:57.413622Z",
     "iopub.status.busy": "2024-08-26T10:23:57.413194Z",
     "iopub.status.idle": "2024-08-26T10:23:57.423093Z",
     "shell.execute_reply": "2024-08-26T10:23:57.421550Z"
    },
    "papermill": {
     "duration": 0.061355,
     "end_time": "2024-08-26T10:23:57.425774",
     "exception": false,
     "start_time": "2024-08-26T10:23:57.364419",
     "status": "completed"
    },
    "tags": []
   },
   "outputs": [
    {
     "data": {
      "text/plain": [
       "Sex\n",
       "male      577\n",
       "female    314\n",
       "Name: count, dtype: int64"
      ]
     },
     "execution_count": 27,
     "metadata": {},
     "output_type": "execute_result"
    }
   ],
   "source": [
    "df['Sex'].value_counts()"
   ]
  },
  {
   "cell_type": "code",
   "execution_count": 28,
   "id": "6e5e0e6a",
   "metadata": {
    "execution": {
     "iopub.execute_input": "2024-08-26T10:23:57.518972Z",
     "iopub.status.busy": "2024-08-26T10:23:57.518522Z",
     "iopub.status.idle": "2024-08-26T10:23:57.667705Z",
     "shell.execute_reply": "2024-08-26T10:23:57.666046Z"
    },
    "papermill": {
     "duration": 0.19895,
     "end_time": "2024-08-26T10:23:57.671860",
     "exception": false,
     "start_time": "2024-08-26T10:23:57.472910",
     "status": "completed"
    },
    "tags": []
   },
   "outputs": [
    {
     "data": {
      "text/plain": [
       "<Axes: ylabel='count'>"
      ]
     },
     "execution_count": 28,
     "metadata": {},
     "output_type": "execute_result"
    },
    {
     "data": {
      "image/png": "[encoded data removed]",
      "text/plain": [
       "<Figure size 640x480 with 1 Axes>"
      ]
     },
     "metadata": {},
     "output_type": "display_data"
    }
   ],
   "source": [
    "df['Sex'].value_counts().plot(kind='pie',autopct = '%0.1f%%')"
   ]
  },
  {
   "cell_type": "code",
   "execution_count": 29,
   "id": "b3d2b087",
   "metadata": {
    "execution": {
     "iopub.execute_input": "2024-08-26T10:23:57.804191Z",
     "iopub.status.busy": "2024-08-26T10:23:57.803112Z",
     "iopub.status.idle": "2024-08-26T10:23:57.811482Z",
     "shell.execute_reply": "2024-08-26T10:23:57.810281Z"
    },
    "papermill": {
     "duration": 0.061734,
     "end_time": "2024-08-26T10:23:57.813952",
     "exception": false,
     "start_time": "2024-08-26T10:23:57.752218",
     "status": "completed"
    },
    "tags": []
   },
   "outputs": [
    {
     "data": {
      "text/plain": [
       "0"
      ]
     },
     "execution_count": 29,
     "metadata": {},
     "output_type": "execute_result"
    }
   ],
   "source": [
    "df['Survived'].isnull().sum()"
   ]
  },
  {
   "cell_type": "markdown",
   "id": "3f57189e",
   "metadata": {
    "papermill": {
     "duration": 0.045181,
     "end_time": "2024-08-26T10:23:57.906359",
     "exception": false,
     "start_time": "2024-08-26T10:23:57.861178",
     "status": "completed"
    },
    "tags": []
   },
   "source": [
    "### **4.6 Sibsp**"
   ]
  },
  {
   "cell_type": "code",
   "execution_count": 30,
   "id": "b541d4b6",
   "metadata": {
    "execution": {
     "iopub.execute_input": "2024-08-26T10:23:58.001575Z",
     "iopub.status.busy": "2024-08-26T10:23:58.001151Z",
     "iopub.status.idle": "2024-08-26T10:23:58.011349Z",
     "shell.execute_reply": "2024-08-26T10:23:58.010196Z"
    },
    "papermill": {
     "duration": 0.062341,
     "end_time": "2024-08-26T10:23:58.014107",
     "exception": false,
     "start_time": "2024-08-26T10:23:57.951766",
     "status": "completed"
    },
    "tags": []
   },
   "outputs": [
    {
     "data": {
      "text/plain": [
       "SibSp\n",
       "0    608\n",
       "1    209\n",
       "2     28\n",
       "4     18\n",
       "3     16\n",
       "8      7\n",
       "5      5\n",
       "Name: count, dtype: int64"
      ]
     },
     "execution_count": 30,
     "metadata": {},
     "output_type": "execute_result"
    }
   ],
   "source": [
    "df['SibSp'].value_counts()"
   ]
  },
  {
   "cell_type": "code",
   "execution_count": 31,
   "id": "ed404435",
   "metadata": {
    "execution": {
     "iopub.execute_input": "2024-08-26T10:23:58.107912Z",
     "iopub.status.busy": "2024-08-26T10:23:58.107447Z",
     "iopub.status.idle": "2024-08-26T10:23:58.481326Z",
     "shell.execute_reply": "2024-08-26T10:23:58.480154Z"
    },
    "papermill": {
     "duration": 0.423482,
     "end_time": "2024-08-26T10:23:58.483871",
     "exception": false,
     "start_time": "2024-08-26T10:23:58.060389",
     "status": "completed"
    },
    "tags": []
   },
   "outputs": [
    {
     "data": {
      "text/plain": [
       "<Axes: xlabel='SibSp'>"
      ]
     },
     "execution_count": 31,
     "metadata": {},
     "output_type": "execute_result"
    },
    {
     "data": {
      "image/png": "[encoded data removed]",
      "text/plain": [
       "<Figure size 640x480 with 1 Axes>"
      ]
     },
     "metadata": {},
     "output_type": "display_data"
    }
   ],
   "source": [
    "df['SibSp'].value_counts().plot(kind='bar')"
   ]
  },
  {
   "cell_type": "markdown",
   "id": "e2e31208",
   "metadata": {
    "papermill": {
     "duration": 0.048407,
     "end_time": "2024-08-26T10:23:58.578102",
     "exception": false,
     "start_time": "2024-08-26T10:23:58.529695",
     "status": "completed"
    },
    "tags": []
   },
   "source": [
    "### **4.7 Parch**"
   ]
  },
  {
   "cell_type": "code",
   "execution_count": 32,
   "id": "284d8acb",
   "metadata": {
    "execution": {
     "iopub.execute_input": "2024-08-26T10:23:58.672910Z",
     "iopub.status.busy": "2024-08-26T10:23:58.672032Z",
     "iopub.status.idle": "2024-08-26T10:23:58.681981Z",
     "shell.execute_reply": "2024-08-26T10:23:58.680676Z"
    },
    "papermill": {
     "duration": 0.060355,
     "end_time": "2024-08-26T10:23:58.684456",
     "exception": false,
     "start_time": "2024-08-26T10:23:58.624101",
     "status": "completed"
    },
    "tags": []
   },
   "outputs": [
    {
     "data": {
      "text/plain": [
       "Parch\n",
       "0    678\n",
       "1    118\n",
       "2     80\n",
       "5      5\n",
       "3      5\n",
       "4      4\n",
       "6      1\n",
       "Name: count, dtype: int64"
      ]
     },
     "execution_count": 32,
     "metadata": {},
     "output_type": "execute_result"
    }
   ],
   "source": [
    "df['Parch'].value_counts()"
   ]
  },
  {
   "cell_type": "code",
   "execution_count": 33,
   "id": "6a97eaa3",
   "metadata": {
    "execution": {
     "iopub.execute_input": "2024-08-26T10:23:58.780931Z",
     "iopub.status.busy": "2024-08-26T10:23:58.780036Z",
     "iopub.status.idle": "2024-08-26T10:23:58.788196Z",
     "shell.execute_reply": "2024-08-26T10:23:58.787037Z"
    },
    "papermill": {
     "duration": 0.060187,
     "end_time": "2024-08-26T10:23:58.791263",
     "exception": false,
     "start_time": "2024-08-26T10:23:58.731076",
     "status": "completed"
    },
    "tags": []
   },
   "outputs": [
    {
     "data": {
      "text/plain": [
       "0"
      ]
     },
     "execution_count": 33,
     "metadata": {},
     "output_type": "execute_result"
    }
   ],
   "source": [
    "df['Parch'].isnull().sum()"
   ]
  },
  {
   "cell_type": "markdown",
   "id": "0a7b434b",
   "metadata": {
    "papermill": {
     "duration": 0.048289,
     "end_time": "2024-08-26T10:23:58.886342",
     "exception": false,
     "start_time": "2024-08-26T10:23:58.838053",
     "status": "completed"
    },
    "tags": []
   },
   "source": [
    "### **4.8 Embarked**"
   ]
  },
  {
   "cell_type": "code",
   "execution_count": 34,
   "id": "a4d0c46a",
   "metadata": {
    "execution": {
     "iopub.execute_input": "2024-08-26T10:23:58.980869Z",
     "iopub.status.busy": "2024-08-26T10:23:58.980283Z",
     "iopub.status.idle": "2024-08-26T10:23:58.992041Z",
     "shell.execute_reply": "2024-08-26T10:23:58.990780Z"
    },
    "papermill": {
     "duration": 0.062244,
     "end_time": "2024-08-26T10:23:58.994558",
     "exception": false,
     "start_time": "2024-08-26T10:23:58.932314",
     "status": "completed"
    },
    "tags": []
   },
   "outputs": [
    {
     "data": {
      "text/plain": [
       "Embarked\n",
       "S    644\n",
       "C    168\n",
       "Q     77\n",
       "Name: count, dtype: int64"
      ]
     },
     "execution_count": 34,
     "metadata": {},
     "output_type": "execute_result"
    }
   ],
   "source": [
    "df['Embarked'].value_counts()"
   ]
  },
  {
   "cell_type": "code",
   "execution_count": 35,
   "id": "28b1bdfd",
   "metadata": {
    "execution": {
     "iopub.execute_input": "2024-08-26T10:23:59.091505Z",
     "iopub.status.busy": "2024-08-26T10:23:59.091087Z",
     "iopub.status.idle": "2024-08-26T10:23:59.213691Z",
     "shell.execute_reply": "2024-08-26T10:23:59.212561Z"
    },
    "papermill": {
     "duration": 0.175848,
     "end_time": "2024-08-26T10:23:59.216403",
     "exception": false,
     "start_time": "2024-08-26T10:23:59.040555",
     "status": "completed"
    },
    "tags": []
   },
   "outputs": [
    {
     "data": {
      "text/plain": [
       "<Axes: ylabel='count'>"
      ]
     },
     "execution_count": 35,
     "metadata": {},
     "output_type": "execute_result"
    },
    {
     "data": {
      "image/png": "[encoded data removed]",
      "text/plain": [
       "<Figure size 640x480 with 1 Axes>"
      ]
     },
     "metadata": {},
     "output_type": "display_data"
    }
   ],
   "source": [
    "df['Embarked'].value_counts().plot(kind='pie',autopct = '%0.1f%%')"
   ]
  },
  {
   "cell_type": "code",
   "execution_count": 36,
   "id": "ffa39988",
   "metadata": {
    "execution": {
     "iopub.execute_input": "2024-08-26T10:23:59.316558Z",
     "iopub.status.busy": "2024-08-26T10:23:59.316050Z",
     "iopub.status.idle": "2024-08-26T10:23:59.324876Z",
     "shell.execute_reply": "2024-08-26T10:23:59.323631Z"
    },
    "papermill": {
     "duration": 0.06289,
     "end_time": "2024-08-26T10:23:59.327631",
     "exception": false,
     "start_time": "2024-08-26T10:23:59.264741",
     "status": "completed"
    },
    "tags": []
   },
   "outputs": [
    {
     "data": {
      "text/plain": [
       "2"
      ]
     },
     "execution_count": 36,
     "metadata": {},
     "output_type": "execute_result"
    }
   ],
   "source": [
    "df['Embarked'].isnull().sum()"
   ]
  },
  {
   "cell_type": "markdown",
   "id": "f9b8b622",
   "metadata": {
    "papermill": {
     "duration": 0.047332,
     "end_time": "2024-08-26T10:23:59.424028",
     "exception": false,
     "start_time": "2024-08-26T10:23:59.376696",
     "status": "completed"
    },
    "tags": []
   },
   "source": [
    "#### Conclusion from section 4.4,4.5,4.6,4.7 and 4.8:\n",
    "* Note that, in general it happens that number of persons decreases as the class of the ticket increases. But here is a exception which is approx 55% persons were travelling in the 3rd class and approx 24% in the 1st class whereas remaining 21% are travelling in the 2nd class. There is no null value in thsi column.\n",
    "* Among the total passengers there are 577 males and 314 females.\n",
    "* From the analysis of 'SibSp' column, it can be observed that from the total of 891 passengers there are 608 passengers who are travelling alone i.e they are travelling without their spouse and siblings.\n",
    "* From the analysis of 'ParCh' column, it can be observed that from the total of 891 passengers there are 678 passengers who are travelling without their parents and children.\n",
    "\n",
    "\n",
    "**But note that,the columns 'SibSp' and 'Parch' give the companion with whom the travellers are travelling.There is no need to exist these two seperate columns. They must be merged in a new column named 'family size'.** \n",
    "**A new column can also be formed named \"is_alone\". It helps us to observe is there any relationship of travelling alone and getting survived in the future sections.**\n",
    "* From the 'embarked' column, it can be observed that most of the passengers boarded the ship from *Southampton(from where the Ritanic started its journey)*. Titanic take two stops in the middle of the journey which are at *Cherbourg* and *Queenstown* from where *168* and *77* passengers boarded the ship respectively. There are *2* null values in this column."
   ]
  },
  {
   "cell_type": "markdown",
   "id": "45dda9c5",
   "metadata": {
    "papermill": {
     "duration": 0.049183,
     "end_time": "2024-08-26T10:23:59.522292",
     "exception": false,
     "start_time": "2024-08-26T10:23:59.473109",
     "status": "completed"
    },
    "tags": []
   },
   "source": [
    "<a id=\"Section-seven\" ></a>\n",
    "# **5. Bivariate analysis**"
   ]
  },
  {
   "cell_type": "markdown",
   "id": "df5c7eb9",
   "metadata": {
    "papermill": {
     "duration": 0.047721,
     "end_time": "2024-08-26T10:23:59.621460",
     "exception": false,
     "start_time": "2024-08-26T10:23:59.573739",
     "status": "completed"
    },
    "tags": []
   },
   "source": [
    "#### Note that, if we want to proceed for bivariate analysis then we have 11x10 = 110 combinantions of columns which is not feasible for us. Thats why, we must understand what is the column of respose variable in this data.\n",
    "**For this data, the response variable is \"Survived\"** We will compare this \"Survived\" column with all the other columns."
   ]
  },
  {
   "cell_type": "markdown",
   "id": "9e94eba7",
   "metadata": {
    "papermill": {
     "duration": 0.046649,
     "end_time": "2024-08-26T10:23:59.717117",
     "exception": false,
     "start_time": "2024-08-26T10:23:59.670468",
     "status": "completed"
    },
    "tags": []
   },
   "source": [
    "### **5.1 Survived and Pclass (Categorical - Categorical)**"
   ]
  },
  {
   "cell_type": "code",
   "execution_count": 37,
   "id": "3fcdecd6",
   "metadata": {
    "execution": {
     "iopub.execute_input": "2024-08-26T10:23:59.816603Z",
     "iopub.status.busy": "2024-08-26T10:23:59.816176Z",
     "iopub.status.idle": "2024-08-26T10:23:59.844471Z",
     "shell.execute_reply": "2024-08-26T10:23:59.843267Z"
    },
    "papermill": {
     "duration": 0.081716,
     "end_time": "2024-08-26T10:23:59.848530",
     "exception": false,
     "start_time": "2024-08-26T10:23:59.766814",
     "status": "completed"
    },
    "tags": []
   },
   "outputs": [
    {
     "data": {
      "text/html": [
       "<div>\n",
       "<style scoped>\n",
       "    .dataframe tbody tr th:only-of-type {\n",
       "        vertical-align: middle;\n",
       "    }\n",
       "\n",
       "    .dataframe tbody tr th {\n",
       "        vertical-align: top;\n",
       "    }\n",
       "\n",
       "    .dataframe thead th {\n",
       "        text-align: right;\n",
       "    }\n",
       "</style>\n",
       "<table border=\"1\" class=\"dataframe\">\n",
       "  <thead>\n",
       "    <tr style=\"text-align: right;\">\n",
       "      <th>Pclass</th>\n",
       "      <th>1</th>\n",
       "      <th>2</th>\n",
       "      <th>3</th>\n",
       "    </tr>\n",
       "    <tr>\n",
       "      <th>Survived</th>\n",
       "      <th></th>\n",
       "      <th></th>\n",
       "      <th></th>\n",
       "    </tr>\n",
       "  </thead>\n",
       "  <tbody>\n",
       "    <tr>\n",
       "      <th>0</th>\n",
       "      <td>37.037037</td>\n",
       "      <td>52.717391</td>\n",
       "      <td>75.763747</td>\n",
       "    </tr>\n",
       "    <tr>\n",
       "      <th>1</th>\n",
       "      <td>62.962963</td>\n",
       "      <td>47.282609</td>\n",
       "      <td>24.236253</td>\n",
       "    </tr>\n",
       "  </tbody>\n",
       "</table>\n",
       "</div>"
      ],
      "text/plain": [
       "Pclass            1          2          3\n",
       "Survived                                 \n",
       "0         37.037037  52.717391  75.763747\n",
       "1         62.962963  47.282609  24.236253"
      ]
     },
     "execution_count": 37,
     "metadata": {},
     "output_type": "execute_result"
    }
   ],
   "source": [
    "# crosstable of Pclass and Survived in percentage\n",
    "pd.crosstab(df['Survived'],df['Pclass'],normalize = 'columns')*100"
   ]
  },
  {
   "cell_type": "code",
   "execution_count": 38,
   "id": "da6bb5a3",
   "metadata": {
    "execution": {
     "iopub.execute_input": "2024-08-26T10:23:59.946913Z",
     "iopub.status.busy": "2024-08-26T10:23:59.946430Z",
     "iopub.status.idle": "2024-08-26T10:24:00.257158Z",
     "shell.execute_reply": "2024-08-26T10:24:00.255941Z"
    },
    "papermill": {
     "duration": 0.361982,
     "end_time": "2024-08-26T10:24:00.260086",
     "exception": false,
     "start_time": "2024-08-26T10:23:59.898104",
     "status": "completed"
    },
    "tags": []
   },
   "outputs": [
    {
     "data": {
      "text/plain": [
       "<Axes: xlabel='Pclass', ylabel='Survived'>"
      ]
     },
     "execution_count": 38,
     "metadata": {},
     "output_type": "execute_result"
    },
    {
     "data": {
      "image/png": "[encoded data removed]",
      "text/plain": [
       "<Figure size 640x480 with 2 Axes>"
      ]
     },
     "metadata": {},
     "output_type": "display_data"
    }
   ],
   "source": [
    "# Heatmap of Pclass and Survived\n",
    "sns.heatmap(pd.crosstab(df['Survived'],df['Pclass'],normalize = 'columns')*100,cmap='flare')"
   ]
  },
  {
   "cell_type": "markdown",
   "id": "5f56f6ad",
   "metadata": {
    "papermill": {
     "duration": 0.049205,
     "end_time": "2024-08-26T10:24:00.357752",
     "exception": false,
     "start_time": "2024-08-26T10:24:00.308547",
     "status": "completed"
    },
    "tags": []
   },
   "source": [
    "#### Conclusion\n",
    "Clearly, the heatmap depicts that it is *safer* to travel in Pclass 1 and dark violet color represents that it is **dangerous to be in Pclass 3**."
   ]
  },
  {
   "cell_type": "markdown",
   "id": "30ee1b4d",
   "metadata": {
    "papermill": {
     "duration": 0.047419,
     "end_time": "2024-08-26T10:24:00.452818",
     "exception": false,
     "start_time": "2024-08-26T10:24:00.405399",
     "status": "completed"
    },
    "tags": []
   },
   "source": [
    "### **5.2 Survived and Sex (Categorical - Categorical)**"
   ]
  },
  {
   "cell_type": "code",
   "execution_count": 39,
   "id": "7a5a25b0",
   "metadata": {
    "execution": {
     "iopub.execute_input": "2024-08-26T10:24:00.552207Z",
     "iopub.status.busy": "2024-08-26T10:24:00.551669Z",
     "iopub.status.idle": "2024-08-26T10:24:00.573732Z",
     "shell.execute_reply": "2024-08-26T10:24:00.572348Z"
    },
    "papermill": {
     "duration": 0.074618,
     "end_time": "2024-08-26T10:24:00.576657",
     "exception": false,
     "start_time": "2024-08-26T10:24:00.502039",
     "status": "completed"
    },
    "tags": []
   },
   "outputs": [
    {
     "data": {
      "text/html": [
       "<div>\n",
       "<style scoped>\n",
       "    .dataframe tbody tr th:only-of-type {\n",
       "        vertical-align: middle;\n",
       "    }\n",
       "\n",
       "    .dataframe tbody tr th {\n",
       "        vertical-align: top;\n",
       "    }\n",
       "\n",
       "    .dataframe thead th {\n",
       "        text-align: right;\n",
       "    }\n",
       "</style>\n",
       "<table border=\"1\" class=\"dataframe\">\n",
       "  <thead>\n",
       "    <tr style=\"text-align: right;\">\n",
       "      <th>Sex</th>\n",
       "      <th>female</th>\n",
       "      <th>male</th>\n",
       "    </tr>\n",
       "    <tr>\n",
       "      <th>Survived</th>\n",
       "      <th></th>\n",
       "      <th></th>\n",
       "    </tr>\n",
       "  </thead>\n",
       "  <tbody>\n",
       "    <tr>\n",
       "      <th>0</th>\n",
       "      <td>25.796178</td>\n",
       "      <td>81.109185</td>\n",
       "    </tr>\n",
       "    <tr>\n",
       "      <th>1</th>\n",
       "      <td>74.203822</td>\n",
       "      <td>18.890815</td>\n",
       "    </tr>\n",
       "  </tbody>\n",
       "</table>\n",
       "</div>"
      ],
      "text/plain": [
       "Sex          female       male\n",
       "Survived                      \n",
       "0         25.796178  81.109185\n",
       "1         74.203822  18.890815"
      ]
     },
     "execution_count": 39,
     "metadata": {},
     "output_type": "execute_result"
    }
   ],
   "source": [
    "# crosstable of Sex and Survived in percentage\n",
    "pd.crosstab(df['Survived'],df['Sex'],normalize = 'columns')*100"
   ]
  },
  {
   "cell_type": "code",
   "execution_count": 40,
   "id": "b44009d7",
   "metadata": {
    "execution": {
     "iopub.execute_input": "2024-08-26T10:24:00.678865Z",
     "iopub.status.busy": "2024-08-26T10:24:00.678393Z",
     "iopub.status.idle": "2024-08-26T10:24:00.949150Z",
     "shell.execute_reply": "2024-08-26T10:24:00.947894Z"
    },
    "papermill": {
     "duration": 0.326459,
     "end_time": "2024-08-26T10:24:00.952417",
     "exception": false,
     "start_time": "2024-08-26T10:24:00.625958",
     "status": "completed"
    },
    "tags": []
   },
   "outputs": [
    {
     "data": {
      "text/plain": [
       "<Axes: xlabel='Sex', ylabel='Survived'>"
      ]
     },
     "execution_count": 40,
     "metadata": {},
     "output_type": "execute_result"
    },
    {
     "data": {
      "image/png": "[encoded data removed]",
      "text/plain": [
       "<Figure size 640x480 with 2 Axes>"
      ]
     },
     "metadata": {},
     "output_type": "display_data"
    }
   ],
   "source": [
    "# Heatmapof Sex and Survived\n",
    "sns.heatmap(pd.crosstab(df['Survived'],df['Sex'],normalize = 'columns')*100,cmap='flare')"
   ]
  },
  {
   "cell_type": "markdown",
   "id": "2f676062",
   "metadata": {
    "papermill": {
     "duration": 0.048834,
     "end_time": "2024-08-26T10:24:01.049917",
     "exception": false,
     "start_time": "2024-08-26T10:24:01.001083",
     "status": "completed"
    },
    "tags": []
   },
   "source": [
    "#### Conclusion\n",
    "Clearly, the first priority of availing the rescue boats are given to the **females** which is also observed from the heatmap that number of survived males is much lower than survived females."
   ]
  },
  {
   "cell_type": "markdown",
   "id": "44cad079",
   "metadata": {
    "papermill": {
     "duration": 0.047967,
     "end_time": "2024-08-26T10:24:01.145877",
     "exception": false,
     "start_time": "2024-08-26T10:24:01.097910",
     "status": "completed"
    },
    "tags": []
   },
   "source": [
    "### **5.3 Survived and Embarked (Categorical - Categorical)**"
   ]
  },
  {
   "cell_type": "code",
   "execution_count": 41,
   "id": "126067bc",
   "metadata": {
    "execution": {
     "iopub.execute_input": "2024-08-26T10:24:01.243361Z",
     "iopub.status.busy": "2024-08-26T10:24:01.242950Z",
     "iopub.status.idle": "2024-08-26T10:24:01.266478Z",
     "shell.execute_reply": "2024-08-26T10:24:01.265217Z"
    },
    "papermill": {
     "duration": 0.075857,
     "end_time": "2024-08-26T10:24:01.269306",
     "exception": false,
     "start_time": "2024-08-26T10:24:01.193449",
     "status": "completed"
    },
    "tags": []
   },
   "outputs": [
    {
     "data": {
      "text/html": [
       "<div>\n",
       "<style scoped>\n",
       "    .dataframe tbody tr th:only-of-type {\n",
       "        vertical-align: middle;\n",
       "    }\n",
       "\n",
       "    .dataframe tbody tr th {\n",
       "        vertical-align: top;\n",
       "    }\n",
       "\n",
       "    .dataframe thead th {\n",
       "        text-align: right;\n",
       "    }\n",
       "</style>\n",
       "<table border=\"1\" class=\"dataframe\">\n",
       "  <thead>\n",
       "    <tr style=\"text-align: right;\">\n",
       "      <th>Embarked</th>\n",
       "      <th>C</th>\n",
       "      <th>Q</th>\n",
       "      <th>S</th>\n",
       "    </tr>\n",
       "    <tr>\n",
       "      <th>Survived</th>\n",
       "      <th></th>\n",
       "      <th></th>\n",
       "      <th></th>\n",
       "    </tr>\n",
       "  </thead>\n",
       "  <tbody>\n",
       "    <tr>\n",
       "      <th>0</th>\n",
       "      <td>44.642857</td>\n",
       "      <td>61.038961</td>\n",
       "      <td>66.304348</td>\n",
       "    </tr>\n",
       "    <tr>\n",
       "      <th>1</th>\n",
       "      <td>55.357143</td>\n",
       "      <td>38.961039</td>\n",
       "      <td>33.695652</td>\n",
       "    </tr>\n",
       "  </tbody>\n",
       "</table>\n",
       "</div>"
      ],
      "text/plain": [
       "Embarked          C          Q          S\n",
       "Survived                                 \n",
       "0         44.642857  61.038961  66.304348\n",
       "1         55.357143  38.961039  33.695652"
      ]
     },
     "execution_count": 41,
     "metadata": {},
     "output_type": "execute_result"
    }
   ],
   "source": [
    "# crosstable of Sex and Survived in percentage\n",
    "pd.crosstab(df['Survived'],df['Embarked'],normalize = 'columns')*100"
   ]
  },
  {
   "cell_type": "code",
   "execution_count": 42,
   "id": "b0147fbe",
   "metadata": {
    "execution": {
     "iopub.execute_input": "2024-08-26T10:24:01.371970Z",
     "iopub.status.busy": "2024-08-26T10:24:01.371506Z",
     "iopub.status.idle": "2024-08-26T10:24:01.718930Z",
     "shell.execute_reply": "2024-08-26T10:24:01.717780Z"
    },
    "papermill": {
     "duration": 0.402964,
     "end_time": "2024-08-26T10:24:01.722145",
     "exception": false,
     "start_time": "2024-08-26T10:24:01.319181",
     "status": "completed"
    },
    "tags": []
   },
   "outputs": [
    {
     "data": {
      "text/plain": [
       "<Axes: xlabel='Embarked', ylabel='Survived'>"
      ]
     },
     "execution_count": 42,
     "metadata": {},
     "output_type": "execute_result"
    },
    {
     "data": {
      "image/png": "[encoded data removed]",
      "text/plain": [
       "<Figure size 640x480 with 2 Axes>"
      ]
     },
     "metadata": {},
     "output_type": "display_data"
    }
   ],
   "source": [
    "sns.heatmap(pd.crosstab(df['Survived'],df['Embarked'],normalize = 'columns')*100,cmap='rocket_r')"
   ]
  },
  {
   "cell_type": "code",
   "execution_count": 43,
   "id": "3c713756",
   "metadata": {
    "execution": {
     "iopub.execute_input": "2024-08-26T10:24:01.860735Z",
     "iopub.status.busy": "2024-08-26T10:24:01.860174Z",
     "iopub.status.idle": "2024-08-26T10:24:01.884459Z",
     "shell.execute_reply": "2024-08-26T10:24:01.883379Z"
    },
    "papermill": {
     "duration": 0.093797,
     "end_time": "2024-08-26T10:24:01.887393",
     "exception": false,
     "start_time": "2024-08-26T10:24:01.793596",
     "status": "completed"
    },
    "tags": []
   },
   "outputs": [
    {
     "data": {
      "text/html": [
       "<div>\n",
       "<style scoped>\n",
       "    .dataframe tbody tr th:only-of-type {\n",
       "        vertical-align: middle;\n",
       "    }\n",
       "\n",
       "    .dataframe tbody tr th {\n",
       "        vertical-align: top;\n",
       "    }\n",
       "\n",
       "    .dataframe thead th {\n",
       "        text-align: right;\n",
       "    }\n",
       "</style>\n",
       "<table border=\"1\" class=\"dataframe\">\n",
       "  <thead>\n",
       "    <tr style=\"text-align: right;\">\n",
       "      <th>Embarked</th>\n",
       "      <th>C</th>\n",
       "      <th>Q</th>\n",
       "      <th>S</th>\n",
       "    </tr>\n",
       "    <tr>\n",
       "      <th>Sex</th>\n",
       "      <th></th>\n",
       "      <th></th>\n",
       "      <th></th>\n",
       "    </tr>\n",
       "  </thead>\n",
       "  <tbody>\n",
       "    <tr>\n",
       "      <th>female</th>\n",
       "      <td>43.452381</td>\n",
       "      <td>46.753247</td>\n",
       "      <td>31.521739</td>\n",
       "    </tr>\n",
       "    <tr>\n",
       "      <th>male</th>\n",
       "      <td>56.547619</td>\n",
       "      <td>53.246753</td>\n",
       "      <td>68.478261</td>\n",
       "    </tr>\n",
       "  </tbody>\n",
       "</table>\n",
       "</div>"
      ],
      "text/plain": [
       "Embarked          C          Q          S\n",
       "Sex                                      \n",
       "female    43.452381  46.753247  31.521739\n",
       "male      56.547619  53.246753  68.478261"
      ]
     },
     "execution_count": 43,
     "metadata": {},
     "output_type": "execute_result"
    }
   ],
   "source": [
    "# checking the reasons for the higher survival rate for \"Cheboug(C)\" in terms of sex\n",
    "pd.crosstab(df['Sex'],df['Embarked'],normalize = 'columns')*100"
   ]
  },
  {
   "cell_type": "code",
   "execution_count": 44,
   "id": "66a21393",
   "metadata": {
    "execution": {
     "iopub.execute_input": "2024-08-26T10:24:01.999115Z",
     "iopub.status.busy": "2024-08-26T10:24:01.998670Z",
     "iopub.status.idle": "2024-08-26T10:24:02.019887Z",
     "shell.execute_reply": "2024-08-26T10:24:02.018739Z"
    },
    "papermill": {
     "duration": 0.080446,
     "end_time": "2024-08-26T10:24:02.023526",
     "exception": false,
     "start_time": "2024-08-26T10:24:01.943080",
     "status": "completed"
    },
    "tags": []
   },
   "outputs": [
    {
     "data": {
      "text/html": [
       "<div>\n",
       "<style scoped>\n",
       "    .dataframe tbody tr th:only-of-type {\n",
       "        vertical-align: middle;\n",
       "    }\n",
       "\n",
       "    .dataframe tbody tr th {\n",
       "        vertical-align: top;\n",
       "    }\n",
       "\n",
       "    .dataframe thead th {\n",
       "        text-align: right;\n",
       "    }\n",
       "</style>\n",
       "<table border=\"1\" class=\"dataframe\">\n",
       "  <thead>\n",
       "    <tr style=\"text-align: right;\">\n",
       "      <th>Embarked</th>\n",
       "      <th>C</th>\n",
       "      <th>Q</th>\n",
       "      <th>S</th>\n",
       "    </tr>\n",
       "    <tr>\n",
       "      <th>Pclass</th>\n",
       "      <th></th>\n",
       "      <th></th>\n",
       "      <th></th>\n",
       "    </tr>\n",
       "  </thead>\n",
       "  <tbody>\n",
       "    <tr>\n",
       "      <th>1</th>\n",
       "      <td>50.595238</td>\n",
       "      <td>2.597403</td>\n",
       "      <td>19.720497</td>\n",
       "    </tr>\n",
       "    <tr>\n",
       "      <th>2</th>\n",
       "      <td>10.119048</td>\n",
       "      <td>3.896104</td>\n",
       "      <td>25.465839</td>\n",
       "    </tr>\n",
       "    <tr>\n",
       "      <th>3</th>\n",
       "      <td>39.285714</td>\n",
       "      <td>93.506494</td>\n",
       "      <td>54.813665</td>\n",
       "    </tr>\n",
       "  </tbody>\n",
       "</table>\n",
       "</div>"
      ],
      "text/plain": [
       "Embarked          C          Q          S\n",
       "Pclass                                   \n",
       "1         50.595238   2.597403  19.720497\n",
       "2         10.119048   3.896104  25.465839\n",
       "3         39.285714  93.506494  54.813665"
      ]
     },
     "execution_count": 44,
     "metadata": {},
     "output_type": "execute_result"
    }
   ],
   "source": [
    "# checking the reasons for the higher survival rate for \"Cheboug(C)\" in terms of Pclass\n",
    "pd.crosstab(df['Pclass'],df['Embarked'],normalize = 'columns')*100"
   ]
  },
  {
   "cell_type": "markdown",
   "id": "2383fed7",
   "metadata": {
    "papermill": {
     "duration": 0.049461,
     "end_time": "2024-08-26T10:24:02.142595",
     "exception": false,
     "start_time": "2024-08-26T10:24:02.093134",
     "status": "completed"
    },
    "tags": []
   },
   "source": [
    "#### Conclusion\n",
    "Logically, there must not be any connection of getting survived and the port of embarkment. But it is seen that, the passengers who embarked the ship from **\"Queenstown(Q)\" and \"Southhampton(H)\"** are more prone to die. So, the reasons for getting higher surival rate for the passengers embarked from **Cherboug(C)** can be **higher number of females** or **higher number of Pclass 1 passengers** or **both**.\n",
    "\n",
    "**We must check the above statement.**\n",
    "\n",
    "Note that, after further analysis it is noticable from the above cross table for **'Sex' vs 'Embarked'** that male-female proportion in Cherboug(C) and Queenstown(Q) are similar, hence **higher number of females** is not the reason for the higher survival rate in the Cherboug(C). But, there is a huge difference if we consider the **Pclass vs Embarked** cross table. In that table, there is above **50%** of the passengers who **were in Pclass 1 , which is the reason for higher survival rate in Cherboug(C).**\n",
    "\n"
   ]
  },
  {
   "cell_type": "markdown",
   "id": "a288c3ae",
   "metadata": {
    "papermill": {
     "duration": 0.049372,
     "end_time": "2024-08-26T10:24:02.241082",
     "exception": false,
     "start_time": "2024-08-26T10:24:02.191710",
     "status": "completed"
    },
    "tags": []
   },
   "source": [
    "### **5.4 Survived and Age (Categorical - Numerical)**"
   ]
  },
  {
   "cell_type": "code",
   "execution_count": 45,
   "id": "21c5a71a",
   "metadata": {
    "execution": {
     "iopub.execute_input": "2024-08-26T10:24:02.342878Z",
     "iopub.status.busy": "2024-08-26T10:24:02.341763Z",
     "iopub.status.idle": "2024-08-26T10:24:02.793748Z",
     "shell.execute_reply": "2024-08-26T10:24:02.792582Z"
    },
    "papermill": {
     "duration": 0.506594,
     "end_time": "2024-08-26T10:24:02.796978",
     "exception": false,
     "start_time": "2024-08-26T10:24:02.290384",
     "status": "completed"
    },
    "tags": []
   },
   "outputs": [
    {
     "data": {
      "image/png": "[encoded data removed]",
      "text/plain": [
       "<Figure size 640x480 with 1 Axes>"
      ]
     },
     "metadata": {},
     "output_type": "display_data"
    }
   ],
   "source": [
    "df[df['Survived'] == 1]['Age'].plot(kind='kde',label='Survived')\n",
    "df[df['Survived'] == 0]['Age'].plot(kind='kde',label='Not Survived')\n",
    "plt.legend()\n",
    "plt.show()"
   ]
  },
  {
   "cell_type": "markdown",
   "id": "f71eb59b",
   "metadata": {
    "papermill": {
     "duration": 0.056322,
     "end_time": "2024-08-26T10:24:02.903997",
     "exception": false,
     "start_time": "2024-08-26T10:24:02.847675",
     "status": "completed"
    },
    "tags": []
   },
   "source": [
    "#### Conclusion\n",
    "From the density plot, it is clear that the survival rate for the children between 0-5 is greater. But for the age group 18-60, the survived curve has dominated the not survived curve in most of the part. It is clear that, **the children and the persons aged over 60 were given the first priority of getting survived.**"
   ]
  },
  {
   "cell_type": "markdown",
   "id": "e0da9060",
   "metadata": {
    "papermill": {
     "duration": 0.049312,
     "end_time": "2024-08-26T10:24:03.003277",
     "exception": false,
     "start_time": "2024-08-26T10:24:02.953965",
     "status": "completed"
    },
    "tags": []
   },
   "source": [
    "*********************************************************\n",
    "**Note that, in the previous sections, relationship between the columns named \"Fare\",\"SibSp\" and \"Parch\" with the \"Survived\" columns are not done. As we want to proceed for feature engineering on those columns.**\n",
    "********************************************************"
   ]
  },
  {
   "cell_type": "code",
   "execution_count": 46,
   "id": "f3860640",
   "metadata": {
    "execution": {
     "iopub.execute_input": "2024-08-26T10:24:03.106409Z",
     "iopub.status.busy": "2024-08-26T10:24:03.106011Z",
     "iopub.status.idle": "2024-08-26T10:24:03.128558Z",
     "shell.execute_reply": "2024-08-26T10:24:03.126709Z"
    },
    "papermill": {
     "duration": 0.077918,
     "end_time": "2024-08-26T10:24:03.131263",
     "exception": false,
     "start_time": "2024-08-26T10:24:03.053345",
     "status": "completed"
    },
    "tags": []
   },
   "outputs": [
    {
     "data": {
      "text/html": [
       "<div>\n",
       "<style scoped>\n",
       "    .dataframe tbody tr th:only-of-type {\n",
       "        vertical-align: middle;\n",
       "    }\n",
       "\n",
       "    .dataframe tbody tr th {\n",
       "        vertical-align: top;\n",
       "    }\n",
       "\n",
       "    .dataframe thead th {\n",
       "        text-align: right;\n",
       "    }\n",
       "</style>\n",
       "<table border=\"1\" class=\"dataframe\">\n",
       "  <thead>\n",
       "    <tr style=\"text-align: right;\">\n",
       "      <th></th>\n",
       "      <th>PassengerId</th>\n",
       "      <th>Survived</th>\n",
       "      <th>Pclass</th>\n",
       "      <th>Name</th>\n",
       "      <th>Sex</th>\n",
       "      <th>Age</th>\n",
       "      <th>SibSp</th>\n",
       "      <th>Parch</th>\n",
       "      <th>Ticket</th>\n",
       "      <th>Fare</th>\n",
       "      <th>Cabin</th>\n",
       "      <th>Embarked</th>\n",
       "    </tr>\n",
       "  </thead>\n",
       "  <tbody>\n",
       "    <tr>\n",
       "      <th>0</th>\n",
       "      <td>1</td>\n",
       "      <td>0</td>\n",
       "      <td>3</td>\n",
       "      <td>Braund, Mr. Owen Harris</td>\n",
       "      <td>male</td>\n",
       "      <td>22.0</td>\n",
       "      <td>1</td>\n",
       "      <td>0</td>\n",
       "      <td>A/5 21171</td>\n",
       "      <td>7.2500</td>\n",
       "      <td>NaN</td>\n",
       "      <td>S</td>\n",
       "    </tr>\n",
       "    <tr>\n",
       "      <th>1</th>\n",
       "      <td>2</td>\n",
       "      <td>1</td>\n",
       "      <td>1</td>\n",
       "      <td>Cumings, Mrs. John Bradley (Florence Briggs Th...</td>\n",
       "      <td>female</td>\n",
       "      <td>38.0</td>\n",
       "      <td>1</td>\n",
       "      <td>0</td>\n",
       "      <td>PC 17599</td>\n",
       "      <td>71.2833</td>\n",
       "      <td>C85</td>\n",
       "      <td>C</td>\n",
       "    </tr>\n",
       "    <tr>\n",
       "      <th>2</th>\n",
       "      <td>3</td>\n",
       "      <td>1</td>\n",
       "      <td>3</td>\n",
       "      <td>Heikkinen, Miss. Laina</td>\n",
       "      <td>female</td>\n",
       "      <td>26.0</td>\n",
       "      <td>0</td>\n",
       "      <td>0</td>\n",
       "      <td>STON/O2. 3101282</td>\n",
       "      <td>7.9250</td>\n",
       "      <td>NaN</td>\n",
       "      <td>S</td>\n",
       "    </tr>\n",
       "    <tr>\n",
       "      <th>3</th>\n",
       "      <td>4</td>\n",
       "      <td>1</td>\n",
       "      <td>1</td>\n",
       "      <td>Futrelle, Mrs. Jacques Heath (Lily May Peel)</td>\n",
       "      <td>female</td>\n",
       "      <td>35.0</td>\n",
       "      <td>1</td>\n",
       "      <td>0</td>\n",
       "      <td>113803</td>\n",
       "      <td>53.1000</td>\n",
       "      <td>C123</td>\n",
       "      <td>S</td>\n",
       "    </tr>\n",
       "    <tr>\n",
       "      <th>4</th>\n",
       "      <td>5</td>\n",
       "      <td>0</td>\n",
       "      <td>3</td>\n",
       "      <td>Allen, Mr. William Henry</td>\n",
       "      <td>male</td>\n",
       "      <td>35.0</td>\n",
       "      <td>0</td>\n",
       "      <td>0</td>\n",
       "      <td>373450</td>\n",
       "      <td>8.0500</td>\n",
       "      <td>NaN</td>\n",
       "      <td>S</td>\n",
       "    </tr>\n",
       "    <tr>\n",
       "      <th>...</th>\n",
       "      <td>...</td>\n",
       "      <td>...</td>\n",
       "      <td>...</td>\n",
       "      <td>...</td>\n",
       "      <td>...</td>\n",
       "      <td>...</td>\n",
       "      <td>...</td>\n",
       "      <td>...</td>\n",
       "      <td>...</td>\n",
       "      <td>...</td>\n",
       "      <td>...</td>\n",
       "      <td>...</td>\n",
       "    </tr>\n",
       "    <tr>\n",
       "      <th>886</th>\n",
       "      <td>887</td>\n",
       "      <td>0</td>\n",
       "      <td>2</td>\n",
       "      <td>Montvila, Rev. Juozas</td>\n",
       "      <td>male</td>\n",
       "      <td>27.0</td>\n",
       "      <td>0</td>\n",
       "      <td>0</td>\n",
       "      <td>211536</td>\n",
       "      <td>13.0000</td>\n",
       "      <td>NaN</td>\n",
       "      <td>S</td>\n",
       "    </tr>\n",
       "    <tr>\n",
       "      <th>887</th>\n",
       "      <td>888</td>\n",
       "      <td>1</td>\n",
       "      <td>1</td>\n",
       "      <td>Graham, Miss. Margaret Edith</td>\n",
       "      <td>female</td>\n",
       "      <td>19.0</td>\n",
       "      <td>0</td>\n",
       "      <td>0</td>\n",
       "      <td>112053</td>\n",
       "      <td>30.0000</td>\n",
       "      <td>B42</td>\n",
       "      <td>S</td>\n",
       "    </tr>\n",
       "    <tr>\n",
       "      <th>888</th>\n",
       "      <td>889</td>\n",
       "      <td>0</td>\n",
       "      <td>3</td>\n",
       "      <td>Johnston, Miss. Catherine Helen \"Carrie\"</td>\n",
       "      <td>female</td>\n",
       "      <td>NaN</td>\n",
       "      <td>1</td>\n",
       "      <td>2</td>\n",
       "      <td>W./C. 6607</td>\n",
       "      <td>23.4500</td>\n",
       "      <td>NaN</td>\n",
       "      <td>S</td>\n",
       "    </tr>\n",
       "    <tr>\n",
       "      <th>889</th>\n",
       "      <td>890</td>\n",
       "      <td>1</td>\n",
       "      <td>1</td>\n",
       "      <td>Behr, Mr. Karl Howell</td>\n",
       "      <td>male</td>\n",
       "      <td>26.0</td>\n",
       "      <td>0</td>\n",
       "      <td>0</td>\n",
       "      <td>111369</td>\n",
       "      <td>30.0000</td>\n",
       "      <td>C148</td>\n",
       "      <td>C</td>\n",
       "    </tr>\n",
       "    <tr>\n",
       "      <th>890</th>\n",
       "      <td>891</td>\n",
       "      <td>0</td>\n",
       "      <td>3</td>\n",
       "      <td>Dooley, Mr. Patrick</td>\n",
       "      <td>male</td>\n",
       "      <td>32.0</td>\n",
       "      <td>0</td>\n",
       "      <td>0</td>\n",
       "      <td>370376</td>\n",
       "      <td>7.7500</td>\n",
       "      <td>NaN</td>\n",
       "      <td>Q</td>\n",
       "    </tr>\n",
       "  </tbody>\n",
       "</table>\n",
       "<p>891 rows × 12 columns</p>\n",
       "</div>"
      ],
      "text/plain": [
       "     PassengerId  Survived  Pclass  \\\n",
       "0              1         0       3   \n",
       "1              2         1       1   \n",
       "2              3         1       3   \n",
       "3              4         1       1   \n",
       "4              5         0       3   \n",
       "..           ...       ...     ...   \n",
       "886          887         0       2   \n",
       "887          888         1       1   \n",
       "888          889         0       3   \n",
       "889          890         1       1   \n",
       "890          891         0       3   \n",
       "\n",
       "                                                  Name     Sex   Age  SibSp  \\\n",
       "0                              Braund, Mr. Owen Harris    male  22.0      1   \n",
       "1    Cumings, Mrs. John Bradley (Florence Briggs Th...  female  38.0      1   \n",
       "2                               Heikkinen, Miss. Laina  female  26.0      0   \n",
       "3         Futrelle, Mrs. Jacques Heath (Lily May Peel)  female  35.0      1   \n",
       "4                             Allen, Mr. William Henry    male  35.0      0   \n",
       "..                                                 ...     ...   ...    ...   \n",
       "886                              Montvila, Rev. Juozas    male  27.0      0   \n",
       "887                       Graham, Miss. Margaret Edith  female  19.0      0   \n",
       "888           Johnston, Miss. Catherine Helen \"Carrie\"  female   NaN      1   \n",
       "889                              Behr, Mr. Karl Howell    male  26.0      0   \n",
       "890                                Dooley, Mr. Patrick    male  32.0      0   \n",
       "\n",
       "     Parch            Ticket     Fare Cabin Embarked  \n",
       "0        0         A/5 21171   7.2500   NaN        S  \n",
       "1        0          PC 17599  71.2833   C85        C  \n",
       "2        0  STON/O2. 3101282   7.9250   NaN        S  \n",
       "3        0            113803  53.1000  C123        S  \n",
       "4        0            373450   8.0500   NaN        S  \n",
       "..     ...               ...      ...   ...      ...  \n",
       "886      0            211536  13.0000   NaN        S  \n",
       "887      0            112053  30.0000   B42        S  \n",
       "888      2        W./C. 6607  23.4500   NaN        S  \n",
       "889      0            111369  30.0000  C148        C  \n",
       "890      0            370376   7.7500   NaN        Q  \n",
       "\n",
       "[891 rows x 12 columns]"
      ]
     },
     "execution_count": 46,
     "metadata": {},
     "output_type": "execute_result"
    }
   ],
   "source": [
    "df"
   ]
  },
  {
   "cell_type": "markdown",
   "id": "ca853f68",
   "metadata": {
    "papermill": {
     "duration": 0.050843,
     "end_time": "2024-08-26T10:24:03.234358",
     "exception": false,
     "start_time": "2024-08-26T10:24:03.183515",
     "status": "completed"
    },
    "tags": []
   },
   "source": [
    "**********\n",
    "****************"
   ]
  },
  {
   "cell_type": "markdown",
   "id": "d5c5532f",
   "metadata": {
    "papermill": {
     "duration": 0.050575,
     "end_time": "2024-08-26T10:24:03.341612",
     "exception": false,
     "start_time": "2024-08-26T10:24:03.291037",
     "status": "completed"
    },
    "tags": []
   },
   "source": [
    "<a id=\"Section-eight\" ></a>\n",
    "# **6. Feature Engineering**"
   ]
  },
  {
   "cell_type": "markdown",
   "id": "f6c5859a",
   "metadata": {
    "papermill": {
     "duration": 0.049765,
     "end_time": "2024-08-26T10:24:03.443274",
     "exception": false,
     "start_time": "2024-08-26T10:24:03.393509",
     "status": "completed"
    },
    "tags": []
   },
   "source": [
    "### **6.1 On \"Fare\" column**"
   ]
  },
  {
   "cell_type": "code",
   "execution_count": 47,
   "id": "f8517118",
   "metadata": {
    "execution": {
     "iopub.execute_input": "2024-08-26T10:24:03.570841Z",
     "iopub.status.busy": "2024-08-26T10:24:03.570431Z",
     "iopub.status.idle": "2024-08-26T10:24:03.580117Z",
     "shell.execute_reply": "2024-08-26T10:24:03.578905Z"
    },
    "papermill": {
     "duration": 0.071556,
     "end_time": "2024-08-26T10:24:03.582609",
     "exception": false,
     "start_time": "2024-08-26T10:24:03.511053",
     "status": "completed"
    },
    "tags": []
   },
   "outputs": [
    {
     "data": {
      "text/plain": [
       "SibSp\n",
       "0    608\n",
       "1    209\n",
       "2     28\n",
       "4     18\n",
       "3     16\n",
       "8      7\n",
       "5      5\n",
       "Name: count, dtype: int64"
      ]
     },
     "execution_count": 47,
     "metadata": {},
     "output_type": "execute_result"
    }
   ],
   "source": [
    "df['SibSp'].value_counts()"
   ]
  },
  {
   "cell_type": "code",
   "execution_count": 48,
   "id": "e57f2b87",
   "metadata": {
    "execution": {
     "iopub.execute_input": "2024-08-26T10:24:03.687431Z",
     "iopub.status.busy": "2024-08-26T10:24:03.687011Z",
     "iopub.status.idle": "2024-08-26T10:24:03.706179Z",
     "shell.execute_reply": "2024-08-26T10:24:03.705030Z"
    },
    "papermill": {
     "duration": 0.074077,
     "end_time": "2024-08-26T10:24:03.709093",
     "exception": false,
     "start_time": "2024-08-26T10:24:03.635016",
     "status": "completed"
    },
    "tags": []
   },
   "outputs": [
    {
     "data": {
      "text/html": [
       "<div>\n",
       "<style scoped>\n",
       "    .dataframe tbody tr th:only-of-type {\n",
       "        vertical-align: middle;\n",
       "    }\n",
       "\n",
       "    .dataframe tbody tr th {\n",
       "        vertical-align: top;\n",
       "    }\n",
       "\n",
       "    .dataframe thead th {\n",
       "        text-align: right;\n",
       "    }\n",
       "</style>\n",
       "<table border=\"1\" class=\"dataframe\">\n",
       "  <thead>\n",
       "    <tr style=\"text-align: right;\">\n",
       "      <th></th>\n",
       "      <th>PassengerId</th>\n",
       "      <th>Survived</th>\n",
       "      <th>Pclass</th>\n",
       "      <th>Name</th>\n",
       "      <th>Sex</th>\n",
       "      <th>Age</th>\n",
       "      <th>SibSp</th>\n",
       "      <th>Parch</th>\n",
       "      <th>Ticket</th>\n",
       "      <th>Fare</th>\n",
       "      <th>Cabin</th>\n",
       "      <th>Embarked</th>\n",
       "    </tr>\n",
       "  </thead>\n",
       "  <tbody>\n",
       "    <tr>\n",
       "      <th>159</th>\n",
       "      <td>160</td>\n",
       "      <td>0</td>\n",
       "      <td>3</td>\n",
       "      <td>Sage, Master. Thomas Henry</td>\n",
       "      <td>male</td>\n",
       "      <td>NaN</td>\n",
       "      <td>8</td>\n",
       "      <td>2</td>\n",
       "      <td>CA. 2343</td>\n",
       "      <td>69.55</td>\n",
       "      <td>NaN</td>\n",
       "      <td>S</td>\n",
       "    </tr>\n",
       "    <tr>\n",
       "      <th>180</th>\n",
       "      <td>181</td>\n",
       "      <td>0</td>\n",
       "      <td>3</td>\n",
       "      <td>Sage, Miss. Constance Gladys</td>\n",
       "      <td>female</td>\n",
       "      <td>NaN</td>\n",
       "      <td>8</td>\n",
       "      <td>2</td>\n",
       "      <td>CA. 2343</td>\n",
       "      <td>69.55</td>\n",
       "      <td>NaN</td>\n",
       "      <td>S</td>\n",
       "    </tr>\n",
       "    <tr>\n",
       "      <th>201</th>\n",
       "      <td>202</td>\n",
       "      <td>0</td>\n",
       "      <td>3</td>\n",
       "      <td>Sage, Mr. Frederick</td>\n",
       "      <td>male</td>\n",
       "      <td>NaN</td>\n",
       "      <td>8</td>\n",
       "      <td>2</td>\n",
       "      <td>CA. 2343</td>\n",
       "      <td>69.55</td>\n",
       "      <td>NaN</td>\n",
       "      <td>S</td>\n",
       "    </tr>\n",
       "    <tr>\n",
       "      <th>324</th>\n",
       "      <td>325</td>\n",
       "      <td>0</td>\n",
       "      <td>3</td>\n",
       "      <td>Sage, Mr. George John Jr</td>\n",
       "      <td>male</td>\n",
       "      <td>NaN</td>\n",
       "      <td>8</td>\n",
       "      <td>2</td>\n",
       "      <td>CA. 2343</td>\n",
       "      <td>69.55</td>\n",
       "      <td>NaN</td>\n",
       "      <td>S</td>\n",
       "    </tr>\n",
       "    <tr>\n",
       "      <th>792</th>\n",
       "      <td>793</td>\n",
       "      <td>0</td>\n",
       "      <td>3</td>\n",
       "      <td>Sage, Miss. Stella Anna</td>\n",
       "      <td>female</td>\n",
       "      <td>NaN</td>\n",
       "      <td>8</td>\n",
       "      <td>2</td>\n",
       "      <td>CA. 2343</td>\n",
       "      <td>69.55</td>\n",
       "      <td>NaN</td>\n",
       "      <td>S</td>\n",
       "    </tr>\n",
       "    <tr>\n",
       "      <th>846</th>\n",
       "      <td>847</td>\n",
       "      <td>0</td>\n",
       "      <td>3</td>\n",
       "      <td>Sage, Mr. Douglas Bullen</td>\n",
       "      <td>male</td>\n",
       "      <td>NaN</td>\n",
       "      <td>8</td>\n",
       "      <td>2</td>\n",
       "      <td>CA. 2343</td>\n",
       "      <td>69.55</td>\n",
       "      <td>NaN</td>\n",
       "      <td>S</td>\n",
       "    </tr>\n",
       "    <tr>\n",
       "      <th>863</th>\n",
       "      <td>864</td>\n",
       "      <td>0</td>\n",
       "      <td>3</td>\n",
       "      <td>Sage, Miss. Dorothy Edith \"Dolly\"</td>\n",
       "      <td>female</td>\n",
       "      <td>NaN</td>\n",
       "      <td>8</td>\n",
       "      <td>2</td>\n",
       "      <td>CA. 2343</td>\n",
       "      <td>69.55</td>\n",
       "      <td>NaN</td>\n",
       "      <td>S</td>\n",
       "    </tr>\n",
       "  </tbody>\n",
       "</table>\n",
       "</div>"
      ],
      "text/plain": [
       "     PassengerId  Survived  Pclass                               Name     Sex  \\\n",
       "159          160         0       3         Sage, Master. Thomas Henry    male   \n",
       "180          181         0       3       Sage, Miss. Constance Gladys  female   \n",
       "201          202         0       3                Sage, Mr. Frederick    male   \n",
       "324          325         0       3           Sage, Mr. George John Jr    male   \n",
       "792          793         0       3            Sage, Miss. Stella Anna  female   \n",
       "846          847         0       3           Sage, Mr. Douglas Bullen    male   \n",
       "863          864         0       3  Sage, Miss. Dorothy Edith \"Dolly\"  female   \n",
       "\n",
       "     Age  SibSp  Parch    Ticket   Fare Cabin Embarked  \n",
       "159  NaN      8      2  CA. 2343  69.55   NaN        S  \n",
       "180  NaN      8      2  CA. 2343  69.55   NaN        S  \n",
       "201  NaN      8      2  CA. 2343  69.55   NaN        S  \n",
       "324  NaN      8      2  CA. 2343  69.55   NaN        S  \n",
       "792  NaN      8      2  CA. 2343  69.55   NaN        S  \n",
       "846  NaN      8      2  CA. 2343  69.55   NaN        S  \n",
       "863  NaN      8      2  CA. 2343  69.55   NaN        S  "
      ]
     },
     "execution_count": 48,
     "metadata": {},
     "output_type": "execute_result"
    }
   ],
   "source": [
    "df[df['SibSp']==8]"
   ]
  },
  {
   "cell_type": "markdown",
   "id": "903d294a",
   "metadata": {
    "papermill": {
     "duration": 0.050463,
     "end_time": "2024-08-26T10:24:03.814548",
     "exception": false,
     "start_time": "2024-08-26T10:24:03.764085",
     "status": "completed"
    },
    "tags": []
   },
   "source": [
    "**Remark:** Note from the above, they are of same family. notice there surname and fare. But their ticket numbers are same.\n",
    "We will find out all his family memebers with that same ticket number below."
   ]
  },
  {
   "cell_type": "code",
   "execution_count": 49,
   "id": "6255f288",
   "metadata": {
    "execution": {
     "iopub.execute_input": "2024-08-26T10:24:03.918995Z",
     "iopub.status.busy": "2024-08-26T10:24:03.917933Z",
     "iopub.status.idle": "2024-08-26T10:24:03.939503Z",
     "shell.execute_reply": "2024-08-26T10:24:03.937795Z"
    },
    "papermill": {
     "duration": 0.076861,
     "end_time": "2024-08-26T10:24:03.942099",
     "exception": false,
     "start_time": "2024-08-26T10:24:03.865238",
     "status": "completed"
    },
    "tags": []
   },
   "outputs": [
    {
     "data": {
      "text/html": [
       "<div>\n",
       "<style scoped>\n",
       "    .dataframe tbody tr th:only-of-type {\n",
       "        vertical-align: middle;\n",
       "    }\n",
       "\n",
       "    .dataframe tbody tr th {\n",
       "        vertical-align: top;\n",
       "    }\n",
       "\n",
       "    .dataframe thead th {\n",
       "        text-align: right;\n",
       "    }\n",
       "</style>\n",
       "<table border=\"1\" class=\"dataframe\">\n",
       "  <thead>\n",
       "    <tr style=\"text-align: right;\">\n",
       "      <th></th>\n",
       "      <th>PassengerId</th>\n",
       "      <th>Survived</th>\n",
       "      <th>Pclass</th>\n",
       "      <th>Name</th>\n",
       "      <th>Sex</th>\n",
       "      <th>Age</th>\n",
       "      <th>SibSp</th>\n",
       "      <th>Parch</th>\n",
       "      <th>Ticket</th>\n",
       "      <th>Fare</th>\n",
       "      <th>Cabin</th>\n",
       "      <th>Embarked</th>\n",
       "    </tr>\n",
       "  </thead>\n",
       "  <tbody>\n",
       "    <tr>\n",
       "      <th>159</th>\n",
       "      <td>160</td>\n",
       "      <td>0</td>\n",
       "      <td>3</td>\n",
       "      <td>Sage, Master. Thomas Henry</td>\n",
       "      <td>male</td>\n",
       "      <td>NaN</td>\n",
       "      <td>8</td>\n",
       "      <td>2</td>\n",
       "      <td>CA. 2343</td>\n",
       "      <td>69.55</td>\n",
       "      <td>NaN</td>\n",
       "      <td>S</td>\n",
       "    </tr>\n",
       "    <tr>\n",
       "      <th>180</th>\n",
       "      <td>181</td>\n",
       "      <td>0</td>\n",
       "      <td>3</td>\n",
       "      <td>Sage, Miss. Constance Gladys</td>\n",
       "      <td>female</td>\n",
       "      <td>NaN</td>\n",
       "      <td>8</td>\n",
       "      <td>2</td>\n",
       "      <td>CA. 2343</td>\n",
       "      <td>69.55</td>\n",
       "      <td>NaN</td>\n",
       "      <td>S</td>\n",
       "    </tr>\n",
       "    <tr>\n",
       "      <th>201</th>\n",
       "      <td>202</td>\n",
       "      <td>0</td>\n",
       "      <td>3</td>\n",
       "      <td>Sage, Mr. Frederick</td>\n",
       "      <td>male</td>\n",
       "      <td>NaN</td>\n",
       "      <td>8</td>\n",
       "      <td>2</td>\n",
       "      <td>CA. 2343</td>\n",
       "      <td>69.55</td>\n",
       "      <td>NaN</td>\n",
       "      <td>S</td>\n",
       "    </tr>\n",
       "    <tr>\n",
       "      <th>324</th>\n",
       "      <td>325</td>\n",
       "      <td>0</td>\n",
       "      <td>3</td>\n",
       "      <td>Sage, Mr. George John Jr</td>\n",
       "      <td>male</td>\n",
       "      <td>NaN</td>\n",
       "      <td>8</td>\n",
       "      <td>2</td>\n",
       "      <td>CA. 2343</td>\n",
       "      <td>69.55</td>\n",
       "      <td>NaN</td>\n",
       "      <td>S</td>\n",
       "    </tr>\n",
       "    <tr>\n",
       "      <th>792</th>\n",
       "      <td>793</td>\n",
       "      <td>0</td>\n",
       "      <td>3</td>\n",
       "      <td>Sage, Miss. Stella Anna</td>\n",
       "      <td>female</td>\n",
       "      <td>NaN</td>\n",
       "      <td>8</td>\n",
       "      <td>2</td>\n",
       "      <td>CA. 2343</td>\n",
       "      <td>69.55</td>\n",
       "      <td>NaN</td>\n",
       "      <td>S</td>\n",
       "    </tr>\n",
       "    <tr>\n",
       "      <th>846</th>\n",
       "      <td>847</td>\n",
       "      <td>0</td>\n",
       "      <td>3</td>\n",
       "      <td>Sage, Mr. Douglas Bullen</td>\n",
       "      <td>male</td>\n",
       "      <td>NaN</td>\n",
       "      <td>8</td>\n",
       "      <td>2</td>\n",
       "      <td>CA. 2343</td>\n",
       "      <td>69.55</td>\n",
       "      <td>NaN</td>\n",
       "      <td>S</td>\n",
       "    </tr>\n",
       "    <tr>\n",
       "      <th>863</th>\n",
       "      <td>864</td>\n",
       "      <td>0</td>\n",
       "      <td>3</td>\n",
       "      <td>Sage, Miss. Dorothy Edith \"Dolly\"</td>\n",
       "      <td>female</td>\n",
       "      <td>NaN</td>\n",
       "      <td>8</td>\n",
       "      <td>2</td>\n",
       "      <td>CA. 2343</td>\n",
       "      <td>69.55</td>\n",
       "      <td>NaN</td>\n",
       "      <td>S</td>\n",
       "    </tr>\n",
       "  </tbody>\n",
       "</table>\n",
       "</div>"
      ],
      "text/plain": [
       "     PassengerId  Survived  Pclass                               Name     Sex  \\\n",
       "159          160         0       3         Sage, Master. Thomas Henry    male   \n",
       "180          181         0       3       Sage, Miss. Constance Gladys  female   \n",
       "201          202         0       3                Sage, Mr. Frederick    male   \n",
       "324          325         0       3           Sage, Mr. George John Jr    male   \n",
       "792          793         0       3            Sage, Miss. Stella Anna  female   \n",
       "846          847         0       3           Sage, Mr. Douglas Bullen    male   \n",
       "863          864         0       3  Sage, Miss. Dorothy Edith \"Dolly\"  female   \n",
       "\n",
       "     Age  SibSp  Parch    Ticket   Fare Cabin Embarked  \n",
       "159  NaN      8      2  CA. 2343  69.55   NaN        S  \n",
       "180  NaN      8      2  CA. 2343  69.55   NaN        S  \n",
       "201  NaN      8      2  CA. 2343  69.55   NaN        S  \n",
       "324  NaN      8      2  CA. 2343  69.55   NaN        S  \n",
       "792  NaN      8      2  CA. 2343  69.55   NaN        S  \n",
       "846  NaN      8      2  CA. 2343  69.55   NaN        S  \n",
       "863  NaN      8      2  CA. 2343  69.55   NaN        S  "
      ]
     },
     "execution_count": 49,
     "metadata": {},
     "output_type": "execute_result"
    }
   ],
   "source": [
    "df[df['Ticket']=='CA. 2343']"
   ]
  },
  {
   "cell_type": "code",
   "execution_count": 50,
   "id": "37aeb94e",
   "metadata": {
    "execution": {
     "iopub.execute_input": "2024-08-26T10:24:04.047250Z",
     "iopub.status.busy": "2024-08-26T10:24:04.046762Z",
     "iopub.status.idle": "2024-08-26T10:24:04.068163Z",
     "shell.execute_reply": "2024-08-26T10:24:04.067085Z"
    },
    "papermill": {
     "duration": 0.076547,
     "end_time": "2024-08-26T10:24:04.070545",
     "exception": false,
     "start_time": "2024-08-26T10:24:03.993998",
     "status": "completed"
    },
    "tags": []
   },
   "outputs": [
    {
     "data": {
      "text/html": [
       "<div>\n",
       "<style scoped>\n",
       "    .dataframe tbody tr th:only-of-type {\n",
       "        vertical-align: middle;\n",
       "    }\n",
       "\n",
       "    .dataframe tbody tr th {\n",
       "        vertical-align: top;\n",
       "    }\n",
       "\n",
       "    .dataframe thead th {\n",
       "        text-align: right;\n",
       "    }\n",
       "</style>\n",
       "<table border=\"1\" class=\"dataframe\">\n",
       "  <thead>\n",
       "    <tr style=\"text-align: right;\">\n",
       "      <th></th>\n",
       "      <th>PassengerId</th>\n",
       "      <th>Survived</th>\n",
       "      <th>Pclass</th>\n",
       "      <th>Name</th>\n",
       "      <th>Sex</th>\n",
       "      <th>Age</th>\n",
       "      <th>SibSp</th>\n",
       "      <th>Parch</th>\n",
       "      <th>Ticket</th>\n",
       "      <th>Fare</th>\n",
       "      <th>Cabin</th>\n",
       "      <th>Embarked</th>\n",
       "    </tr>\n",
       "  </thead>\n",
       "  <tbody>\n",
       "    <tr>\n",
       "      <th>159</th>\n",
       "      <td>160</td>\n",
       "      <td>0</td>\n",
       "      <td>3</td>\n",
       "      <td>Sage, Master. Thomas Henry</td>\n",
       "      <td>male</td>\n",
       "      <td>NaN</td>\n",
       "      <td>8</td>\n",
       "      <td>2</td>\n",
       "      <td>CA. 2343</td>\n",
       "      <td>69.55</td>\n",
       "      <td>NaN</td>\n",
       "      <td>S</td>\n",
       "    </tr>\n",
       "    <tr>\n",
       "      <th>180</th>\n",
       "      <td>181</td>\n",
       "      <td>0</td>\n",
       "      <td>3</td>\n",
       "      <td>Sage, Miss. Constance Gladys</td>\n",
       "      <td>female</td>\n",
       "      <td>NaN</td>\n",
       "      <td>8</td>\n",
       "      <td>2</td>\n",
       "      <td>CA. 2343</td>\n",
       "      <td>69.55</td>\n",
       "      <td>NaN</td>\n",
       "      <td>S</td>\n",
       "    </tr>\n",
       "    <tr>\n",
       "      <th>201</th>\n",
       "      <td>202</td>\n",
       "      <td>0</td>\n",
       "      <td>3</td>\n",
       "      <td>Sage, Mr. Frederick</td>\n",
       "      <td>male</td>\n",
       "      <td>NaN</td>\n",
       "      <td>8</td>\n",
       "      <td>2</td>\n",
       "      <td>CA. 2343</td>\n",
       "      <td>69.55</td>\n",
       "      <td>NaN</td>\n",
       "      <td>S</td>\n",
       "    </tr>\n",
       "    <tr>\n",
       "      <th>324</th>\n",
       "      <td>325</td>\n",
       "      <td>0</td>\n",
       "      <td>3</td>\n",
       "      <td>Sage, Mr. George John Jr</td>\n",
       "      <td>male</td>\n",
       "      <td>NaN</td>\n",
       "      <td>8</td>\n",
       "      <td>2</td>\n",
       "      <td>CA. 2343</td>\n",
       "      <td>69.55</td>\n",
       "      <td>NaN</td>\n",
       "      <td>S</td>\n",
       "    </tr>\n",
       "    <tr>\n",
       "      <th>641</th>\n",
       "      <td>642</td>\n",
       "      <td>1</td>\n",
       "      <td>1</td>\n",
       "      <td>Sagesser, Mlle. Emma</td>\n",
       "      <td>female</td>\n",
       "      <td>24.0</td>\n",
       "      <td>0</td>\n",
       "      <td>0</td>\n",
       "      <td>PC 17477</td>\n",
       "      <td>69.30</td>\n",
       "      <td>B35</td>\n",
       "      <td>C</td>\n",
       "    </tr>\n",
       "    <tr>\n",
       "      <th>792</th>\n",
       "      <td>793</td>\n",
       "      <td>0</td>\n",
       "      <td>3</td>\n",
       "      <td>Sage, Miss. Stella Anna</td>\n",
       "      <td>female</td>\n",
       "      <td>NaN</td>\n",
       "      <td>8</td>\n",
       "      <td>2</td>\n",
       "      <td>CA. 2343</td>\n",
       "      <td>69.55</td>\n",
       "      <td>NaN</td>\n",
       "      <td>S</td>\n",
       "    </tr>\n",
       "    <tr>\n",
       "      <th>846</th>\n",
       "      <td>847</td>\n",
       "      <td>0</td>\n",
       "      <td>3</td>\n",
       "      <td>Sage, Mr. Douglas Bullen</td>\n",
       "      <td>male</td>\n",
       "      <td>NaN</td>\n",
       "      <td>8</td>\n",
       "      <td>2</td>\n",
       "      <td>CA. 2343</td>\n",
       "      <td>69.55</td>\n",
       "      <td>NaN</td>\n",
       "      <td>S</td>\n",
       "    </tr>\n",
       "    <tr>\n",
       "      <th>863</th>\n",
       "      <td>864</td>\n",
       "      <td>0</td>\n",
       "      <td>3</td>\n",
       "      <td>Sage, Miss. Dorothy Edith \"Dolly\"</td>\n",
       "      <td>female</td>\n",
       "      <td>NaN</td>\n",
       "      <td>8</td>\n",
       "      <td>2</td>\n",
       "      <td>CA. 2343</td>\n",
       "      <td>69.55</td>\n",
       "      <td>NaN</td>\n",
       "      <td>S</td>\n",
       "    </tr>\n",
       "  </tbody>\n",
       "</table>\n",
       "</div>"
      ],
      "text/plain": [
       "     PassengerId  Survived  Pclass                               Name     Sex  \\\n",
       "159          160         0       3         Sage, Master. Thomas Henry    male   \n",
       "180          181         0       3       Sage, Miss. Constance Gladys  female   \n",
       "201          202         0       3                Sage, Mr. Frederick    male   \n",
       "324          325         0       3           Sage, Mr. George John Jr    male   \n",
       "641          642         1       1               Sagesser, Mlle. Emma  female   \n",
       "792          793         0       3            Sage, Miss. Stella Anna  female   \n",
       "846          847         0       3           Sage, Mr. Douglas Bullen    male   \n",
       "863          864         0       3  Sage, Miss. Dorothy Edith \"Dolly\"  female   \n",
       "\n",
       "      Age  SibSp  Parch    Ticket   Fare Cabin Embarked  \n",
       "159   NaN      8      2  CA. 2343  69.55   NaN        S  \n",
       "180   NaN      8      2  CA. 2343  69.55   NaN        S  \n",
       "201   NaN      8      2  CA. 2343  69.55   NaN        S  \n",
       "324   NaN      8      2  CA. 2343  69.55   NaN        S  \n",
       "641  24.0      0      0  PC 17477  69.30   B35        C  \n",
       "792   NaN      8      2  CA. 2343  69.55   NaN        S  \n",
       "846   NaN      8      2  CA. 2343  69.55   NaN        S  \n",
       "863   NaN      8      2  CA. 2343  69.55   NaN        S  "
      ]
     },
     "execution_count": 50,
     "metadata": {},
     "output_type": "execute_result"
    }
   ],
   "source": [
    "df[df['Name'].str.contains('Sage')]"
   ]
  },
  {
   "cell_type": "markdown",
   "id": "34024979",
   "metadata": {
    "papermill": {
     "duration": 0.05375,
     "end_time": "2024-08-26T10:24:04.177129",
     "exception": false,
     "start_time": "2024-08-26T10:24:04.123379",
     "status": "completed"
    },
    "tags": []
   },
   "source": [
    "**Remark:** From the above, it can be seen that there are only \"7\" rows with the same ticket number and surname \"Sage\". **But, from the data there are 11 individuals with that ticket number.** 4 persons with same numbers are missing.\n",
    "\n",
    "Hence, it must be in the **\"trial.csv\"** dataset.\n",
    "Now, we will check this, whether our assumption is right or wrong."
   ]
  },
  {
   "cell_type": "code",
   "execution_count": 51,
   "id": "b1ced789",
   "metadata": {
    "execution": {
     "iopub.execute_input": "2024-08-26T10:24:04.283227Z",
     "iopub.status.busy": "2024-08-26T10:24:04.282760Z",
     "iopub.status.idle": "2024-08-26T10:24:04.297046Z",
     "shell.execute_reply": "2024-08-26T10:24:04.295515Z"
    },
    "papermill": {
     "duration": 0.070257,
     "end_time": "2024-08-26T10:24:04.299924",
     "exception": false,
     "start_time": "2024-08-26T10:24:04.229667",
     "status": "completed"
    },
    "tags": []
   },
   "outputs": [],
   "source": [
    "df1 = pd.read_csv('/kaggle/input/titanic/test.csv')"
   ]
  },
  {
   "cell_type": "code",
   "execution_count": 52,
   "id": "5cf05f3a",
   "metadata": {
    "execution": {
     "iopub.execute_input": "2024-08-26T10:24:04.409824Z",
     "iopub.status.busy": "2024-08-26T10:24:04.409391Z",
     "iopub.status.idle": "2024-08-26T10:24:04.417429Z",
     "shell.execute_reply": "2024-08-26T10:24:04.416116Z"
    },
    "papermill": {
     "duration": 0.065869,
     "end_time": "2024-08-26T10:24:04.420509",
     "exception": false,
     "start_time": "2024-08-26T10:24:04.354640",
     "status": "completed"
    },
    "tags": []
   },
   "outputs": [],
   "source": [
    "# concatenate the two datasets\n",
    "df = pd.concat([df,df1])"
   ]
  },
  {
   "cell_type": "code",
   "execution_count": 53,
   "id": "48b80d25",
   "metadata": {
    "execution": {
     "iopub.execute_input": "2024-08-26T10:24:04.533395Z",
     "iopub.status.busy": "2024-08-26T10:24:04.532983Z",
     "iopub.status.idle": "2024-08-26T10:24:04.560492Z",
     "shell.execute_reply": "2024-08-26T10:24:04.558682Z"
    },
    "papermill": {
     "duration": 0.089419,
     "end_time": "2024-08-26T10:24:04.563496",
     "exception": false,
     "start_time": "2024-08-26T10:24:04.474077",
     "status": "completed"
    },
    "tags": []
   },
   "outputs": [
    {
     "data": {
      "text/html": [
       "<div>\n",
       "<style scoped>\n",
       "    .dataframe tbody tr th:only-of-type {\n",
       "        vertical-align: middle;\n",
       "    }\n",
       "\n",
       "    .dataframe tbody tr th {\n",
       "        vertical-align: top;\n",
       "    }\n",
       "\n",
       "    .dataframe thead th {\n",
       "        text-align: right;\n",
       "    }\n",
       "</style>\n",
       "<table border=\"1\" class=\"dataframe\">\n",
       "  <thead>\n",
       "    <tr style=\"text-align: right;\">\n",
       "      <th></th>\n",
       "      <th>PassengerId</th>\n",
       "      <th>Survived</th>\n",
       "      <th>Pclass</th>\n",
       "      <th>Name</th>\n",
       "      <th>Sex</th>\n",
       "      <th>Age</th>\n",
       "      <th>SibSp</th>\n",
       "      <th>Parch</th>\n",
       "      <th>Ticket</th>\n",
       "      <th>Fare</th>\n",
       "      <th>Cabin</th>\n",
       "      <th>Embarked</th>\n",
       "    </tr>\n",
       "  </thead>\n",
       "  <tbody>\n",
       "    <tr>\n",
       "      <th>159</th>\n",
       "      <td>160</td>\n",
       "      <td>0.0</td>\n",
       "      <td>3</td>\n",
       "      <td>Sage, Master. Thomas Henry</td>\n",
       "      <td>male</td>\n",
       "      <td>NaN</td>\n",
       "      <td>8</td>\n",
       "      <td>2</td>\n",
       "      <td>CA. 2343</td>\n",
       "      <td>69.55</td>\n",
       "      <td>NaN</td>\n",
       "      <td>S</td>\n",
       "    </tr>\n",
       "    <tr>\n",
       "      <th>180</th>\n",
       "      <td>181</td>\n",
       "      <td>0.0</td>\n",
       "      <td>3</td>\n",
       "      <td>Sage, Miss. Constance Gladys</td>\n",
       "      <td>female</td>\n",
       "      <td>NaN</td>\n",
       "      <td>8</td>\n",
       "      <td>2</td>\n",
       "      <td>CA. 2343</td>\n",
       "      <td>69.55</td>\n",
       "      <td>NaN</td>\n",
       "      <td>S</td>\n",
       "    </tr>\n",
       "    <tr>\n",
       "      <th>201</th>\n",
       "      <td>202</td>\n",
       "      <td>0.0</td>\n",
       "      <td>3</td>\n",
       "      <td>Sage, Mr. Frederick</td>\n",
       "      <td>male</td>\n",
       "      <td>NaN</td>\n",
       "      <td>8</td>\n",
       "      <td>2</td>\n",
       "      <td>CA. 2343</td>\n",
       "      <td>69.55</td>\n",
       "      <td>NaN</td>\n",
       "      <td>S</td>\n",
       "    </tr>\n",
       "    <tr>\n",
       "      <th>324</th>\n",
       "      <td>325</td>\n",
       "      <td>0.0</td>\n",
       "      <td>3</td>\n",
       "      <td>Sage, Mr. George John Jr</td>\n",
       "      <td>male</td>\n",
       "      <td>NaN</td>\n",
       "      <td>8</td>\n",
       "      <td>2</td>\n",
       "      <td>CA. 2343</td>\n",
       "      <td>69.55</td>\n",
       "      <td>NaN</td>\n",
       "      <td>S</td>\n",
       "    </tr>\n",
       "    <tr>\n",
       "      <th>792</th>\n",
       "      <td>793</td>\n",
       "      <td>0.0</td>\n",
       "      <td>3</td>\n",
       "      <td>Sage, Miss. Stella Anna</td>\n",
       "      <td>female</td>\n",
       "      <td>NaN</td>\n",
       "      <td>8</td>\n",
       "      <td>2</td>\n",
       "      <td>CA. 2343</td>\n",
       "      <td>69.55</td>\n",
       "      <td>NaN</td>\n",
       "      <td>S</td>\n",
       "    </tr>\n",
       "    <tr>\n",
       "      <th>846</th>\n",
       "      <td>847</td>\n",
       "      <td>0.0</td>\n",
       "      <td>3</td>\n",
       "      <td>Sage, Mr. Douglas Bullen</td>\n",
       "      <td>male</td>\n",
       "      <td>NaN</td>\n",
       "      <td>8</td>\n",
       "      <td>2</td>\n",
       "      <td>CA. 2343</td>\n",
       "      <td>69.55</td>\n",
       "      <td>NaN</td>\n",
       "      <td>S</td>\n",
       "    </tr>\n",
       "    <tr>\n",
       "      <th>863</th>\n",
       "      <td>864</td>\n",
       "      <td>0.0</td>\n",
       "      <td>3</td>\n",
       "      <td>Sage, Miss. Dorothy Edith \"Dolly\"</td>\n",
       "      <td>female</td>\n",
       "      <td>NaN</td>\n",
       "      <td>8</td>\n",
       "      <td>2</td>\n",
       "      <td>CA. 2343</td>\n",
       "      <td>69.55</td>\n",
       "      <td>NaN</td>\n",
       "      <td>S</td>\n",
       "    </tr>\n",
       "    <tr>\n",
       "      <th>188</th>\n",
       "      <td>1080</td>\n",
       "      <td>NaN</td>\n",
       "      <td>3</td>\n",
       "      <td>Sage, Miss. Ada</td>\n",
       "      <td>female</td>\n",
       "      <td>NaN</td>\n",
       "      <td>8</td>\n",
       "      <td>2</td>\n",
       "      <td>CA. 2343</td>\n",
       "      <td>69.55</td>\n",
       "      <td>NaN</td>\n",
       "      <td>S</td>\n",
       "    </tr>\n",
       "    <tr>\n",
       "      <th>342</th>\n",
       "      <td>1234</td>\n",
       "      <td>NaN</td>\n",
       "      <td>3</td>\n",
       "      <td>Sage, Mr. John George</td>\n",
       "      <td>male</td>\n",
       "      <td>NaN</td>\n",
       "      <td>1</td>\n",
       "      <td>9</td>\n",
       "      <td>CA. 2343</td>\n",
       "      <td>69.55</td>\n",
       "      <td>NaN</td>\n",
       "      <td>S</td>\n",
       "    </tr>\n",
       "    <tr>\n",
       "      <th>360</th>\n",
       "      <td>1252</td>\n",
       "      <td>NaN</td>\n",
       "      <td>3</td>\n",
       "      <td>Sage, Master. William Henry</td>\n",
       "      <td>male</td>\n",
       "      <td>14.5</td>\n",
       "      <td>8</td>\n",
       "      <td>2</td>\n",
       "      <td>CA. 2343</td>\n",
       "      <td>69.55</td>\n",
       "      <td>NaN</td>\n",
       "      <td>S</td>\n",
       "    </tr>\n",
       "    <tr>\n",
       "      <th>365</th>\n",
       "      <td>1257</td>\n",
       "      <td>NaN</td>\n",
       "      <td>3</td>\n",
       "      <td>Sage, Mrs. John (Annie Bullen)</td>\n",
       "      <td>female</td>\n",
       "      <td>NaN</td>\n",
       "      <td>1</td>\n",
       "      <td>9</td>\n",
       "      <td>CA. 2343</td>\n",
       "      <td>69.55</td>\n",
       "      <td>NaN</td>\n",
       "      <td>S</td>\n",
       "    </tr>\n",
       "  </tbody>\n",
       "</table>\n",
       "</div>"
      ],
      "text/plain": [
       "     PassengerId  Survived  Pclass                               Name     Sex  \\\n",
       "159          160       0.0       3         Sage, Master. Thomas Henry    male   \n",
       "180          181       0.0       3       Sage, Miss. Constance Gladys  female   \n",
       "201          202       0.0       3                Sage, Mr. Frederick    male   \n",
       "324          325       0.0       3           Sage, Mr. George John Jr    male   \n",
       "792          793       0.0       3            Sage, Miss. Stella Anna  female   \n",
       "846          847       0.0       3           Sage, Mr. Douglas Bullen    male   \n",
       "863          864       0.0       3  Sage, Miss. Dorothy Edith \"Dolly\"  female   \n",
       "188         1080       NaN       3                    Sage, Miss. Ada  female   \n",
       "342         1234       NaN       3              Sage, Mr. John George    male   \n",
       "360         1252       NaN       3        Sage, Master. William Henry    male   \n",
       "365         1257       NaN       3     Sage, Mrs. John (Annie Bullen)  female   \n",
       "\n",
       "      Age  SibSp  Parch    Ticket   Fare Cabin Embarked  \n",
       "159   NaN      8      2  CA. 2343  69.55   NaN        S  \n",
       "180   NaN      8      2  CA. 2343  69.55   NaN        S  \n",
       "201   NaN      8      2  CA. 2343  69.55   NaN        S  \n",
       "324   NaN      8      2  CA. 2343  69.55   NaN        S  \n",
       "792   NaN      8      2  CA. 2343  69.55   NaN        S  \n",
       "846   NaN      8      2  CA. 2343  69.55   NaN        S  \n",
       "863   NaN      8      2  CA. 2343  69.55   NaN        S  \n",
       "188   NaN      8      2  CA. 2343  69.55   NaN        S  \n",
       "342   NaN      1      9  CA. 2343  69.55   NaN        S  \n",
       "360  14.5      8      2  CA. 2343  69.55   NaN        S  \n",
       "365   NaN      1      9  CA. 2343  69.55   NaN        S  "
      ]
     },
     "execution_count": 53,
     "metadata": {},
     "output_type": "execute_result"
    }
   ],
   "source": [
    "# checking again\n",
    "df[df['Ticket']=='CA. 2343']"
   ]
  },
  {
   "cell_type": "markdown",
   "id": "c052e83d",
   "metadata": {
    "papermill": {
     "duration": 0.056939,
     "end_time": "2024-08-26T10:24:04.677818",
     "exception": false,
     "start_time": "2024-08-26T10:24:04.620879",
     "status": "completed"
    },
    "tags": []
   },
   "source": [
    "**Remark:** Now, this is right. In the last dataframe there are 11 rows attributiong to 11 passengers with same ticket number.\n",
    "\n",
    "Now, to get individual fare of each passenger in the \"train.csv\" dataset, we can add a **new column by dividing the \"Fare\" by total of \"SibSp\" and \"Parch\".**"
   ]
  },
  {
   "cell_type": "code",
   "execution_count": 54,
   "id": "c1ddf556",
   "metadata": {
    "execution": {
     "iopub.execute_input": "2024-08-26T10:24:04.791749Z",
     "iopub.status.busy": "2024-08-26T10:24:04.791323Z",
     "iopub.status.idle": "2024-08-26T10:24:04.798968Z",
     "shell.execute_reply": "2024-08-26T10:24:04.797707Z"
    },
    "papermill": {
     "duration": 0.066584,
     "end_time": "2024-08-26T10:24:04.801590",
     "exception": false,
     "start_time": "2024-08-26T10:24:04.735006",
     "status": "completed"
    },
    "tags": []
   },
   "outputs": [],
   "source": [
    "df['individual_fare']=df['Fare']/(df['SibSp']+df['Parch']+1)"
   ]
  },
  {
   "cell_type": "code",
   "execution_count": 55,
   "id": "62536112",
   "metadata": {
    "execution": {
     "iopub.execute_input": "2024-08-26T10:24:04.918937Z",
     "iopub.status.busy": "2024-08-26T10:24:04.917745Z",
     "iopub.status.idle": "2024-08-26T10:24:04.924421Z",
     "shell.execute_reply": "2024-08-26T10:24:04.923255Z"
    },
    "papermill": {
     "duration": 0.066706,
     "end_time": "2024-08-26T10:24:04.926884",
     "exception": false,
     "start_time": "2024-08-26T10:24:04.860178",
     "status": "completed"
    },
    "tags": []
   },
   "outputs": [],
   "source": [
    "# new column representing family size\n",
    "df['family_size'] = df['SibSp']+df['Parch']+1"
   ]
  },
  {
   "cell_type": "code",
   "execution_count": 56,
   "id": "da4db35e",
   "metadata": {
    "execution": {
     "iopub.execute_input": "2024-08-26T10:24:05.042756Z",
     "iopub.status.busy": "2024-08-26T10:24:05.041733Z",
     "iopub.status.idle": "2024-08-26T10:24:05.066560Z",
     "shell.execute_reply": "2024-08-26T10:24:05.065375Z"
    },
    "papermill": {
     "duration": 0.084521,
     "end_time": "2024-08-26T10:24:05.068885",
     "exception": false,
     "start_time": "2024-08-26T10:24:04.984364",
     "status": "completed"
    },
    "tags": []
   },
   "outputs": [
    {
     "data": {
      "text/html": [
       "<div>\n",
       "<style scoped>\n",
       "    .dataframe tbody tr th:only-of-type {\n",
       "        vertical-align: middle;\n",
       "    }\n",
       "\n",
       "    .dataframe tbody tr th {\n",
       "        vertical-align: top;\n",
       "    }\n",
       "\n",
       "    .dataframe thead th {\n",
       "        text-align: right;\n",
       "    }\n",
       "</style>\n",
       "<table border=\"1\" class=\"dataframe\">\n",
       "  <thead>\n",
       "    <tr style=\"text-align: right;\">\n",
       "      <th></th>\n",
       "      <th>PassengerId</th>\n",
       "      <th>Survived</th>\n",
       "      <th>Pclass</th>\n",
       "      <th>Name</th>\n",
       "      <th>Sex</th>\n",
       "      <th>Age</th>\n",
       "      <th>SibSp</th>\n",
       "      <th>Parch</th>\n",
       "      <th>Ticket</th>\n",
       "      <th>Fare</th>\n",
       "      <th>Cabin</th>\n",
       "      <th>Embarked</th>\n",
       "      <th>individual_fare</th>\n",
       "      <th>family_size</th>\n",
       "    </tr>\n",
       "  </thead>\n",
       "  <tbody>\n",
       "    <tr>\n",
       "      <th>0</th>\n",
       "      <td>1</td>\n",
       "      <td>0.0</td>\n",
       "      <td>3</td>\n",
       "      <td>Braund, Mr. Owen Harris</td>\n",
       "      <td>male</td>\n",
       "      <td>22.0</td>\n",
       "      <td>1</td>\n",
       "      <td>0</td>\n",
       "      <td>A/5 21171</td>\n",
       "      <td>7.2500</td>\n",
       "      <td>NaN</td>\n",
       "      <td>S</td>\n",
       "      <td>3.625000</td>\n",
       "      <td>2</td>\n",
       "    </tr>\n",
       "    <tr>\n",
       "      <th>1</th>\n",
       "      <td>2</td>\n",
       "      <td>1.0</td>\n",
       "      <td>1</td>\n",
       "      <td>Cumings, Mrs. John Bradley (Florence Briggs Th...</td>\n",
       "      <td>female</td>\n",
       "      <td>38.0</td>\n",
       "      <td>1</td>\n",
       "      <td>0</td>\n",
       "      <td>PC 17599</td>\n",
       "      <td>71.2833</td>\n",
       "      <td>C85</td>\n",
       "      <td>C</td>\n",
       "      <td>35.641650</td>\n",
       "      <td>2</td>\n",
       "    </tr>\n",
       "    <tr>\n",
       "      <th>2</th>\n",
       "      <td>3</td>\n",
       "      <td>1.0</td>\n",
       "      <td>3</td>\n",
       "      <td>Heikkinen, Miss. Laina</td>\n",
       "      <td>female</td>\n",
       "      <td>26.0</td>\n",
       "      <td>0</td>\n",
       "      <td>0</td>\n",
       "      <td>STON/O2. 3101282</td>\n",
       "      <td>7.9250</td>\n",
       "      <td>NaN</td>\n",
       "      <td>S</td>\n",
       "      <td>7.925000</td>\n",
       "      <td>1</td>\n",
       "    </tr>\n",
       "    <tr>\n",
       "      <th>3</th>\n",
       "      <td>4</td>\n",
       "      <td>1.0</td>\n",
       "      <td>1</td>\n",
       "      <td>Futrelle, Mrs. Jacques Heath (Lily May Peel)</td>\n",
       "      <td>female</td>\n",
       "      <td>35.0</td>\n",
       "      <td>1</td>\n",
       "      <td>0</td>\n",
       "      <td>113803</td>\n",
       "      <td>53.1000</td>\n",
       "      <td>C123</td>\n",
       "      <td>S</td>\n",
       "      <td>26.550000</td>\n",
       "      <td>2</td>\n",
       "    </tr>\n",
       "    <tr>\n",
       "      <th>4</th>\n",
       "      <td>5</td>\n",
       "      <td>0.0</td>\n",
       "      <td>3</td>\n",
       "      <td>Allen, Mr. William Henry</td>\n",
       "      <td>male</td>\n",
       "      <td>35.0</td>\n",
       "      <td>0</td>\n",
       "      <td>0</td>\n",
       "      <td>373450</td>\n",
       "      <td>8.0500</td>\n",
       "      <td>NaN</td>\n",
       "      <td>S</td>\n",
       "      <td>8.050000</td>\n",
       "      <td>1</td>\n",
       "    </tr>\n",
       "    <tr>\n",
       "      <th>...</th>\n",
       "      <td>...</td>\n",
       "      <td>...</td>\n",
       "      <td>...</td>\n",
       "      <td>...</td>\n",
       "      <td>...</td>\n",
       "      <td>...</td>\n",
       "      <td>...</td>\n",
       "      <td>...</td>\n",
       "      <td>...</td>\n",
       "      <td>...</td>\n",
       "      <td>...</td>\n",
       "      <td>...</td>\n",
       "      <td>...</td>\n",
       "      <td>...</td>\n",
       "    </tr>\n",
       "    <tr>\n",
       "      <th>413</th>\n",
       "      <td>1305</td>\n",
       "      <td>NaN</td>\n",
       "      <td>3</td>\n",
       "      <td>Spector, Mr. Woolf</td>\n",
       "      <td>male</td>\n",
       "      <td>NaN</td>\n",
       "      <td>0</td>\n",
       "      <td>0</td>\n",
       "      <td>A.5. 3236</td>\n",
       "      <td>8.0500</td>\n",
       "      <td>NaN</td>\n",
       "      <td>S</td>\n",
       "      <td>8.050000</td>\n",
       "      <td>1</td>\n",
       "    </tr>\n",
       "    <tr>\n",
       "      <th>414</th>\n",
       "      <td>1306</td>\n",
       "      <td>NaN</td>\n",
       "      <td>1</td>\n",
       "      <td>Oliva y Ocana, Dona. Fermina</td>\n",
       "      <td>female</td>\n",
       "      <td>39.0</td>\n",
       "      <td>0</td>\n",
       "      <td>0</td>\n",
       "      <td>PC 17758</td>\n",
       "      <td>108.9000</td>\n",
       "      <td>C105</td>\n",
       "      <td>C</td>\n",
       "      <td>108.900000</td>\n",
       "      <td>1</td>\n",
       "    </tr>\n",
       "    <tr>\n",
       "      <th>415</th>\n",
       "      <td>1307</td>\n",
       "      <td>NaN</td>\n",
       "      <td>3</td>\n",
       "      <td>Saether, Mr. Simon Sivertsen</td>\n",
       "      <td>male</td>\n",
       "      <td>38.5</td>\n",
       "      <td>0</td>\n",
       "      <td>0</td>\n",
       "      <td>SOTON/O.Q. 3101262</td>\n",
       "      <td>7.2500</td>\n",
       "      <td>NaN</td>\n",
       "      <td>S</td>\n",
       "      <td>7.250000</td>\n",
       "      <td>1</td>\n",
       "    </tr>\n",
       "    <tr>\n",
       "      <th>416</th>\n",
       "      <td>1308</td>\n",
       "      <td>NaN</td>\n",
       "      <td>3</td>\n",
       "      <td>Ware, Mr. Frederick</td>\n",
       "      <td>male</td>\n",
       "      <td>NaN</td>\n",
       "      <td>0</td>\n",
       "      <td>0</td>\n",
       "      <td>359309</td>\n",
       "      <td>8.0500</td>\n",
       "      <td>NaN</td>\n",
       "      <td>S</td>\n",
       "      <td>8.050000</td>\n",
       "      <td>1</td>\n",
       "    </tr>\n",
       "    <tr>\n",
       "      <th>417</th>\n",
       "      <td>1309</td>\n",
       "      <td>NaN</td>\n",
       "      <td>3</td>\n",
       "      <td>Peter, Master. Michael J</td>\n",
       "      <td>male</td>\n",
       "      <td>NaN</td>\n",
       "      <td>1</td>\n",
       "      <td>1</td>\n",
       "      <td>2668</td>\n",
       "      <td>22.3583</td>\n",
       "      <td>NaN</td>\n",
       "      <td>C</td>\n",
       "      <td>7.452767</td>\n",
       "      <td>3</td>\n",
       "    </tr>\n",
       "  </tbody>\n",
       "</table>\n",
       "<p>1309 rows × 14 columns</p>\n",
       "</div>"
      ],
      "text/plain": [
       "     PassengerId  Survived  Pclass  \\\n",
       "0              1       0.0       3   \n",
       "1              2       1.0       1   \n",
       "2              3       1.0       3   \n",
       "3              4       1.0       1   \n",
       "4              5       0.0       3   \n",
       "..           ...       ...     ...   \n",
       "413         1305       NaN       3   \n",
       "414         1306       NaN       1   \n",
       "415         1307       NaN       3   \n",
       "416         1308       NaN       3   \n",
       "417         1309       NaN       3   \n",
       "\n",
       "                                                  Name     Sex   Age  SibSp  \\\n",
       "0                              Braund, Mr. Owen Harris    male  22.0      1   \n",
       "1    Cumings, Mrs. John Bradley (Florence Briggs Th...  female  38.0      1   \n",
       "2                               Heikkinen, Miss. Laina  female  26.0      0   \n",
       "3         Futrelle, Mrs. Jacques Heath (Lily May Peel)  female  35.0      1   \n",
       "4                             Allen, Mr. William Henry    male  35.0      0   \n",
       "..                                                 ...     ...   ...    ...   \n",
       "413                                 Spector, Mr. Woolf    male   NaN      0   \n",
       "414                       Oliva y Ocana, Dona. Fermina  female  39.0      0   \n",
       "415                       Saether, Mr. Simon Sivertsen    male  38.5      0   \n",
       "416                                Ware, Mr. Frederick    male   NaN      0   \n",
       "417                           Peter, Master. Michael J    male   NaN      1   \n",
       "\n",
       "     Parch              Ticket      Fare Cabin Embarked  individual_fare  \\\n",
       "0        0           A/5 21171    7.2500   NaN        S         3.625000   \n",
       "1        0            PC 17599   71.2833   C85        C        35.641650   \n",
       "2        0    STON/O2. 3101282    7.9250   NaN        S         7.925000   \n",
       "3        0              113803   53.1000  C123        S        26.550000   \n",
       "4        0              373450    8.0500   NaN        S         8.050000   \n",
       "..     ...                 ...       ...   ...      ...              ...   \n",
       "413      0           A.5. 3236    8.0500   NaN        S         8.050000   \n",
       "414      0            PC 17758  108.9000  C105        C       108.900000   \n",
       "415      0  SOTON/O.Q. 3101262    7.2500   NaN        S         7.250000   \n",
       "416      0              359309    8.0500   NaN        S         8.050000   \n",
       "417      1                2668   22.3583   NaN        C         7.452767   \n",
       "\n",
       "     family_size  \n",
       "0              2  \n",
       "1              2  \n",
       "2              1  \n",
       "3              2  \n",
       "4              1  \n",
       "..           ...  \n",
       "413            1  \n",
       "414            1  \n",
       "415            1  \n",
       "416            1  \n",
       "417            3  \n",
       "\n",
       "[1309 rows x 14 columns]"
      ]
     },
     "execution_count": 56,
     "metadata": {},
     "output_type": "execute_result"
    }
   ],
   "source": [
    "df"
   ]
  },
  {
   "cell_type": "markdown",
   "id": "c9b6d507",
   "metadata": {
    "papermill": {
     "duration": 0.053535,
     "end_time": "2024-08-26T10:24:05.175944",
     "exception": false,
     "start_time": "2024-08-26T10:24:05.122409",
     "status": "completed"
    },
    "tags": []
   },
   "source": [
    "**transforming the family_size column into category**\n",
    "- 1 : alone\n",
    "- 2-4 : small\n",
    "- greater than 5 : large\n",
    "\n"
   ]
  },
  {
   "cell_type": "code",
   "execution_count": 57,
   "id": "3e86da01",
   "metadata": {
    "execution": {
     "iopub.execute_input": "2024-08-26T10:24:05.286500Z",
     "iopub.status.busy": "2024-08-26T10:24:05.286083Z",
     "iopub.status.idle": "2024-08-26T10:24:05.294502Z",
     "shell.execute_reply": "2024-08-26T10:24:05.292960Z"
    },
    "papermill": {
     "duration": 0.068097,
     "end_time": "2024-08-26T10:24:05.297499",
     "exception": false,
     "start_time": "2024-08-26T10:24:05.229402",
     "status": "completed"
    },
    "tags": []
   },
   "outputs": [],
   "source": [
    "def transform_family_size(num) : \n",
    "    if num ==1 :\n",
    "        return 'alone'\n",
    "    elif num>1 and num<5 :\n",
    "        return 'small'\n",
    "    else:\n",
    "        return 'large'\n",
    "df['family_type'] = df['family_size'].apply(transform_family_size)"
   ]
  },
  {
   "cell_type": "code",
   "execution_count": 58,
   "id": "1d01da48",
   "metadata": {
    "execution": {
     "iopub.execute_input": "2024-08-26T10:24:05.409969Z",
     "iopub.status.busy": "2024-08-26T10:24:05.409525Z",
     "iopub.status.idle": "2024-08-26T10:24:05.435766Z",
     "shell.execute_reply": "2024-08-26T10:24:05.434585Z"
    },
    "papermill": {
     "duration": 0.08562,
     "end_time": "2024-08-26T10:24:05.438342",
     "exception": false,
     "start_time": "2024-08-26T10:24:05.352722",
     "status": "completed"
    },
    "tags": []
   },
   "outputs": [
    {
     "data": {
      "text/html": [
       "<div>\n",
       "<style scoped>\n",
       "    .dataframe tbody tr th:only-of-type {\n",
       "        vertical-align: middle;\n",
       "    }\n",
       "\n",
       "    .dataframe tbody tr th {\n",
       "        vertical-align: top;\n",
       "    }\n",
       "\n",
       "    .dataframe thead th {\n",
       "        text-align: right;\n",
       "    }\n",
       "</style>\n",
       "<table border=\"1\" class=\"dataframe\">\n",
       "  <thead>\n",
       "    <tr style=\"text-align: right;\">\n",
       "      <th></th>\n",
       "      <th>PassengerId</th>\n",
       "      <th>Survived</th>\n",
       "      <th>Pclass</th>\n",
       "      <th>Name</th>\n",
       "      <th>Sex</th>\n",
       "      <th>Age</th>\n",
       "      <th>SibSp</th>\n",
       "      <th>Parch</th>\n",
       "      <th>Ticket</th>\n",
       "      <th>Fare</th>\n",
       "      <th>Cabin</th>\n",
       "      <th>Embarked</th>\n",
       "      <th>individual_fare</th>\n",
       "      <th>family_size</th>\n",
       "      <th>family_type</th>\n",
       "    </tr>\n",
       "  </thead>\n",
       "  <tbody>\n",
       "    <tr>\n",
       "      <th>0</th>\n",
       "      <td>1</td>\n",
       "      <td>0.0</td>\n",
       "      <td>3</td>\n",
       "      <td>Braund, Mr. Owen Harris</td>\n",
       "      <td>male</td>\n",
       "      <td>22.0</td>\n",
       "      <td>1</td>\n",
       "      <td>0</td>\n",
       "      <td>A/5 21171</td>\n",
       "      <td>7.2500</td>\n",
       "      <td>NaN</td>\n",
       "      <td>S</td>\n",
       "      <td>3.625000</td>\n",
       "      <td>2</td>\n",
       "      <td>small</td>\n",
       "    </tr>\n",
       "    <tr>\n",
       "      <th>1</th>\n",
       "      <td>2</td>\n",
       "      <td>1.0</td>\n",
       "      <td>1</td>\n",
       "      <td>Cumings, Mrs. John Bradley (Florence Briggs Th...</td>\n",
       "      <td>female</td>\n",
       "      <td>38.0</td>\n",
       "      <td>1</td>\n",
       "      <td>0</td>\n",
       "      <td>PC 17599</td>\n",
       "      <td>71.2833</td>\n",
       "      <td>C85</td>\n",
       "      <td>C</td>\n",
       "      <td>35.641650</td>\n",
       "      <td>2</td>\n",
       "      <td>small</td>\n",
       "    </tr>\n",
       "    <tr>\n",
       "      <th>2</th>\n",
       "      <td>3</td>\n",
       "      <td>1.0</td>\n",
       "      <td>3</td>\n",
       "      <td>Heikkinen, Miss. Laina</td>\n",
       "      <td>female</td>\n",
       "      <td>26.0</td>\n",
       "      <td>0</td>\n",
       "      <td>0</td>\n",
       "      <td>STON/O2. 3101282</td>\n",
       "      <td>7.9250</td>\n",
       "      <td>NaN</td>\n",
       "      <td>S</td>\n",
       "      <td>7.925000</td>\n",
       "      <td>1</td>\n",
       "      <td>alone</td>\n",
       "    </tr>\n",
       "    <tr>\n",
       "      <th>3</th>\n",
       "      <td>4</td>\n",
       "      <td>1.0</td>\n",
       "      <td>1</td>\n",
       "      <td>Futrelle, Mrs. Jacques Heath (Lily May Peel)</td>\n",
       "      <td>female</td>\n",
       "      <td>35.0</td>\n",
       "      <td>1</td>\n",
       "      <td>0</td>\n",
       "      <td>113803</td>\n",
       "      <td>53.1000</td>\n",
       "      <td>C123</td>\n",
       "      <td>S</td>\n",
       "      <td>26.550000</td>\n",
       "      <td>2</td>\n",
       "      <td>small</td>\n",
       "    </tr>\n",
       "    <tr>\n",
       "      <th>4</th>\n",
       "      <td>5</td>\n",
       "      <td>0.0</td>\n",
       "      <td>3</td>\n",
       "      <td>Allen, Mr. William Henry</td>\n",
       "      <td>male</td>\n",
       "      <td>35.0</td>\n",
       "      <td>0</td>\n",
       "      <td>0</td>\n",
       "      <td>373450</td>\n",
       "      <td>8.0500</td>\n",
       "      <td>NaN</td>\n",
       "      <td>S</td>\n",
       "      <td>8.050000</td>\n",
       "      <td>1</td>\n",
       "      <td>alone</td>\n",
       "    </tr>\n",
       "    <tr>\n",
       "      <th>...</th>\n",
       "      <td>...</td>\n",
       "      <td>...</td>\n",
       "      <td>...</td>\n",
       "      <td>...</td>\n",
       "      <td>...</td>\n",
       "      <td>...</td>\n",
       "      <td>...</td>\n",
       "      <td>...</td>\n",
       "      <td>...</td>\n",
       "      <td>...</td>\n",
       "      <td>...</td>\n",
       "      <td>...</td>\n",
       "      <td>...</td>\n",
       "      <td>...</td>\n",
       "      <td>...</td>\n",
       "    </tr>\n",
       "    <tr>\n",
       "      <th>413</th>\n",
       "      <td>1305</td>\n",
       "      <td>NaN</td>\n",
       "      <td>3</td>\n",
       "      <td>Spector, Mr. Woolf</td>\n",
       "      <td>male</td>\n",
       "      <td>NaN</td>\n",
       "      <td>0</td>\n",
       "      <td>0</td>\n",
       "      <td>A.5. 3236</td>\n",
       "      <td>8.0500</td>\n",
       "      <td>NaN</td>\n",
       "      <td>S</td>\n",
       "      <td>8.050000</td>\n",
       "      <td>1</td>\n",
       "      <td>alone</td>\n",
       "    </tr>\n",
       "    <tr>\n",
       "      <th>414</th>\n",
       "      <td>1306</td>\n",
       "      <td>NaN</td>\n",
       "      <td>1</td>\n",
       "      <td>Oliva y Ocana, Dona. Fermina</td>\n",
       "      <td>female</td>\n",
       "      <td>39.0</td>\n",
       "      <td>0</td>\n",
       "      <td>0</td>\n",
       "      <td>PC 17758</td>\n",
       "      <td>108.9000</td>\n",
       "      <td>C105</td>\n",
       "      <td>C</td>\n",
       "      <td>108.900000</td>\n",
       "      <td>1</td>\n",
       "      <td>alone</td>\n",
       "    </tr>\n",
       "    <tr>\n",
       "      <th>415</th>\n",
       "      <td>1307</td>\n",
       "      <td>NaN</td>\n",
       "      <td>3</td>\n",
       "      <td>Saether, Mr. Simon Sivertsen</td>\n",
       "      <td>male</td>\n",
       "      <td>38.5</td>\n",
       "      <td>0</td>\n",
       "      <td>0</td>\n",
       "      <td>SOTON/O.Q. 3101262</td>\n",
       "      <td>7.2500</td>\n",
       "      <td>NaN</td>\n",
       "      <td>S</td>\n",
       "      <td>7.250000</td>\n",
       "      <td>1</td>\n",
       "      <td>alone</td>\n",
       "    </tr>\n",
       "    <tr>\n",
       "      <th>416</th>\n",
       "      <td>1308</td>\n",
       "      <td>NaN</td>\n",
       "      <td>3</td>\n",
       "      <td>Ware, Mr. Frederick</td>\n",
       "      <td>male</td>\n",
       "      <td>NaN</td>\n",
       "      <td>0</td>\n",
       "      <td>0</td>\n",
       "      <td>359309</td>\n",
       "      <td>8.0500</td>\n",
       "      <td>NaN</td>\n",
       "      <td>S</td>\n",
       "      <td>8.050000</td>\n",
       "      <td>1</td>\n",
       "      <td>alone</td>\n",
       "    </tr>\n",
       "    <tr>\n",
       "      <th>417</th>\n",
       "      <td>1309</td>\n",
       "      <td>NaN</td>\n",
       "      <td>3</td>\n",
       "      <td>Peter, Master. Michael J</td>\n",
       "      <td>male</td>\n",
       "      <td>NaN</td>\n",
       "      <td>1</td>\n",
       "      <td>1</td>\n",
       "      <td>2668</td>\n",
       "      <td>22.3583</td>\n",
       "      <td>NaN</td>\n",
       "      <td>C</td>\n",
       "      <td>7.452767</td>\n",
       "      <td>3</td>\n",
       "      <td>small</td>\n",
       "    </tr>\n",
       "  </tbody>\n",
       "</table>\n",
       "<p>1309 rows × 15 columns</p>\n",
       "</div>"
      ],
      "text/plain": [
       "     PassengerId  Survived  Pclass  \\\n",
       "0              1       0.0       3   \n",
       "1              2       1.0       1   \n",
       "2              3       1.0       3   \n",
       "3              4       1.0       1   \n",
       "4              5       0.0       3   \n",
       "..           ...       ...     ...   \n",
       "413         1305       NaN       3   \n",
       "414         1306       NaN       1   \n",
       "415         1307       NaN       3   \n",
       "416         1308       NaN       3   \n",
       "417         1309       NaN       3   \n",
       "\n",
       "                                                  Name     Sex   Age  SibSp  \\\n",
       "0                              Braund, Mr. Owen Harris    male  22.0      1   \n",
       "1    Cumings, Mrs. John Bradley (Florence Briggs Th...  female  38.0      1   \n",
       "2                               Heikkinen, Miss. Laina  female  26.0      0   \n",
       "3         Futrelle, Mrs. Jacques Heath (Lily May Peel)  female  35.0      1   \n",
       "4                             Allen, Mr. William Henry    male  35.0      0   \n",
       "..                                                 ...     ...   ...    ...   \n",
       "413                                 Spector, Mr. Woolf    male   NaN      0   \n",
       "414                       Oliva y Ocana, Dona. Fermina  female  39.0      0   \n",
       "415                       Saether, Mr. Simon Sivertsen    male  38.5      0   \n",
       "416                                Ware, Mr. Frederick    male   NaN      0   \n",
       "417                           Peter, Master. Michael J    male   NaN      1   \n",
       "\n",
       "     Parch              Ticket      Fare Cabin Embarked  individual_fare  \\\n",
       "0        0           A/5 21171    7.2500   NaN        S         3.625000   \n",
       "1        0            PC 17599   71.2833   C85        C        35.641650   \n",
       "2        0    STON/O2. 3101282    7.9250   NaN        S         7.925000   \n",
       "3        0              113803   53.1000  C123        S        26.550000   \n",
       "4        0              373450    8.0500   NaN        S         8.050000   \n",
       "..     ...                 ...       ...   ...      ...              ...   \n",
       "413      0           A.5. 3236    8.0500   NaN        S         8.050000   \n",
       "414      0            PC 17758  108.9000  C105        C       108.900000   \n",
       "415      0  SOTON/O.Q. 3101262    7.2500   NaN        S         7.250000   \n",
       "416      0              359309    8.0500   NaN        S         8.050000   \n",
       "417      1                2668   22.3583   NaN        C         7.452767   \n",
       "\n",
       "     family_size family_type  \n",
       "0              2       small  \n",
       "1              2       small  \n",
       "2              1       alone  \n",
       "3              2       small  \n",
       "4              1       alone  \n",
       "..           ...         ...  \n",
       "413            1       alone  \n",
       "414            1       alone  \n",
       "415            1       alone  \n",
       "416            1       alone  \n",
       "417            3       small  \n",
       "\n",
       "[1309 rows x 15 columns]"
      ]
     },
     "execution_count": 58,
     "metadata": {},
     "output_type": "execute_result"
    }
   ],
   "source": [
    "df"
   ]
  },
  {
   "cell_type": "markdown",
   "id": "854ce00d",
   "metadata": {
    "papermill": {
     "duration": 0.056465,
     "end_time": "2024-08-26T10:24:05.550414",
     "exception": false,
     "start_time": "2024-08-26T10:24:05.493949",
     "status": "completed"
    },
    "tags": []
   },
   "source": [
    "**Now, we want to see the relationship between the family_type and the Survived column.**"
   ]
  },
  {
   "cell_type": "markdown",
   "id": "e699b55e",
   "metadata": {
    "papermill": {
     "duration": 0.057058,
     "end_time": "2024-08-26T10:24:05.662555",
     "exception": false,
     "start_time": "2024-08-26T10:24:05.605497",
     "status": "completed"
    },
    "tags": []
   },
   "source": [
    "**********************\n",
    "*************************"
   ]
  },
  {
   "cell_type": "markdown",
   "id": "e64767b0",
   "metadata": {
    "papermill": {
     "duration": 0.05444,
     "end_time": "2024-08-26T10:24:05.773939",
     "exception": false,
     "start_time": "2024-08-26T10:24:05.719499",
     "status": "completed"
    },
    "tags": []
   },
   "source": [
    "### **5.5 Survived and family_type (Categorical - Categorical)**"
   ]
  },
  {
   "cell_type": "code",
   "execution_count": 59,
   "id": "a650c4aa",
   "metadata": {
    "execution": {
     "iopub.execute_input": "2024-08-26T10:24:05.883964Z",
     "iopub.status.busy": "2024-08-26T10:24:05.883487Z",
     "iopub.status.idle": "2024-08-26T10:24:05.905074Z",
     "shell.execute_reply": "2024-08-26T10:24:05.903878Z"
    },
    "papermill": {
     "duration": 0.078946,
     "end_time": "2024-08-26T10:24:05.907582",
     "exception": false,
     "start_time": "2024-08-26T10:24:05.828636",
     "status": "completed"
    },
    "tags": []
   },
   "outputs": [
    {
     "data": {
      "text/html": [
       "<div>\n",
       "<style scoped>\n",
       "    .dataframe tbody tr th:only-of-type {\n",
       "        vertical-align: middle;\n",
       "    }\n",
       "\n",
       "    .dataframe tbody tr th {\n",
       "        vertical-align: top;\n",
       "    }\n",
       "\n",
       "    .dataframe thead th {\n",
       "        text-align: right;\n",
       "    }\n",
       "</style>\n",
       "<table border=\"1\" class=\"dataframe\">\n",
       "  <thead>\n",
       "    <tr style=\"text-align: right;\">\n",
       "      <th>family_type</th>\n",
       "      <th>alone</th>\n",
       "      <th>large</th>\n",
       "      <th>small</th>\n",
       "    </tr>\n",
       "    <tr>\n",
       "      <th>Survived</th>\n",
       "      <th></th>\n",
       "      <th></th>\n",
       "      <th></th>\n",
       "    </tr>\n",
       "  </thead>\n",
       "  <tbody>\n",
       "    <tr>\n",
       "      <th>0.0</th>\n",
       "      <td>69.646182</td>\n",
       "      <td>83.870968</td>\n",
       "      <td>42.123288</td>\n",
       "    </tr>\n",
       "    <tr>\n",
       "      <th>1.0</th>\n",
       "      <td>30.353818</td>\n",
       "      <td>16.129032</td>\n",
       "      <td>57.876712</td>\n",
       "    </tr>\n",
       "  </tbody>\n",
       "</table>\n",
       "</div>"
      ],
      "text/plain": [
       "family_type      alone      large      small\n",
       "Survived                                    \n",
       "0.0          69.646182  83.870968  42.123288\n",
       "1.0          30.353818  16.129032  57.876712"
      ]
     },
     "execution_count": 59,
     "metadata": {},
     "output_type": "execute_result"
    }
   ],
   "source": [
    "pd.crosstab(df['Survived'],df['family_type'],normalize = 'columns')*100"
   ]
  },
  {
   "cell_type": "markdown",
   "id": "c139fb23",
   "metadata": {
    "papermill": {
     "duration": 0.053058,
     "end_time": "2024-08-26T10:24:06.014593",
     "exception": false,
     "start_time": "2024-08-26T10:24:05.961535",
     "status": "completed"
    },
    "tags": []
   },
   "source": [
    "#### Conclusion\n",
    "Clearly, if any passenger were travelling in a **small** family, then he/she must have the higher probability of surviving."
   ]
  },
  {
   "cell_type": "code",
   "execution_count": 60,
   "id": "d75a43af",
   "metadata": {
    "execution": {
     "iopub.execute_input": "2024-08-26T10:24:06.125112Z",
     "iopub.status.busy": "2024-08-26T10:24:06.124553Z",
     "iopub.status.idle": "2024-08-26T10:24:06.150404Z",
     "shell.execute_reply": "2024-08-26T10:24:06.149252Z"
    },
    "papermill": {
     "duration": 0.083902,
     "end_time": "2024-08-26T10:24:06.152786",
     "exception": false,
     "start_time": "2024-08-26T10:24:06.068884",
     "status": "completed"
    },
    "tags": []
   },
   "outputs": [
    {
     "data": {
      "text/html": [
       "<div>\n",
       "<style scoped>\n",
       "    .dataframe tbody tr th:only-of-type {\n",
       "        vertical-align: middle;\n",
       "    }\n",
       "\n",
       "    .dataframe tbody tr th {\n",
       "        vertical-align: top;\n",
       "    }\n",
       "\n",
       "    .dataframe thead th {\n",
       "        text-align: right;\n",
       "    }\n",
       "</style>\n",
       "<table border=\"1\" class=\"dataframe\">\n",
       "  <thead>\n",
       "    <tr style=\"text-align: right;\">\n",
       "      <th></th>\n",
       "      <th>PassengerId</th>\n",
       "      <th>Survived</th>\n",
       "      <th>Pclass</th>\n",
       "      <th>Name</th>\n",
       "      <th>Sex</th>\n",
       "      <th>Age</th>\n",
       "      <th>SibSp</th>\n",
       "      <th>Parch</th>\n",
       "      <th>Ticket</th>\n",
       "      <th>Fare</th>\n",
       "      <th>Cabin</th>\n",
       "      <th>Embarked</th>\n",
       "      <th>individual_fare</th>\n",
       "      <th>family_size</th>\n",
       "      <th>family_type</th>\n",
       "    </tr>\n",
       "  </thead>\n",
       "  <tbody>\n",
       "    <tr>\n",
       "      <th>0</th>\n",
       "      <td>1</td>\n",
       "      <td>0.0</td>\n",
       "      <td>3</td>\n",
       "      <td>Braund, Mr. Owen Harris</td>\n",
       "      <td>male</td>\n",
       "      <td>22.0</td>\n",
       "      <td>1</td>\n",
       "      <td>0</td>\n",
       "      <td>A/5 21171</td>\n",
       "      <td>7.2500</td>\n",
       "      <td>NaN</td>\n",
       "      <td>S</td>\n",
       "      <td>3.625000</td>\n",
       "      <td>2</td>\n",
       "      <td>small</td>\n",
       "    </tr>\n",
       "    <tr>\n",
       "      <th>1</th>\n",
       "      <td>2</td>\n",
       "      <td>1.0</td>\n",
       "      <td>1</td>\n",
       "      <td>Cumings, Mrs. John Bradley (Florence Briggs Th...</td>\n",
       "      <td>female</td>\n",
       "      <td>38.0</td>\n",
       "      <td>1</td>\n",
       "      <td>0</td>\n",
       "      <td>PC 17599</td>\n",
       "      <td>71.2833</td>\n",
       "      <td>C85</td>\n",
       "      <td>C</td>\n",
       "      <td>35.641650</td>\n",
       "      <td>2</td>\n",
       "      <td>small</td>\n",
       "    </tr>\n",
       "    <tr>\n",
       "      <th>2</th>\n",
       "      <td>3</td>\n",
       "      <td>1.0</td>\n",
       "      <td>3</td>\n",
       "      <td>Heikkinen, Miss. Laina</td>\n",
       "      <td>female</td>\n",
       "      <td>26.0</td>\n",
       "      <td>0</td>\n",
       "      <td>0</td>\n",
       "      <td>STON/O2. 3101282</td>\n",
       "      <td>7.9250</td>\n",
       "      <td>NaN</td>\n",
       "      <td>S</td>\n",
       "      <td>7.925000</td>\n",
       "      <td>1</td>\n",
       "      <td>alone</td>\n",
       "    </tr>\n",
       "    <tr>\n",
       "      <th>3</th>\n",
       "      <td>4</td>\n",
       "      <td>1.0</td>\n",
       "      <td>1</td>\n",
       "      <td>Futrelle, Mrs. Jacques Heath (Lily May Peel)</td>\n",
       "      <td>female</td>\n",
       "      <td>35.0</td>\n",
       "      <td>1</td>\n",
       "      <td>0</td>\n",
       "      <td>113803</td>\n",
       "      <td>53.1000</td>\n",
       "      <td>C123</td>\n",
       "      <td>S</td>\n",
       "      <td>26.550000</td>\n",
       "      <td>2</td>\n",
       "      <td>small</td>\n",
       "    </tr>\n",
       "    <tr>\n",
       "      <th>4</th>\n",
       "      <td>5</td>\n",
       "      <td>0.0</td>\n",
       "      <td>3</td>\n",
       "      <td>Allen, Mr. William Henry</td>\n",
       "      <td>male</td>\n",
       "      <td>35.0</td>\n",
       "      <td>0</td>\n",
       "      <td>0</td>\n",
       "      <td>373450</td>\n",
       "      <td>8.0500</td>\n",
       "      <td>NaN</td>\n",
       "      <td>S</td>\n",
       "      <td>8.050000</td>\n",
       "      <td>1</td>\n",
       "      <td>alone</td>\n",
       "    </tr>\n",
       "    <tr>\n",
       "      <th>...</th>\n",
       "      <td>...</td>\n",
       "      <td>...</td>\n",
       "      <td>...</td>\n",
       "      <td>...</td>\n",
       "      <td>...</td>\n",
       "      <td>...</td>\n",
       "      <td>...</td>\n",
       "      <td>...</td>\n",
       "      <td>...</td>\n",
       "      <td>...</td>\n",
       "      <td>...</td>\n",
       "      <td>...</td>\n",
       "      <td>...</td>\n",
       "      <td>...</td>\n",
       "      <td>...</td>\n",
       "    </tr>\n",
       "    <tr>\n",
       "      <th>413</th>\n",
       "      <td>1305</td>\n",
       "      <td>NaN</td>\n",
       "      <td>3</td>\n",
       "      <td>Spector, Mr. Woolf</td>\n",
       "      <td>male</td>\n",
       "      <td>NaN</td>\n",
       "      <td>0</td>\n",
       "      <td>0</td>\n",
       "      <td>A.5. 3236</td>\n",
       "      <td>8.0500</td>\n",
       "      <td>NaN</td>\n",
       "      <td>S</td>\n",
       "      <td>8.050000</td>\n",
       "      <td>1</td>\n",
       "      <td>alone</td>\n",
       "    </tr>\n",
       "    <tr>\n",
       "      <th>414</th>\n",
       "      <td>1306</td>\n",
       "      <td>NaN</td>\n",
       "      <td>1</td>\n",
       "      <td>Oliva y Ocana, Dona. Fermina</td>\n",
       "      <td>female</td>\n",
       "      <td>39.0</td>\n",
       "      <td>0</td>\n",
       "      <td>0</td>\n",
       "      <td>PC 17758</td>\n",
       "      <td>108.9000</td>\n",
       "      <td>C105</td>\n",
       "      <td>C</td>\n",
       "      <td>108.900000</td>\n",
       "      <td>1</td>\n",
       "      <td>alone</td>\n",
       "    </tr>\n",
       "    <tr>\n",
       "      <th>415</th>\n",
       "      <td>1307</td>\n",
       "      <td>NaN</td>\n",
       "      <td>3</td>\n",
       "      <td>Saether, Mr. Simon Sivertsen</td>\n",
       "      <td>male</td>\n",
       "      <td>38.5</td>\n",
       "      <td>0</td>\n",
       "      <td>0</td>\n",
       "      <td>SOTON/O.Q. 3101262</td>\n",
       "      <td>7.2500</td>\n",
       "      <td>NaN</td>\n",
       "      <td>S</td>\n",
       "      <td>7.250000</td>\n",
       "      <td>1</td>\n",
       "      <td>alone</td>\n",
       "    </tr>\n",
       "    <tr>\n",
       "      <th>416</th>\n",
       "      <td>1308</td>\n",
       "      <td>NaN</td>\n",
       "      <td>3</td>\n",
       "      <td>Ware, Mr. Frederick</td>\n",
       "      <td>male</td>\n",
       "      <td>NaN</td>\n",
       "      <td>0</td>\n",
       "      <td>0</td>\n",
       "      <td>359309</td>\n",
       "      <td>8.0500</td>\n",
       "      <td>NaN</td>\n",
       "      <td>S</td>\n",
       "      <td>8.050000</td>\n",
       "      <td>1</td>\n",
       "      <td>alone</td>\n",
       "    </tr>\n",
       "    <tr>\n",
       "      <th>417</th>\n",
       "      <td>1309</td>\n",
       "      <td>NaN</td>\n",
       "      <td>3</td>\n",
       "      <td>Peter, Master. Michael J</td>\n",
       "      <td>male</td>\n",
       "      <td>NaN</td>\n",
       "      <td>1</td>\n",
       "      <td>1</td>\n",
       "      <td>2668</td>\n",
       "      <td>22.3583</td>\n",
       "      <td>NaN</td>\n",
       "      <td>C</td>\n",
       "      <td>7.452767</td>\n",
       "      <td>3</td>\n",
       "      <td>small</td>\n",
       "    </tr>\n",
       "  </tbody>\n",
       "</table>\n",
       "<p>1309 rows × 15 columns</p>\n",
       "</div>"
      ],
      "text/plain": [
       "     PassengerId  Survived  Pclass  \\\n",
       "0              1       0.0       3   \n",
       "1              2       1.0       1   \n",
       "2              3       1.0       3   \n",
       "3              4       1.0       1   \n",
       "4              5       0.0       3   \n",
       "..           ...       ...     ...   \n",
       "413         1305       NaN       3   \n",
       "414         1306       NaN       1   \n",
       "415         1307       NaN       3   \n",
       "416         1308       NaN       3   \n",
       "417         1309       NaN       3   \n",
       "\n",
       "                                                  Name     Sex   Age  SibSp  \\\n",
       "0                              Braund, Mr. Owen Harris    male  22.0      1   \n",
       "1    Cumings, Mrs. John Bradley (Florence Briggs Th...  female  38.0      1   \n",
       "2                               Heikkinen, Miss. Laina  female  26.0      0   \n",
       "3         Futrelle, Mrs. Jacques Heath (Lily May Peel)  female  35.0      1   \n",
       "4                             Allen, Mr. William Henry    male  35.0      0   \n",
       "..                                                 ...     ...   ...    ...   \n",
       "413                                 Spector, Mr. Woolf    male   NaN      0   \n",
       "414                       Oliva y Ocana, Dona. Fermina  female  39.0      0   \n",
       "415                       Saether, Mr. Simon Sivertsen    male  38.5      0   \n",
       "416                                Ware, Mr. Frederick    male   NaN      0   \n",
       "417                           Peter, Master. Michael J    male   NaN      1   \n",
       "\n",
       "     Parch              Ticket      Fare Cabin Embarked  individual_fare  \\\n",
       "0        0           A/5 21171    7.2500   NaN        S         3.625000   \n",
       "1        0            PC 17599   71.2833   C85        C        35.641650   \n",
       "2        0    STON/O2. 3101282    7.9250   NaN        S         7.925000   \n",
       "3        0              113803   53.1000  C123        S        26.550000   \n",
       "4        0              373450    8.0500   NaN        S         8.050000   \n",
       "..     ...                 ...       ...   ...      ...              ...   \n",
       "413      0           A.5. 3236    8.0500   NaN        S         8.050000   \n",
       "414      0            PC 17758  108.9000  C105        C       108.900000   \n",
       "415      0  SOTON/O.Q. 3101262    7.2500   NaN        S         7.250000   \n",
       "416      0              359309    8.0500   NaN        S         8.050000   \n",
       "417      1                2668   22.3583   NaN        C         7.452767   \n",
       "\n",
       "     family_size family_type  \n",
       "0              2       small  \n",
       "1              2       small  \n",
       "2              1       alone  \n",
       "3              2       small  \n",
       "4              1       alone  \n",
       "..           ...         ...  \n",
       "413            1       alone  \n",
       "414            1       alone  \n",
       "415            1       alone  \n",
       "416            1       alone  \n",
       "417            3       small  \n",
       "\n",
       "[1309 rows x 15 columns]"
      ]
     },
     "execution_count": 60,
     "metadata": {},
     "output_type": "execute_result"
    }
   ],
   "source": [
    "df"
   ]
  },
  {
   "cell_type": "markdown",
   "id": "31f69fa9",
   "metadata": {
    "papermill": {
     "duration": 0.054488,
     "end_time": "2024-08-26T10:24:06.262453",
     "exception": false,
     "start_time": "2024-08-26T10:24:06.207965",
     "status": "completed"
    },
    "tags": []
   },
   "source": [
    "### **5.6 Survived and deck (Categorical - Categorical)**"
   ]
  },
  {
   "cell_type": "markdown",
   "id": "1f9b347e",
   "metadata": {
    "papermill": {
     "duration": 0.056096,
     "end_time": "2024-08-26T10:24:06.373244",
     "exception": false,
     "start_time": "2024-08-26T10:24:06.317148",
     "status": "completed"
    },
    "tags": []
   },
   "source": [
    "**Now, we should focus on Cabin column.** We want to extract only the alphabet from the cabin and delet the number after it. As our aim is to observe different types of cabin has different types of survival rate or not. We are not concerned with the exact cabin rather we are concerned with the cxabin type."
   ]
  },
  {
   "cell_type": "markdown",
   "id": "d4bd9966",
   "metadata": {
    "papermill": {
     "duration": 0.056186,
     "end_time": "2024-08-26T10:24:06.484480",
     "exception": false,
     "start_time": "2024-08-26T10:24:06.428294",
     "status": "completed"
    },
    "tags": []
   },
   "source": [
    "We must learn about the Cabin structure of the Titanic cabin which is given below.\n",
    "\n",
    "\n",
    "The boat deck, on which the lifeboats were housed. It was from here during the early hours of 15 April 1912 that Titanic's lifeboats were lowered into the North Atlantic. The bridge and wheelhouse were at the forward end, in front of the captain's and officers' quarters. The bridge stood 8 feet (2.4 m) above the deck, extending out to either side so that the ship could be controlled while docking. The wheelhouse stood within the bridge. The entrance to the First Class Grand Staircase and gymnasium were located midships along with the raised roof of the First Class lounge, while at the rear of the deck were the roof of the First Class smoke room and the Second Class entrance. Just forward of the Second Class entrance sat the kennels, where the First Class passengers' dogs would stay. The wood-covered deck was divided into four segregated promenades: for officers, First Class passengers, engineers, and Second Class passengers respectively. Lifeboats lined the side of the deck except in the First Class area, where there was a gap so that the view would not be spoiled.\n",
    "* **A Deck**, also called the promenade deck, extended along the entire 546 feet (166 m) length of the superstructure. It was reserved exclusively for First Class passengers and contained First Class cabins, the First Class reading and writing room, lounge, smoke room, and Palm Court.\n",
    "* **B Deck**, the bridge deck, was the top weight-bearing deck and the uppermost level of the hull. More First Class passenger accommodations were located here with six palatial staterooms (cabins) featuring their own private promenades. On Titanic, the à la carte restaurant and the Café Parisien provided luxury dining facilities to First Class passengers. Both were run by subcontracted chefs and their staff; all were lost in the disaster. The Second Class smoking room and entrance hall were both located on this deck. The raised forecastle of the ship was forward of the bridge deck, accommodating Number 1 hatch (the main hatch through to the cargo holds), numerous pieces of machinery and the anchor housings.Aft of the bridge deck was the raised poop deck, 106 feet (32 m) long, used as a promenade by Third Class passengers. It was where many of Titanic's passengers and crew made their last stand as the ship sank. The forecastle and poop deck were separated from the bridge deck by well decks.\n",
    "* **C Deck**, the shelter deck, was the highest deck to run uninterrupted from stem to stern. It included both well decks; the aft one served as part of the Third-Class promenade. Crew cabins were housed below the forecastle and Third-Class public rooms were housed below the poop deck. In between were the majority of First Class cabins and the Second-Class library. \n",
    "* **D Deck**, the saloon deck, was dominated by three public rooms—the First-Class reception room, the First-Class dining saloon and the Second-Class dining saloon. The first- and second-class galleys were also located on this deck. An open space was provided for Third Class passengers. First, Second- and Third-Class passengers had cabins on this deck, with berths for firemen located in the bow. It was the highest level reached by the ship's watertight bulkheads (though only by eight of the fifteen bulkheads).\n",
    "* **E Deck**, the upper deck, was predominantly used for passenger accommodation for all three classes plus berths for cooks, seamen, stewards and trimmers. Along its length ran a long passageway nicknamed 'Scotland Road', in reference to a famous street in Liverpool. Scotland Road was used by Third Class passengers and crew members.\n",
    "* **F Deck**, the middle deck, mainly accommodated Second- and Third-Class passengers and several departments of the crew. The Third Class dining saloon was located here, as was the First Class bath complex, containing the swimming pool and the Turkish bath.\n",
    "* G Deck**, the lower deck, had the lowest portholes, just above the waterline. The first-class squash court was located here along with the travelling post office where letters and parcels were sorted ready for delivery when the ship docked. Food was also stored here. The deck was interrupted at several points by orlop (partial) decks over the boiler, engine and turbine rooms.\n",
    "* **The orlop decks**, and the tank top below that, were on the lowest level of the ship, below the waterline. The orlop decks were used as cargo spaces, while the tank top—the inner bottom of the ship's hull—provided the platform on which the ship's boilers, engines, turbines and electrical generators were housed. This area of the ship was occupied by the engine and boiler rooms, areas which passengers would have been prohibited from seeing. They were connected with higher levels of the ship by two flights of stairs in the fireman's passage; twin spiral stairways near the bow provided access up to D Deck.Ladders in the boiler, turbine, and engine rooms provided access to higher decks in those compartments."
   ]
  },
  {
   "cell_type": "code",
   "execution_count": 61,
   "id": "5004993f",
   "metadata": {
    "execution": {
     "iopub.execute_input": "2024-08-26T10:24:06.597803Z",
     "iopub.status.busy": "2024-08-26T10:24:06.597384Z",
     "iopub.status.idle": "2024-08-26T10:24:06.606530Z",
     "shell.execute_reply": "2024-08-26T10:24:06.605432Z"
    },
    "papermill": {
     "duration": 0.068388,
     "end_time": "2024-08-26T10:24:06.608834",
     "exception": false,
     "start_time": "2024-08-26T10:24:06.540446",
     "status": "completed"
    },
    "tags": []
   },
   "outputs": [
    {
     "data": {
      "text/plain": [
       "0       NaN\n",
       "1       C85\n",
       "2       NaN\n",
       "3      C123\n",
       "4       NaN\n",
       "       ... \n",
       "413     NaN\n",
       "414    C105\n",
       "415     NaN\n",
       "416     NaN\n",
       "417     NaN\n",
       "Name: Cabin, Length: 1309, dtype: object"
      ]
     },
     "execution_count": 61,
     "metadata": {},
     "output_type": "execute_result"
    }
   ],
   "source": [
    "# Observing cabin column\n",
    "df['Cabin']"
   ]
  },
  {
   "cell_type": "code",
   "execution_count": 62,
   "id": "0bb3f808",
   "metadata": {
    "execution": {
     "iopub.execute_input": "2024-08-26T10:24:06.720708Z",
     "iopub.status.busy": "2024-08-26T10:24:06.720302Z",
     "iopub.status.idle": "2024-08-26T10:24:06.728766Z",
     "shell.execute_reply": "2024-08-26T10:24:06.727658Z"
    },
    "papermill": {
     "duration": 0.067213,
     "end_time": "2024-08-26T10:24:06.731252",
     "exception": false,
     "start_time": "2024-08-26T10:24:06.664039",
     "status": "completed"
    },
    "tags": []
   },
   "outputs": [
    {
     "data": {
      "text/plain": [
       "0.774637127578304"
      ]
     },
     "execution_count": 62,
     "metadata": {},
     "output_type": "execute_result"
    }
   ],
   "source": [
    "# checking percentage of null in this column\n",
    "df['Cabin'].isnull().sum()/len(df['Cabin'])"
   ]
  },
  {
   "cell_type": "code",
   "execution_count": 63,
   "id": "9eef19bf",
   "metadata": {
    "execution": {
     "iopub.execute_input": "2024-08-26T10:24:06.846049Z",
     "iopub.status.busy": "2024-08-26T10:24:06.845614Z",
     "iopub.status.idle": "2024-08-26T10:24:06.852039Z",
     "shell.execute_reply": "2024-08-26T10:24:06.850874Z"
    },
    "papermill": {
     "duration": 0.068298,
     "end_time": "2024-08-26T10:24:06.854440",
     "exception": false,
     "start_time": "2024-08-26T10:24:06.786142",
     "status": "completed"
    },
    "tags": []
   },
   "outputs": [],
   "source": [
    "# replacing \"NaN\" with \"M\"\n",
    "df['Cabin'].fillna('M',inplace=True)"
   ]
  },
  {
   "cell_type": "code",
   "execution_count": 64,
   "id": "b95e1963",
   "metadata": {
    "execution": {
     "iopub.execute_input": "2024-08-26T10:24:06.972499Z",
     "iopub.status.busy": "2024-08-26T10:24:06.972091Z",
     "iopub.status.idle": "2024-08-26T10:24:06.982210Z",
     "shell.execute_reply": "2024-08-26T10:24:06.981091Z"
    },
    "papermill": {
     "duration": 0.071016,
     "end_time": "2024-08-26T10:24:06.984591",
     "exception": false,
     "start_time": "2024-08-26T10:24:06.913575",
     "status": "completed"
    },
    "tags": []
   },
   "outputs": [
    {
     "data": {
      "text/plain": [
       "Cabin\n",
       "M                  1014\n",
       "C23 C25 C27           6\n",
       "B57 B59 B63 B66       5\n",
       "G6                    5\n",
       "F33                   4\n",
       "                   ... \n",
       "A14                   1\n",
       "E63                   1\n",
       "E12                   1\n",
       "E38                   1\n",
       "C105                  1\n",
       "Name: count, Length: 187, dtype: int64"
      ]
     },
     "execution_count": 64,
     "metadata": {},
     "output_type": "execute_result"
    }
   ],
   "source": [
    "# getting counts of each kind of value\n",
    "df['Cabin'].value_counts()"
   ]
  },
  {
   "cell_type": "code",
   "execution_count": 65,
   "id": "8549d615",
   "metadata": {
    "execution": {
     "iopub.execute_input": "2024-08-26T10:24:07.096790Z",
     "iopub.status.busy": "2024-08-26T10:24:07.096349Z",
     "iopub.status.idle": "2024-08-26T10:24:07.103769Z",
     "shell.execute_reply": "2024-08-26T10:24:07.102667Z"
    },
    "papermill": {
     "duration": 0.066242,
     "end_time": "2024-08-26T10:24:07.106288",
     "exception": false,
     "start_time": "2024-08-26T10:24:07.040046",
     "status": "completed"
    },
    "tags": []
   },
   "outputs": [],
   "source": [
    "# making a new column named deck\n",
    "df['deck'] = df['Cabin'].str[0]"
   ]
  },
  {
   "cell_type": "code",
   "execution_count": 66,
   "id": "b96ccc13",
   "metadata": {
    "execution": {
     "iopub.execute_input": "2024-08-26T10:24:07.220322Z",
     "iopub.status.busy": "2024-08-26T10:24:07.219071Z",
     "iopub.status.idle": "2024-08-26T10:24:07.238859Z",
     "shell.execute_reply": "2024-08-26T10:24:07.237575Z"
    },
    "papermill": {
     "duration": 0.078321,
     "end_time": "2024-08-26T10:24:07.241358",
     "exception": false,
     "start_time": "2024-08-26T10:24:07.163037",
     "status": "completed"
    },
    "tags": []
   },
   "outputs": [
    {
     "data": {
      "text/html": [
       "<div>\n",
       "<style scoped>\n",
       "    .dataframe tbody tr th:only-of-type {\n",
       "        vertical-align: middle;\n",
       "    }\n",
       "\n",
       "    .dataframe tbody tr th {\n",
       "        vertical-align: top;\n",
       "    }\n",
       "\n",
       "    .dataframe thead th {\n",
       "        text-align: right;\n",
       "    }\n",
       "</style>\n",
       "<table border=\"1\" class=\"dataframe\">\n",
       "  <thead>\n",
       "    <tr style=\"text-align: right;\">\n",
       "      <th>Pclass</th>\n",
       "      <th>1</th>\n",
       "      <th>2</th>\n",
       "      <th>3</th>\n",
       "    </tr>\n",
       "    <tr>\n",
       "      <th>deck</th>\n",
       "      <th></th>\n",
       "      <th></th>\n",
       "      <th></th>\n",
       "    </tr>\n",
       "  </thead>\n",
       "  <tbody>\n",
       "    <tr>\n",
       "      <th>A</th>\n",
       "      <td>22</td>\n",
       "      <td>0</td>\n",
       "      <td>0</td>\n",
       "    </tr>\n",
       "    <tr>\n",
       "      <th>B</th>\n",
       "      <td>65</td>\n",
       "      <td>0</td>\n",
       "      <td>0</td>\n",
       "    </tr>\n",
       "    <tr>\n",
       "      <th>C</th>\n",
       "      <td>94</td>\n",
       "      <td>0</td>\n",
       "      <td>0</td>\n",
       "    </tr>\n",
       "    <tr>\n",
       "      <th>D</th>\n",
       "      <td>40</td>\n",
       "      <td>6</td>\n",
       "      <td>0</td>\n",
       "    </tr>\n",
       "    <tr>\n",
       "      <th>E</th>\n",
       "      <td>34</td>\n",
       "      <td>4</td>\n",
       "      <td>3</td>\n",
       "    </tr>\n",
       "    <tr>\n",
       "      <th>F</th>\n",
       "      <td>0</td>\n",
       "      <td>13</td>\n",
       "      <td>8</td>\n",
       "    </tr>\n",
       "    <tr>\n",
       "      <th>G</th>\n",
       "      <td>0</td>\n",
       "      <td>0</td>\n",
       "      <td>5</td>\n",
       "    </tr>\n",
       "    <tr>\n",
       "      <th>M</th>\n",
       "      <td>67</td>\n",
       "      <td>254</td>\n",
       "      <td>693</td>\n",
       "    </tr>\n",
       "    <tr>\n",
       "      <th>T</th>\n",
       "      <td>1</td>\n",
       "      <td>0</td>\n",
       "      <td>0</td>\n",
       "    </tr>\n",
       "  </tbody>\n",
       "</table>\n",
       "</div>"
      ],
      "text/plain": [
       "Pclass   1    2    3\n",
       "deck                \n",
       "A       22    0    0\n",
       "B       65    0    0\n",
       "C       94    0    0\n",
       "D       40    6    0\n",
       "E       34    4    3\n",
       "F        0   13    8\n",
       "G        0    0    5\n",
       "M       67  254  693\n",
       "T        1    0    0"
      ]
     },
     "execution_count": 66,
     "metadata": {},
     "output_type": "execute_result"
    }
   ],
   "source": [
    "# Crosstable between deck and Pclass\n",
    "pd.crosstab(df['deck'],df['Pclass'])"
   ]
  },
  {
   "cell_type": "code",
   "execution_count": 67,
   "id": "57f33c97",
   "metadata": {
    "execution": {
     "iopub.execute_input": "2024-08-26T10:24:07.355411Z",
     "iopub.status.busy": "2024-08-26T10:24:07.354970Z",
     "iopub.status.idle": "2024-08-26T10:24:07.728816Z",
     "shell.execute_reply": "2024-08-26T10:24:07.727261Z"
    },
    "papermill": {
     "duration": 0.435331,
     "end_time": "2024-08-26T10:24:07.732207",
     "exception": false,
     "start_time": "2024-08-26T10:24:07.296876",
     "status": "completed"
    },
    "tags": []
   },
   "outputs": [
    {
     "data": {
      "text/plain": [
       "<Axes: xlabel='deck'>"
      ]
     },
     "execution_count": 67,
     "metadata": {},
     "output_type": "execute_result"
    },
    {
     "data": {
      "image/png": "[encoded data removed]",
      "text/plain": [
       "<Figure size 640x480 with 1 Axes>"
      ]
     },
     "metadata": {},
     "output_type": "display_data"
    }
   ],
   "source": [
    "# Crosstable between deck and Survived\n",
    "pd.crosstab(df['deck'],df['Survived'],normalize='index').plot(kind='bar',stacked=True)"
   ]
  },
  {
   "cell_type": "markdown",
   "id": "dd3d2650",
   "metadata": {
    "papermill": {
     "duration": 0.059196,
     "end_time": "2024-08-26T10:24:07.849688",
     "exception": false,
     "start_time": "2024-08-26T10:24:07.790492",
     "status": "completed"
    },
    "tags": []
   },
   "source": [
    "#### Conclusion\n",
    "Hence, the deck type affects the survival chance which can be observed from the barplot."
   ]
  },
  {
   "cell_type": "markdown",
   "id": "c0ec5e5f",
   "metadata": {
    "papermill": {
     "duration": 0.058185,
     "end_time": "2024-08-26T10:24:07.967714",
     "exception": false,
     "start_time": "2024-08-26T10:24:07.909529",
     "status": "completed"
    },
    "tags": []
   },
   "source": [
    "<a id=\"Section-nine\" ></a>\n",
    "# **7. Multivariate Analysis**"
   ]
  },
  {
   "cell_type": "code",
   "execution_count": 68,
   "id": "be47f8df",
   "metadata": {
    "execution": {
     "iopub.execute_input": "2024-08-26T10:24:08.083619Z",
     "iopub.status.busy": "2024-08-26T10:24:08.083197Z",
     "iopub.status.idle": "2024-08-26T10:24:08.104295Z",
     "shell.execute_reply": "2024-08-26T10:24:08.103040Z"
    },
    "papermill": {
     "duration": 0.082664,
     "end_time": "2024-08-26T10:24:08.106884",
     "exception": false,
     "start_time": "2024-08-26T10:24:08.024220",
     "status": "completed"
    },
    "tags": []
   },
   "outputs": [
    {
     "data": {
      "text/html": [
       "<div>\n",
       "<style scoped>\n",
       "    .dataframe tbody tr th:only-of-type {\n",
       "        vertical-align: middle;\n",
       "    }\n",
       "\n",
       "    .dataframe tbody tr th {\n",
       "        vertical-align: top;\n",
       "    }\n",
       "\n",
       "    .dataframe thead th {\n",
       "        text-align: right;\n",
       "    }\n",
       "</style>\n",
       "<table border=\"1\" class=\"dataframe\">\n",
       "  <thead>\n",
       "    <tr style=\"text-align: right;\">\n",
       "      <th></th>\n",
       "      <th>PassengerId</th>\n",
       "      <th>Survived</th>\n",
       "      <th>Pclass</th>\n",
       "      <th>Age</th>\n",
       "      <th>SibSp</th>\n",
       "      <th>Parch</th>\n",
       "      <th>Fare</th>\n",
       "      <th>individual_fare</th>\n",
       "      <th>family_size</th>\n",
       "    </tr>\n",
       "  </thead>\n",
       "  <tbody>\n",
       "    <tr>\n",
       "      <th>PassengerId</th>\n",
       "      <td>1.000000</td>\n",
       "      <td>-0.005007</td>\n",
       "      <td>-0.038354</td>\n",
       "      <td>0.028814</td>\n",
       "      <td>-0.055224</td>\n",
       "      <td>0.008942</td>\n",
       "      <td>0.031428</td>\n",
       "      <td>0.035365</td>\n",
       "      <td>-0.031437</td>\n",
       "    </tr>\n",
       "    <tr>\n",
       "      <th>Survived</th>\n",
       "      <td>-0.005007</td>\n",
       "      <td>1.000000</td>\n",
       "      <td>-0.338481</td>\n",
       "      <td>-0.077221</td>\n",
       "      <td>-0.035322</td>\n",
       "      <td>0.081629</td>\n",
       "      <td>0.257307</td>\n",
       "      <td>0.221600</td>\n",
       "      <td>0.016639</td>\n",
       "    </tr>\n",
       "    <tr>\n",
       "      <th>Pclass</th>\n",
       "      <td>-0.038354</td>\n",
       "      <td>-0.338481</td>\n",
       "      <td>1.000000</td>\n",
       "      <td>-0.408106</td>\n",
       "      <td>0.060832</td>\n",
       "      <td>0.018322</td>\n",
       "      <td>-0.558629</td>\n",
       "      <td>-0.504270</td>\n",
       "      <td>0.050027</td>\n",
       "    </tr>\n",
       "    <tr>\n",
       "      <th>Age</th>\n",
       "      <td>0.028814</td>\n",
       "      <td>-0.077221</td>\n",
       "      <td>-0.408106</td>\n",
       "      <td>1.000000</td>\n",
       "      <td>-0.243699</td>\n",
       "      <td>-0.150917</td>\n",
       "      <td>0.178740</td>\n",
       "      <td>0.193545</td>\n",
       "      <td>-0.240229</td>\n",
       "    </tr>\n",
       "    <tr>\n",
       "      <th>SibSp</th>\n",
       "      <td>-0.055224</td>\n",
       "      <td>-0.035322</td>\n",
       "      <td>0.060832</td>\n",
       "      <td>-0.243699</td>\n",
       "      <td>1.000000</td>\n",
       "      <td>0.373587</td>\n",
       "      <td>0.160238</td>\n",
       "      <td>-0.089807</td>\n",
       "      <td>0.861952</td>\n",
       "    </tr>\n",
       "    <tr>\n",
       "      <th>Parch</th>\n",
       "      <td>0.008942</td>\n",
       "      <td>0.081629</td>\n",
       "      <td>0.018322</td>\n",
       "      <td>-0.150917</td>\n",
       "      <td>0.373587</td>\n",
       "      <td>1.000000</td>\n",
       "      <td>0.221539</td>\n",
       "      <td>-0.065498</td>\n",
       "      <td>0.792296</td>\n",
       "    </tr>\n",
       "    <tr>\n",
       "      <th>Fare</th>\n",
       "      <td>0.031428</td>\n",
       "      <td>0.257307</td>\n",
       "      <td>-0.558629</td>\n",
       "      <td>0.178740</td>\n",
       "      <td>0.160238</td>\n",
       "      <td>0.221539</td>\n",
       "      <td>1.000000</td>\n",
       "      <td>0.832029</td>\n",
       "      <td>0.226492</td>\n",
       "    </tr>\n",
       "    <tr>\n",
       "      <th>individual_fare</th>\n",
       "      <td>0.035365</td>\n",
       "      <td>0.221600</td>\n",
       "      <td>-0.504270</td>\n",
       "      <td>0.193545</td>\n",
       "      <td>-0.089807</td>\n",
       "      <td>-0.065498</td>\n",
       "      <td>0.832029</td>\n",
       "      <td>1.000000</td>\n",
       "      <td>-0.094874</td>\n",
       "    </tr>\n",
       "    <tr>\n",
       "      <th>family_size</th>\n",
       "      <td>-0.031437</td>\n",
       "      <td>0.016639</td>\n",
       "      <td>0.050027</td>\n",
       "      <td>-0.240229</td>\n",
       "      <td>0.861952</td>\n",
       "      <td>0.792296</td>\n",
       "      <td>0.226492</td>\n",
       "      <td>-0.094874</td>\n",
       "      <td>1.000000</td>\n",
       "    </tr>\n",
       "  </tbody>\n",
       "</table>\n",
       "</div>"
      ],
      "text/plain": [
       "                 PassengerId  Survived    Pclass       Age     SibSp  \\\n",
       "PassengerId         1.000000 -0.005007 -0.038354  0.028814 -0.055224   \n",
       "Survived           -0.005007  1.000000 -0.338481 -0.077221 -0.035322   \n",
       "Pclass             -0.038354 -0.338481  1.000000 -0.408106  0.060832   \n",
       "Age                 0.028814 -0.077221 -0.408106  1.000000 -0.243699   \n",
       "SibSp              -0.055224 -0.035322  0.060832 -0.243699  1.000000   \n",
       "Parch               0.008942  0.081629  0.018322 -0.150917  0.373587   \n",
       "Fare                0.031428  0.257307 -0.558629  0.178740  0.160238   \n",
       "individual_fare     0.035365  0.221600 -0.504270  0.193545 -0.089807   \n",
       "family_size        -0.031437  0.016639  0.050027 -0.240229  0.861952   \n",
       "\n",
       "                    Parch      Fare  individual_fare  family_size  \n",
       "PassengerId      0.008942  0.031428         0.035365    -0.031437  \n",
       "Survived         0.081629  0.257307         0.221600     0.016639  \n",
       "Pclass           0.018322 -0.558629        -0.504270     0.050027  \n",
       "Age             -0.150917  0.178740         0.193545    -0.240229  \n",
       "SibSp            0.373587  0.160238        -0.089807     0.861952  \n",
       "Parch            1.000000  0.221539        -0.065498     0.792296  \n",
       "Fare             0.221539  1.000000         0.832029     0.226492  \n",
       "individual_fare -0.065498  0.832029         1.000000    -0.094874  \n",
       "family_size      0.792296  0.226492        -0.094874     1.000000  "
      ]
     },
     "execution_count": 68,
     "metadata": {},
     "output_type": "execute_result"
    }
   ],
   "source": [
    "# correlation matrix\n",
    "df.corr(numeric_only=True)"
   ]
  },
  {
   "cell_type": "code",
   "execution_count": 69,
   "id": "17eefbce",
   "metadata": {
    "execution": {
     "iopub.execute_input": "2024-08-26T10:24:08.221039Z",
     "iopub.status.busy": "2024-08-26T10:24:08.220592Z",
     "iopub.status.idle": "2024-08-26T10:24:08.229876Z",
     "shell.execute_reply": "2024-08-26T10:24:08.228896Z"
    },
    "papermill": {
     "duration": 0.069103,
     "end_time": "2024-08-26T10:24:08.232213",
     "exception": false,
     "start_time": "2024-08-26T10:24:08.163110",
     "status": "completed"
    },
    "tags": []
   },
   "outputs": [
    {
     "data": {
      "text/plain": [
       "PassengerId       -0.005007\n",
       "Survived           1.000000\n",
       "Pclass            -0.338481\n",
       "Age               -0.077221\n",
       "SibSp             -0.035322\n",
       "Parch              0.081629\n",
       "Fare               0.257307\n",
       "individual_fare    0.221600\n",
       "family_size        0.016639\n",
       "Name: Survived, dtype: float64"
      ]
     },
     "execution_count": 69,
     "metadata": {},
     "output_type": "execute_result"
    }
   ],
   "source": [
    "# correlation with other columns with survival columns'\n",
    "df.corr(numeric_only=True)['Survived']"
   ]
  },
  {
   "cell_type": "code",
   "execution_count": 70,
   "id": "58237f7e",
   "metadata": {
    "execution": {
     "iopub.execute_input": "2024-08-26T10:24:08.347164Z",
     "iopub.status.busy": "2024-08-26T10:24:08.346747Z",
     "iopub.status.idle": "2024-08-26T10:24:08.800004Z",
     "shell.execute_reply": "2024-08-26T10:24:08.798779Z"
    },
    "papermill": {
     "duration": 0.514095,
     "end_time": "2024-08-26T10:24:08.802591",
     "exception": false,
     "start_time": "2024-08-26T10:24:08.288496",
     "status": "completed"
    },
    "tags": []
   },
   "outputs": [
    {
     "data": {
      "text/plain": [
       "<Axes: >"
      ]
     },
     "execution_count": 70,
     "metadata": {},
     "output_type": "execute_result"
    },
    {
     "data": {
      "image/png": "[encoded data removed]",
      "text/plain": [
       "<Figure size 640x480 with 2 Axes>"
      ]
     },
     "metadata": {},
     "output_type": "display_data"
    }
   ],
   "source": [
    "# heatmap for correlation matrix\n",
    "sns.heatmap(df.corr(numeric_only=True))"
   ]
  },
  {
   "cell_type": "code",
   "execution_count": 71,
   "id": "b9faa41b",
   "metadata": {
    "execution": {
     "iopub.execute_input": "2024-08-26T10:24:08.924131Z",
     "iopub.status.busy": "2024-08-26T10:24:08.923600Z",
     "iopub.status.idle": "2024-08-26T10:24:21.369290Z",
     "shell.execute_reply": "2024-08-26T10:24:21.368083Z"
    },
    "papermill": {
     "duration": 12.51051,
     "end_time": "2024-08-26T10:24:21.373121",
     "exception": false,
     "start_time": "2024-08-26T10:24:08.862611",
     "status": "completed"
    },
    "tags": []
   },
   "outputs": [
    {
     "name": "stderr",
     "output_type": "stream",
     "text": [
      "/opt/conda/lib/python3.10/site-packages/seaborn/_oldcore.py:1119: FutureWarning: use_inf_as_na option is deprecated and will be removed in a future version. Convert inf values to NaN before operating instead.\n",
      "  with pd.option_context('mode.use_inf_as_na', True):\n",
      "/opt/conda/lib/python3.10/site-packages/seaborn/_oldcore.py:1119: FutureWarning: use_inf_as_na option is deprecated and will be removed in a future version. Convert inf values to NaN before operating instead.\n",
      "  with pd.option_context('mode.use_inf_as_na', True):\n",
      "/opt/conda/lib/python3.10/site-packages/seaborn/_oldcore.py:1119: FutureWarning: use_inf_as_na option is deprecated and will be removed in a future version. Convert inf values to NaN before operating instead.\n",
      "  with pd.option_context('mode.use_inf_as_na', True):\n",
      "/opt/conda/lib/python3.10/site-packages/seaborn/_oldcore.py:1119: FutureWarning: use_inf_as_na option is deprecated and will be removed in a future version. Convert inf values to NaN before operating instead.\n",
      "  with pd.option_context('mode.use_inf_as_na', True):\n",
      "/opt/conda/lib/python3.10/site-packages/seaborn/_oldcore.py:1119: FutureWarning: use_inf_as_na option is deprecated and will be removed in a future version. Convert inf values to NaN before operating instead.\n",
      "  with pd.option_context('mode.use_inf_as_na', True):\n",
      "/opt/conda/lib/python3.10/site-packages/seaborn/_oldcore.py:1119: FutureWarning: use_inf_as_na option is deprecated and will be removed in a future version. Convert inf values to NaN before operating instead.\n",
      "  with pd.option_context('mode.use_inf_as_na', True):\n"
     ]
    },
    {
     "data": {
      "text/plain": [
       "<seaborn.axisgrid.PairGrid at 0x7cc5027231c0>"
      ]
     },
     "execution_count": 71,
     "metadata": {},
     "output_type": "execute_result"
    },
    {
     "data": {
      "image/png": "[encoded data removed]",
      "text/plain": [
       "<Figure size 1500x1500 with 42 Axes>"
      ]
     },
     "metadata": {},
     "output_type": "display_data"
    }
   ],
   "source": [
    "sns.pairplot(df1)"
   ]
  },
  {
   "cell_type": "markdown",
   "id": "faa4c75a",
   "metadata": {
    "papermill": {
     "duration": 0.065136,
     "end_time": "2024-08-26T10:24:21.506867",
     "exception": false,
     "start_time": "2024-08-26T10:24:21.441731",
     "status": "completed"
    },
    "tags": []
   },
   "source": [
    "<a id=\"Section-ten\" ></a>\n",
    "# **8. Logistic Regression**"
   ]
  },
  {
   "cell_type": "markdown",
   "id": "dce49dab",
   "metadata": {
    "papermill": {
     "duration": 0.063919,
     "end_time": "2024-08-26T10:24:21.634073",
     "exception": false,
     "start_time": "2024-08-26T10:24:21.570154",
     "status": "completed"
    },
    "tags": []
   },
   "source": [
    "**From the previous EDA,** it is clear that survival probability is related to the columns \"Age\", \"Pclass\", \"SibSp\", \"Parch\", \"Fare\", \"Sex\" and \"Embarked\".\n",
    "\n",
    "\n",
    "In the following steps, we will make some changes on the regressor variables column. We will transform the categorical column to **dummy numerical columns**."
   ]
  },
  {
   "cell_type": "code",
   "execution_count": 72,
   "id": "93b4af5b",
   "metadata": {
    "execution": {
     "iopub.execute_input": "2024-08-26T10:24:21.767357Z",
     "iopub.status.busy": "2024-08-26T10:24:21.766873Z",
     "iopub.status.idle": "2024-08-26T10:24:22.412505Z",
     "shell.execute_reply": "2024-08-26T10:24:22.410921Z"
    },
    "papermill": {
     "duration": 0.714163,
     "end_time": "2024-08-26T10:24:22.415434",
     "exception": false,
     "start_time": "2024-08-26T10:24:21.701271",
     "status": "completed"
    },
    "tags": []
   },
   "outputs": [
    {
     "data": {
      "text/plain": [
       "<Axes: >"
      ]
     },
     "execution_count": 72,
     "metadata": {},
     "output_type": "execute_result"
    },
    {
     "data": {
      "image/png": "[encoded data removed]",
      "text/plain": [
       "<Figure size 640x480 with 2 Axes>"
      ]
     },
     "metadata": {},
     "output_type": "display_data"
    }
   ],
   "source": [
    "# getting a overview of null values\n",
    "df = pd.read_csv('/kaggle/input/titanic/train.csv')\n",
    "df1 = pd.read_csv('/kaggle/input/titanic/test.csv')\n",
    "sns.heatmap(df.isnull())"
   ]
  },
  {
   "cell_type": "code",
   "execution_count": 73,
   "id": "aa02b88c",
   "metadata": {
    "execution": {
     "iopub.execute_input": "2024-08-26T10:24:22.549925Z",
     "iopub.status.busy": "2024-08-26T10:24:22.549415Z",
     "iopub.status.idle": "2024-08-26T10:24:23.139766Z",
     "shell.execute_reply": "2024-08-26T10:24:23.138570Z"
    },
    "papermill": {
     "duration": 0.660228,
     "end_time": "2024-08-26T10:24:23.142378",
     "exception": false,
     "start_time": "2024-08-26T10:24:22.482150",
     "status": "completed"
    },
    "tags": []
   },
   "outputs": [
    {
     "data": {
      "text/plain": [
       "<Axes: >"
      ]
     },
     "execution_count": 73,
     "metadata": {},
     "output_type": "execute_result"
    },
    {
     "data": {
      "image/png": "[encoded data removed]",
      "text/plain": [
       "<Figure size 640x480 with 2 Axes>"
      ]
     },
     "metadata": {},
     "output_type": "display_data"
    }
   ],
   "source": [
    "sns.heatmap(df1.isnull())"
   ]
  },
  {
   "cell_type": "markdown",
   "id": "15243a03",
   "metadata": {
    "papermill": {
     "duration": 0.065554,
     "end_time": "2024-08-26T10:24:23.273183",
     "exception": false,
     "start_time": "2024-08-26T10:24:23.207629",
     "status": "completed"
    },
    "tags": []
   },
   "source": [
    "**Note :**  The \"Age\" column has about 20% of the missing observations and the \"Cabin\" column has about 78% missing observations. \n",
    "It is not feasible to use the column \"Cabin\" to our regression. We will discard this column."
   ]
  },
  {
   "cell_type": "code",
   "execution_count": 74,
   "id": "42dc7234",
   "metadata": {
    "execution": {
     "iopub.execute_input": "2024-08-26T10:24:23.405486Z",
     "iopub.status.busy": "2024-08-26T10:24:23.405045Z",
     "iopub.status.idle": "2024-08-26T10:24:23.414882Z",
     "shell.execute_reply": "2024-08-26T10:24:23.413505Z"
    },
    "papermill": {
     "duration": 0.079745,
     "end_time": "2024-08-26T10:24:23.418239",
     "exception": false,
     "start_time": "2024-08-26T10:24:23.338494",
     "status": "completed"
    },
    "tags": []
   },
   "outputs": [],
   "source": [
    "# filling age and fare column\n",
    "df['Age'] = df['Age'].fillna(df['Age'].mean())\n",
    "df1['Age'] = df['Age'].fillna(df['Age'].mean())\n",
    "df1['Fare'] = df['Fare'].fillna(df['Fare'].mean())\n"
   ]
  },
  {
   "cell_type": "code",
   "execution_count": 75,
   "id": "39fe1060",
   "metadata": {
    "execution": {
     "iopub.execute_input": "2024-08-26T10:24:23.572350Z",
     "iopub.status.busy": "2024-08-26T10:24:23.571916Z",
     "iopub.status.idle": "2024-08-26T10:24:23.579211Z",
     "shell.execute_reply": "2024-08-26T10:24:23.578103Z"
    },
    "papermill": {
     "duration": 0.089215,
     "end_time": "2024-08-26T10:24:23.581628",
     "exception": false,
     "start_time": "2024-08-26T10:24:23.492413",
     "status": "completed"
    },
    "tags": []
   },
   "outputs": [],
   "source": [
    "# drop cabin column\n",
    "df.drop('Cabin',axis=1,inplace=True)\n",
    "df1.drop('Cabin',axis=1,inplace=True)"
   ]
  },
  {
   "cell_type": "markdown",
   "id": "46797c31",
   "metadata": {
    "papermill": {
     "duration": 0.064465,
     "end_time": "2024-08-26T10:24:23.711515",
     "exception": false,
     "start_time": "2024-08-26T10:24:23.647050",
     "status": "completed"
    },
    "tags": []
   },
   "source": [
    "**Our aim is to transform the column \"Sex\" and \"Embarked\" column to dummies numerical values.**"
   ]
  },
  {
   "cell_type": "code",
   "execution_count": 76,
   "id": "df0f7055",
   "metadata": {
    "execution": {
     "iopub.execute_input": "2024-08-26T10:24:23.898639Z",
     "iopub.status.busy": "2024-08-26T10:24:23.898213Z",
     "iopub.status.idle": "2024-08-26T10:24:23.908399Z",
     "shell.execute_reply": "2024-08-26T10:24:23.907402Z"
    },
    "papermill": {
     "duration": 0.132744,
     "end_time": "2024-08-26T10:24:23.910868",
     "exception": false,
     "start_time": "2024-08-26T10:24:23.778124",
     "status": "completed"
    },
    "tags": []
   },
   "outputs": [],
   "source": [
    "df['gender'] = pd.get_dummies(df['Sex'],drop_first=True).astype('int')\n",
    "df1['gender'] = pd.get_dummies(df1['Sex'],drop_first=True).astype('int')\n"
   ]
  },
  {
   "cell_type": "code",
   "execution_count": 77,
   "id": "66914c7d",
   "metadata": {
    "execution": {
     "iopub.execute_input": "2024-08-26T10:24:24.043508Z",
     "iopub.status.busy": "2024-08-26T10:24:24.043071Z",
     "iopub.status.idle": "2024-08-26T10:24:24.054209Z",
     "shell.execute_reply": "2024-08-26T10:24:24.052933Z"
    },
    "papermill": {
     "duration": 0.081952,
     "end_time": "2024-08-26T10:24:24.056509",
     "exception": false,
     "start_time": "2024-08-26T10:24:23.974557",
     "status": "completed"
    },
    "tags": []
   },
   "outputs": [],
   "source": [
    "df = pd.concat([df,pd.get_dummies(df['Embarked']).astype('int')],axis=1)\n",
    "df1 = pd.concat([df1,pd.get_dummies(df1['Embarked']).astype('int')],axis=1)"
   ]
  },
  {
   "cell_type": "code",
   "execution_count": 78,
   "id": "e97f44f4",
   "metadata": {
    "execution": {
     "iopub.execute_input": "2024-08-26T10:24:24.190959Z",
     "iopub.status.busy": "2024-08-26T10:24:24.190511Z",
     "iopub.status.idle": "2024-08-26T10:24:24.208744Z",
     "shell.execute_reply": "2024-08-26T10:24:24.207577Z"
    },
    "papermill": {
     "duration": 0.089786,
     "end_time": "2024-08-26T10:24:24.211349",
     "exception": false,
     "start_time": "2024-08-26T10:24:24.121563",
     "status": "completed"
    },
    "tags": []
   },
   "outputs": [
    {
     "data": {
      "text/html": [
       "<div>\n",
       "<style scoped>\n",
       "    .dataframe tbody tr th:only-of-type {\n",
       "        vertical-align: middle;\n",
       "    }\n",
       "\n",
       "    .dataframe tbody tr th {\n",
       "        vertical-align: top;\n",
       "    }\n",
       "\n",
       "    .dataframe thead th {\n",
       "        text-align: right;\n",
       "    }\n",
       "</style>\n",
       "<table border=\"1\" class=\"dataframe\">\n",
       "  <thead>\n",
       "    <tr style=\"text-align: right;\">\n",
       "      <th></th>\n",
       "      <th>PassengerId</th>\n",
       "      <th>Pclass</th>\n",
       "      <th>Name</th>\n",
       "      <th>Sex</th>\n",
       "      <th>Age</th>\n",
       "      <th>SibSp</th>\n",
       "      <th>Parch</th>\n",
       "      <th>Ticket</th>\n",
       "      <th>Fare</th>\n",
       "      <th>Embarked</th>\n",
       "      <th>gender</th>\n",
       "      <th>C</th>\n",
       "      <th>Q</th>\n",
       "      <th>S</th>\n",
       "    </tr>\n",
       "  </thead>\n",
       "  <tbody>\n",
       "    <tr>\n",
       "      <th>0</th>\n",
       "      <td>892</td>\n",
       "      <td>3</td>\n",
       "      <td>Kelly, Mr. James</td>\n",
       "      <td>male</td>\n",
       "      <td>22.0</td>\n",
       "      <td>0</td>\n",
       "      <td>0</td>\n",
       "      <td>330911</td>\n",
       "      <td>7.2500</td>\n",
       "      <td>Q</td>\n",
       "      <td>1</td>\n",
       "      <td>0</td>\n",
       "      <td>1</td>\n",
       "      <td>0</td>\n",
       "    </tr>\n",
       "    <tr>\n",
       "      <th>1</th>\n",
       "      <td>893</td>\n",
       "      <td>3</td>\n",
       "      <td>Wilkes, Mrs. James (Ellen Needs)</td>\n",
       "      <td>female</td>\n",
       "      <td>38.0</td>\n",
       "      <td>1</td>\n",
       "      <td>0</td>\n",
       "      <td>363272</td>\n",
       "      <td>71.2833</td>\n",
       "      <td>S</td>\n",
       "      <td>0</td>\n",
       "      <td>0</td>\n",
       "      <td>0</td>\n",
       "      <td>1</td>\n",
       "    </tr>\n",
       "    <tr>\n",
       "      <th>2</th>\n",
       "      <td>894</td>\n",
       "      <td>2</td>\n",
       "      <td>Myles, Mr. Thomas Francis</td>\n",
       "      <td>male</td>\n",
       "      <td>26.0</td>\n",
       "      <td>0</td>\n",
       "      <td>0</td>\n",
       "      <td>240276</td>\n",
       "      <td>7.9250</td>\n",
       "      <td>Q</td>\n",
       "      <td>1</td>\n",
       "      <td>0</td>\n",
       "      <td>1</td>\n",
       "      <td>0</td>\n",
       "    </tr>\n",
       "    <tr>\n",
       "      <th>3</th>\n",
       "      <td>895</td>\n",
       "      <td>3</td>\n",
       "      <td>Wirz, Mr. Albert</td>\n",
       "      <td>male</td>\n",
       "      <td>35.0</td>\n",
       "      <td>0</td>\n",
       "      <td>0</td>\n",
       "      <td>315154</td>\n",
       "      <td>53.1000</td>\n",
       "      <td>S</td>\n",
       "      <td>1</td>\n",
       "      <td>0</td>\n",
       "      <td>0</td>\n",
       "      <td>1</td>\n",
       "    </tr>\n",
       "    <tr>\n",
       "      <th>4</th>\n",
       "      <td>896</td>\n",
       "      <td>3</td>\n",
       "      <td>Hirvonen, Mrs. Alexander (Helga E Lindqvist)</td>\n",
       "      <td>female</td>\n",
       "      <td>35.0</td>\n",
       "      <td>1</td>\n",
       "      <td>1</td>\n",
       "      <td>3101298</td>\n",
       "      <td>8.0500</td>\n",
       "      <td>S</td>\n",
       "      <td>0</td>\n",
       "      <td>0</td>\n",
       "      <td>0</td>\n",
       "      <td>1</td>\n",
       "    </tr>\n",
       "  </tbody>\n",
       "</table>\n",
       "</div>"
      ],
      "text/plain": [
       "   PassengerId  Pclass                                          Name     Sex  \\\n",
       "0          892       3                              Kelly, Mr. James    male   \n",
       "1          893       3              Wilkes, Mrs. James (Ellen Needs)  female   \n",
       "2          894       2                     Myles, Mr. Thomas Francis    male   \n",
       "3          895       3                              Wirz, Mr. Albert    male   \n",
       "4          896       3  Hirvonen, Mrs. Alexander (Helga E Lindqvist)  female   \n",
       "\n",
       "    Age  SibSp  Parch   Ticket     Fare Embarked  gender  C  Q  S  \n",
       "0  22.0      0      0   330911   7.2500        Q       1  0  1  0  \n",
       "1  38.0      1      0   363272  71.2833        S       0  0  0  1  \n",
       "2  26.0      0      0   240276   7.9250        Q       1  0  1  0  \n",
       "3  35.0      0      0   315154  53.1000        S       1  0  0  1  \n",
       "4  35.0      1      1  3101298   8.0500        S       0  0  0  1  "
      ]
     },
     "execution_count": 78,
     "metadata": {},
     "output_type": "execute_result"
    }
   ],
   "source": [
    "df1.head()"
   ]
  },
  {
   "cell_type": "code",
   "execution_count": 79,
   "id": "f7fe9aa5",
   "metadata": {
    "execution": {
     "iopub.execute_input": "2024-08-26T10:24:24.340724Z",
     "iopub.status.busy": "2024-08-26T10:24:24.340308Z",
     "iopub.status.idle": "2024-08-26T10:24:24.348905Z",
     "shell.execute_reply": "2024-08-26T10:24:24.347691Z"
    },
    "papermill": {
     "duration": 0.076635,
     "end_time": "2024-08-26T10:24:24.351765",
     "exception": false,
     "start_time": "2024-08-26T10:24:24.275130",
     "status": "completed"
    },
    "tags": []
   },
   "outputs": [],
   "source": [
    "df.drop(['Name','Sex','Ticket','Embarked'],axis=1,inplace=True)\n",
    "df1.drop(['Name','Sex','Ticket','Embarked'],axis=1,inplace=True)"
   ]
  },
  {
   "cell_type": "code",
   "execution_count": 80,
   "id": "b739a36c",
   "metadata": {
    "execution": {
     "iopub.execute_input": "2024-08-26T10:24:24.486939Z",
     "iopub.status.busy": "2024-08-26T10:24:24.486481Z",
     "iopub.status.idle": "2024-08-26T10:24:24.503455Z",
     "shell.execute_reply": "2024-08-26T10:24:24.502163Z"
    },
    "papermill": {
     "duration": 0.087416,
     "end_time": "2024-08-26T10:24:24.505888",
     "exception": false,
     "start_time": "2024-08-26T10:24:24.418472",
     "status": "completed"
    },
    "tags": []
   },
   "outputs": [
    {
     "data": {
      "text/html": [
       "<div>\n",
       "<style scoped>\n",
       "    .dataframe tbody tr th:only-of-type {\n",
       "        vertical-align: middle;\n",
       "    }\n",
       "\n",
       "    .dataframe tbody tr th {\n",
       "        vertical-align: top;\n",
       "    }\n",
       "\n",
       "    .dataframe thead th {\n",
       "        text-align: right;\n",
       "    }\n",
       "</style>\n",
       "<table border=\"1\" class=\"dataframe\">\n",
       "  <thead>\n",
       "    <tr style=\"text-align: right;\">\n",
       "      <th></th>\n",
       "      <th>PassengerId</th>\n",
       "      <th>Pclass</th>\n",
       "      <th>Age</th>\n",
       "      <th>SibSp</th>\n",
       "      <th>Parch</th>\n",
       "      <th>Fare</th>\n",
       "      <th>gender</th>\n",
       "      <th>C</th>\n",
       "      <th>Q</th>\n",
       "      <th>S</th>\n",
       "    </tr>\n",
       "  </thead>\n",
       "  <tbody>\n",
       "    <tr>\n",
       "      <th>0</th>\n",
       "      <td>892</td>\n",
       "      <td>3</td>\n",
       "      <td>22.0</td>\n",
       "      <td>0</td>\n",
       "      <td>0</td>\n",
       "      <td>7.2500</td>\n",
       "      <td>1</td>\n",
       "      <td>0</td>\n",
       "      <td>1</td>\n",
       "      <td>0</td>\n",
       "    </tr>\n",
       "    <tr>\n",
       "      <th>1</th>\n",
       "      <td>893</td>\n",
       "      <td>3</td>\n",
       "      <td>38.0</td>\n",
       "      <td>1</td>\n",
       "      <td>0</td>\n",
       "      <td>71.2833</td>\n",
       "      <td>0</td>\n",
       "      <td>0</td>\n",
       "      <td>0</td>\n",
       "      <td>1</td>\n",
       "    </tr>\n",
       "    <tr>\n",
       "      <th>2</th>\n",
       "      <td>894</td>\n",
       "      <td>2</td>\n",
       "      <td>26.0</td>\n",
       "      <td>0</td>\n",
       "      <td>0</td>\n",
       "      <td>7.9250</td>\n",
       "      <td>1</td>\n",
       "      <td>0</td>\n",
       "      <td>1</td>\n",
       "      <td>0</td>\n",
       "    </tr>\n",
       "    <tr>\n",
       "      <th>3</th>\n",
       "      <td>895</td>\n",
       "      <td>3</td>\n",
       "      <td>35.0</td>\n",
       "      <td>0</td>\n",
       "      <td>0</td>\n",
       "      <td>53.1000</td>\n",
       "      <td>1</td>\n",
       "      <td>0</td>\n",
       "      <td>0</td>\n",
       "      <td>1</td>\n",
       "    </tr>\n",
       "    <tr>\n",
       "      <th>4</th>\n",
       "      <td>896</td>\n",
       "      <td>3</td>\n",
       "      <td>35.0</td>\n",
       "      <td>1</td>\n",
       "      <td>1</td>\n",
       "      <td>8.0500</td>\n",
       "      <td>0</td>\n",
       "      <td>0</td>\n",
       "      <td>0</td>\n",
       "      <td>1</td>\n",
       "    </tr>\n",
       "  </tbody>\n",
       "</table>\n",
       "</div>"
      ],
      "text/plain": [
       "   PassengerId  Pclass   Age  SibSp  Parch     Fare  gender  C  Q  S\n",
       "0          892       3  22.0      0      0   7.2500       1  0  1  0\n",
       "1          893       3  38.0      1      0  71.2833       0  0  0  1\n",
       "2          894       2  26.0      0      0   7.9250       1  0  1  0\n",
       "3          895       3  35.0      0      0  53.1000       1  0  0  1\n",
       "4          896       3  35.0      1      1   8.0500       0  0  0  1"
      ]
     },
     "execution_count": 80,
     "metadata": {},
     "output_type": "execute_result"
    }
   ],
   "source": [
    "df1.head()"
   ]
  },
  {
   "cell_type": "code",
   "execution_count": 81,
   "id": "acfe2cfa",
   "metadata": {
    "execution": {
     "iopub.execute_input": "2024-08-26T10:24:24.640600Z",
     "iopub.status.busy": "2024-08-26T10:24:24.639695Z",
     "iopub.status.idle": "2024-08-26T10:24:24.655702Z",
     "shell.execute_reply": "2024-08-26T10:24:24.654510Z"
    },
    "papermill": {
     "duration": 0.084431,
     "end_time": "2024-08-26T10:24:24.658219",
     "exception": false,
     "start_time": "2024-08-26T10:24:24.573788",
     "status": "completed"
    },
    "tags": []
   },
   "outputs": [
    {
     "data": {
      "text/html": [
       "<div>\n",
       "<style scoped>\n",
       "    .dataframe tbody tr th:only-of-type {\n",
       "        vertical-align: middle;\n",
       "    }\n",
       "\n",
       "    .dataframe tbody tr th {\n",
       "        vertical-align: top;\n",
       "    }\n",
       "\n",
       "    .dataframe thead th {\n",
       "        text-align: right;\n",
       "    }\n",
       "</style>\n",
       "<table border=\"1\" class=\"dataframe\">\n",
       "  <thead>\n",
       "    <tr style=\"text-align: right;\">\n",
       "      <th></th>\n",
       "      <th>PassengerId</th>\n",
       "      <th>Survived</th>\n",
       "      <th>Pclass</th>\n",
       "      <th>Age</th>\n",
       "      <th>SibSp</th>\n",
       "      <th>Parch</th>\n",
       "      <th>Fare</th>\n",
       "      <th>gender</th>\n",
       "      <th>C</th>\n",
       "      <th>Q</th>\n",
       "      <th>S</th>\n",
       "    </tr>\n",
       "  </thead>\n",
       "  <tbody>\n",
       "    <tr>\n",
       "      <th>0</th>\n",
       "      <td>1</td>\n",
       "      <td>0</td>\n",
       "      <td>3</td>\n",
       "      <td>22.0</td>\n",
       "      <td>1</td>\n",
       "      <td>0</td>\n",
       "      <td>7.2500</td>\n",
       "      <td>1</td>\n",
       "      <td>0</td>\n",
       "      <td>0</td>\n",
       "      <td>1</td>\n",
       "    </tr>\n",
       "    <tr>\n",
       "      <th>1</th>\n",
       "      <td>2</td>\n",
       "      <td>1</td>\n",
       "      <td>1</td>\n",
       "      <td>38.0</td>\n",
       "      <td>1</td>\n",
       "      <td>0</td>\n",
       "      <td>71.2833</td>\n",
       "      <td>0</td>\n",
       "      <td>1</td>\n",
       "      <td>0</td>\n",
       "      <td>0</td>\n",
       "    </tr>\n",
       "    <tr>\n",
       "      <th>2</th>\n",
       "      <td>3</td>\n",
       "      <td>1</td>\n",
       "      <td>3</td>\n",
       "      <td>26.0</td>\n",
       "      <td>0</td>\n",
       "      <td>0</td>\n",
       "      <td>7.9250</td>\n",
       "      <td>0</td>\n",
       "      <td>0</td>\n",
       "      <td>0</td>\n",
       "      <td>1</td>\n",
       "    </tr>\n",
       "    <tr>\n",
       "      <th>3</th>\n",
       "      <td>4</td>\n",
       "      <td>1</td>\n",
       "      <td>1</td>\n",
       "      <td>35.0</td>\n",
       "      <td>1</td>\n",
       "      <td>0</td>\n",
       "      <td>53.1000</td>\n",
       "      <td>0</td>\n",
       "      <td>0</td>\n",
       "      <td>0</td>\n",
       "      <td>1</td>\n",
       "    </tr>\n",
       "    <tr>\n",
       "      <th>4</th>\n",
       "      <td>5</td>\n",
       "      <td>0</td>\n",
       "      <td>3</td>\n",
       "      <td>35.0</td>\n",
       "      <td>0</td>\n",
       "      <td>0</td>\n",
       "      <td>8.0500</td>\n",
       "      <td>1</td>\n",
       "      <td>0</td>\n",
       "      <td>0</td>\n",
       "      <td>1</td>\n",
       "    </tr>\n",
       "  </tbody>\n",
       "</table>\n",
       "</div>"
      ],
      "text/plain": [
       "   PassengerId  Survived  Pclass   Age  SibSp  Parch     Fare  gender  C  Q  S\n",
       "0            1         0       3  22.0      1      0   7.2500       1  0  0  1\n",
       "1            2         1       1  38.0      1      0  71.2833       0  1  0  0\n",
       "2            3         1       3  26.0      0      0   7.9250       0  0  0  1\n",
       "3            4         1       1  35.0      1      0  53.1000       0  0  0  1\n",
       "4            5         0       3  35.0      0      0   8.0500       1  0  0  1"
      ]
     },
     "execution_count": 81,
     "metadata": {},
     "output_type": "execute_result"
    }
   ],
   "source": [
    "df.head()"
   ]
  },
  {
   "cell_type": "code",
   "execution_count": 82,
   "id": "fa69ed1f",
   "metadata": {
    "execution": {
     "iopub.execute_input": "2024-08-26T10:24:24.792109Z",
     "iopub.status.busy": "2024-08-26T10:24:24.791637Z",
     "iopub.status.idle": "2024-08-26T10:24:25.163112Z",
     "shell.execute_reply": "2024-08-26T10:24:25.162037Z"
    },
    "papermill": {
     "duration": 0.442382,
     "end_time": "2024-08-26T10:24:25.165867",
     "exception": false,
     "start_time": "2024-08-26T10:24:24.723485",
     "status": "completed"
    },
    "tags": []
   },
   "outputs": [],
   "source": [
    "# Importing packages\n",
    "from sklearn.model_selection import train_test_split\n",
    "from sklearn.linear_model import LogisticRegression"
   ]
  },
  {
   "cell_type": "code",
   "execution_count": 83,
   "id": "981ee7b5",
   "metadata": {
    "execution": {
     "iopub.execute_input": "2024-08-26T10:24:25.301475Z",
     "iopub.status.busy": "2024-08-26T10:24:25.301042Z",
     "iopub.status.idle": "2024-08-26T10:24:25.310255Z",
     "shell.execute_reply": "2024-08-26T10:24:25.309094Z"
    },
    "papermill": {
     "duration": 0.08084,
     "end_time": "2024-08-26T10:24:25.312698",
     "exception": false,
     "start_time": "2024-08-26T10:24:25.231858",
     "status": "completed"
    },
    "tags": []
   },
   "outputs": [],
   "source": [
    "x_train = df[['Pclass','Age','Fare','gender','SibSp','Parch','C','Q','S']]\n",
    "y_train = df['Survived']\n",
    "x_test = df1[['Pclass','Age','Fare','gender','SibSp','Parch','C','Q','S']]"
   ]
  },
  {
   "cell_type": "code",
   "execution_count": 84,
   "id": "bac39d90",
   "metadata": {
    "execution": {
     "iopub.execute_input": "2024-08-26T10:24:25.449705Z",
     "iopub.status.busy": "2024-08-26T10:24:25.449265Z",
     "iopub.status.idle": "2024-08-26T10:24:25.503012Z",
     "shell.execute_reply": "2024-08-26T10:24:25.501594Z"
    },
    "papermill": {
     "duration": 0.12671,
     "end_time": "2024-08-26T10:24:25.505593",
     "exception": false,
     "start_time": "2024-08-26T10:24:25.378883",
     "status": "completed"
    },
    "tags": []
   },
   "outputs": [
    {
     "name": "stderr",
     "output_type": "stream",
     "text": [
      "/opt/conda/lib/python3.10/site-packages/sklearn/linear_model/_logistic.py:458: ConvergenceWarning: lbfgs failed to converge (status=1):\n",
      "STOP: TOTAL NO. of ITERATIONS REACHED LIMIT.\n",
      "\n",
      "Increase the number of iterations (max_iter) or scale the data as shown in:\n",
      "    https://scikit-learn.org/stable/modules/preprocessing.html\n",
      "Please also refer to the documentation for alternative solver options:\n",
      "    https://scikit-learn.org/stable/modules/linear_model.html#logistic-regression\n",
      "  n_iter_i = _check_optimize_result(\n"
     ]
    },
    {
     "data": {
      "text/html": [
       "<style>#sk-container-id-1 {color: black;background-color: white;}#sk-container-id-1 pre{padding: 0;}#sk-container-id-1 div.sk-toggleable {background-color: white;}#sk-container-id-1 label.sk-toggleable__label {cursor: pointer;display: block;width: 100%;margin-bottom: 0;padding: 0.3em;box-sizing: border-box;text-align: center;}#sk-container-id-1 label.sk-toggleable__label-arrow:before {content: \"▸\";float: left;margin-right: 0.25em;color: #696969;}#sk-container-id-1 label.sk-toggleable__label-arrow:hover:before {color: black;}#sk-container-id-1 div.sk-estimator:hover label.sk-toggleable__label-arrow:before {color: black;}#sk-container-id-1 div.sk-toggleable__content {max-height: 0;max-width: 0;overflow: hidden;text-align: left;background-color: #f0f8ff;}#sk-container-id-1 div.sk-toggleable__content pre {margin: 0.2em;color: black;border-radius: 0.25em;background-color: #f0f8ff;}#sk-container-id-1 input.sk-toggleable__control:checked~div.sk-toggleable__content {max-height: 200px;max-width: 100%;overflow: auto;}#sk-container-id-1 input.sk-toggleable__control:checked~label.sk-toggleable__label-arrow:before {content: \"▾\";}#sk-container-id-1 div.sk-estimator input.sk-toggleable__control:checked~label.sk-toggleable__label {background-color: #d4ebff;}#sk-container-id-1 div.sk-label input.sk-toggleable__control:checked~label.sk-toggleable__label {background-color: #d4ebff;}#sk-container-id-1 input.sk-hidden--visually {border: 0;clip: rect(1px 1px 1px 1px);clip: rect(1px, 1px, 1px, 1px);height: 1px;margin: -1px;overflow: hidden;padding: 0;position: absolute;width: 1px;}#sk-container-id-1 div.sk-estimator {font-family: monospace;background-color: #f0f8ff;border: 1px dotted black;border-radius: 0.25em;box-sizing: border-box;margin-bottom: 0.5em;}#sk-container-id-1 div.sk-estimator:hover {background-color: #d4ebff;}#sk-container-id-1 div.sk-parallel-item::after {content: \"\";width: 100%;border-bottom: 1px solid gray;flex-grow: 1;}#sk-container-id-1 div.sk-label:hover label.sk-toggleable__label {background-color: #d4ebff;}#sk-container-id-1 div.sk-serial::before {content: \"\";position: absolute;border-left: 1px solid gray;box-sizing: border-box;top: 0;bottom: 0;left: 50%;z-index: 0;}#sk-container-id-1 div.sk-serial {display: flex;flex-direction: column;align-items: center;background-color: white;padding-right: 0.2em;padding-left: 0.2em;position: relative;}#sk-container-id-1 div.sk-item {position: relative;z-index: 1;}#sk-container-id-1 div.sk-parallel {display: flex;align-items: stretch;justify-content: center;background-color: white;position: relative;}#sk-container-id-1 div.sk-item::before, #sk-container-id-1 div.sk-parallel-item::before {content: \"\";position: absolute;border-left: 1px solid gray;box-sizing: border-box;top: 0;bottom: 0;left: 50%;z-index: -1;}#sk-container-id-1 div.sk-parallel-item {display: flex;flex-direction: column;z-index: 1;position: relative;background-color: white;}#sk-container-id-1 div.sk-parallel-item:first-child::after {align-self: flex-end;width: 50%;}#sk-container-id-1 div.sk-parallel-item:last-child::after {align-self: flex-start;width: 50%;}#sk-container-id-1 div.sk-parallel-item:only-child::after {width: 0;}#sk-container-id-1 div.sk-dashed-wrapped {border: 1px dashed gray;margin: 0 0.4em 0.5em 0.4em;box-sizing: border-box;padding-bottom: 0.4em;background-color: white;}#sk-container-id-1 div.sk-label label {font-family: monospace;font-weight: bold;display: inline-block;line-height: 1.2em;}#sk-container-id-1 div.sk-label-container {text-align: center;}#sk-container-id-1 div.sk-container {/* jupyter's `normalize.less` sets `[hidden] { display: none; }` but bootstrap.min.css set `[hidden] { display: none !important; }` so we also need the `!important` here to be able to override the default hidden behavior on the sphinx rendered scikit-learn.org. See: https://github.com/scikit-learn/scikit-learn/issues/21755 */display: inline-block !important;position: relative;}#sk-container-id-1 div.sk-text-repr-fallback {display: none;}</style><div id=\"sk-container-id-1\" class=\"sk-top-container\"><div class=\"sk-text-repr-fallback\"><pre>LogisticRegression()</pre><b>In a Jupyter environment, please rerun this cell to show the HTML representation or trust the notebook. <br />On GitHub, the HTML representation is unable to render, please try loading this page with nbviewer.org.</b></div><div class=\"sk-container\" hidden><div class=\"sk-item\"><div class=\"sk-estimator sk-toggleable\"><input class=\"sk-toggleable__control sk-hidden--visually\" id=\"sk-estimator-id-1\" type=\"checkbox\" checked><label for=\"sk-estimator-id-1\" class=\"sk-toggleable__label sk-toggleable__label-arrow\">LogisticRegression</label><div class=\"sk-toggleable__content\"><pre>LogisticRegression()</pre></div></div></div></div></div>"
      ],
      "text/plain": [
       "LogisticRegression()"
      ]
     },
     "execution_count": 84,
     "metadata": {},
     "output_type": "execute_result"
    }
   ],
   "source": [
    "lr=LogisticRegression()\n",
    "lr.fit(x_train,y_train)"
   ]
  },
  {
   "cell_type": "code",
   "execution_count": 85,
   "id": "22d06d36",
   "metadata": {
    "execution": {
     "iopub.execute_input": "2024-08-26T10:24:25.640354Z",
     "iopub.status.busy": "2024-08-26T10:24:25.639933Z",
     "iopub.status.idle": "2024-08-26T10:24:25.654509Z",
     "shell.execute_reply": "2024-08-26T10:24:25.652942Z"
    },
    "papermill": {
     "duration": 0.085093,
     "end_time": "2024-08-26T10:24:25.656954",
     "exception": false,
     "start_time": "2024-08-26T10:24:25.571861",
     "status": "completed"
    },
    "tags": []
   },
   "outputs": [
    {
     "data": {
      "text/html": [
       "<div>\n",
       "<style scoped>\n",
       "    .dataframe tbody tr th:only-of-type {\n",
       "        vertical-align: middle;\n",
       "    }\n",
       "\n",
       "    .dataframe tbody tr th {\n",
       "        vertical-align: top;\n",
       "    }\n",
       "\n",
       "    .dataframe thead th {\n",
       "        text-align: right;\n",
       "    }\n",
       "</style>\n",
       "<table border=\"1\" class=\"dataframe\">\n",
       "  <thead>\n",
       "    <tr style=\"text-align: right;\">\n",
       "      <th></th>\n",
       "      <th>Survival Prediction</th>\n",
       "    </tr>\n",
       "  </thead>\n",
       "  <tbody>\n",
       "    <tr>\n",
       "      <th>0</th>\n",
       "      <td>0</td>\n",
       "    </tr>\n",
       "    <tr>\n",
       "      <th>1</th>\n",
       "      <td>0</td>\n",
       "    </tr>\n",
       "    <tr>\n",
       "      <th>2</th>\n",
       "      <td>0</td>\n",
       "    </tr>\n",
       "    <tr>\n",
       "      <th>3</th>\n",
       "      <td>0</td>\n",
       "    </tr>\n",
       "    <tr>\n",
       "      <th>4</th>\n",
       "      <td>0</td>\n",
       "    </tr>\n",
       "    <tr>\n",
       "      <th>...</th>\n",
       "      <td>...</td>\n",
       "    </tr>\n",
       "    <tr>\n",
       "      <th>413</th>\n",
       "      <td>0</td>\n",
       "    </tr>\n",
       "    <tr>\n",
       "      <th>414</th>\n",
       "      <td>1</td>\n",
       "    </tr>\n",
       "    <tr>\n",
       "      <th>415</th>\n",
       "      <td>0</td>\n",
       "    </tr>\n",
       "    <tr>\n",
       "      <th>416</th>\n",
       "      <td>0</td>\n",
       "    </tr>\n",
       "    <tr>\n",
       "      <th>417</th>\n",
       "      <td>0</td>\n",
       "    </tr>\n",
       "  </tbody>\n",
       "</table>\n",
       "<p>418 rows × 1 columns</p>\n",
       "</div>"
      ],
      "text/plain": [
       "     Survival Prediction\n",
       "0                      0\n",
       "1                      0\n",
       "2                      0\n",
       "3                      0\n",
       "4                      0\n",
       "..                   ...\n",
       "413                    0\n",
       "414                    1\n",
       "415                    0\n",
       "416                    0\n",
       "417                    0\n",
       "\n",
       "[418 rows x 1 columns]"
      ]
     },
     "execution_count": 85,
     "metadata": {},
     "output_type": "execute_result"
    }
   ],
   "source": [
    "# predict\n",
    "predict = lr.predict(x_test)\n",
    "predict = pd.DataFrame(predict, columns=['Survival Prediction'])\n",
    "predict"
   ]
  },
  {
   "cell_type": "code",
   "execution_count": 86,
   "id": "dddbef77",
   "metadata": {
    "execution": {
     "iopub.execute_input": "2024-08-26T10:24:25.792054Z",
     "iopub.status.busy": "2024-08-26T10:24:25.791252Z",
     "iopub.status.idle": "2024-08-26T10:24:25.801698Z",
     "shell.execute_reply": "2024-08-26T10:24:25.800636Z"
    },
    "papermill": {
     "duration": 0.081043,
     "end_time": "2024-08-26T10:24:25.804343",
     "exception": false,
     "start_time": "2024-08-26T10:24:25.723300",
     "status": "completed"
    },
    "tags": []
   },
   "outputs": [],
   "source": [
    "# submission file making\n",
    "submission = pd.read_csv('/kaggle/input/titanic/gender_submission.csv')"
   ]
  },
  {
   "cell_type": "code",
   "execution_count": 87,
   "id": "c97a44ec",
   "metadata": {
    "execution": {
     "iopub.execute_input": "2024-08-26T10:24:25.938284Z",
     "iopub.status.busy": "2024-08-26T10:24:25.937866Z",
     "iopub.status.idle": "2024-08-26T10:24:25.949706Z",
     "shell.execute_reply": "2024-08-26T10:24:25.948629Z"
    },
    "papermill": {
     "duration": 0.080729,
     "end_time": "2024-08-26T10:24:25.951988",
     "exception": false,
     "start_time": "2024-08-26T10:24:25.871259",
     "status": "completed"
    },
    "tags": []
   },
   "outputs": [
    {
     "data": {
      "text/html": [
       "<div>\n",
       "<style scoped>\n",
       "    .dataframe tbody tr th:only-of-type {\n",
       "        vertical-align: middle;\n",
       "    }\n",
       "\n",
       "    .dataframe tbody tr th {\n",
       "        vertical-align: top;\n",
       "    }\n",
       "\n",
       "    .dataframe thead th {\n",
       "        text-align: right;\n",
       "    }\n",
       "</style>\n",
       "<table border=\"1\" class=\"dataframe\">\n",
       "  <thead>\n",
       "    <tr style=\"text-align: right;\">\n",
       "      <th></th>\n",
       "      <th>PassengerId</th>\n",
       "    </tr>\n",
       "  </thead>\n",
       "  <tbody>\n",
       "    <tr>\n",
       "      <th>0</th>\n",
       "      <td>892</td>\n",
       "    </tr>\n",
       "    <tr>\n",
       "      <th>1</th>\n",
       "      <td>893</td>\n",
       "    </tr>\n",
       "    <tr>\n",
       "      <th>2</th>\n",
       "      <td>894</td>\n",
       "    </tr>\n",
       "    <tr>\n",
       "      <th>3</th>\n",
       "      <td>895</td>\n",
       "    </tr>\n",
       "    <tr>\n",
       "      <th>4</th>\n",
       "      <td>896</td>\n",
       "    </tr>\n",
       "    <tr>\n",
       "      <th>...</th>\n",
       "      <td>...</td>\n",
       "    </tr>\n",
       "    <tr>\n",
       "      <th>413</th>\n",
       "      <td>1305</td>\n",
       "    </tr>\n",
       "    <tr>\n",
       "      <th>414</th>\n",
       "      <td>1306</td>\n",
       "    </tr>\n",
       "    <tr>\n",
       "      <th>415</th>\n",
       "      <td>1307</td>\n",
       "    </tr>\n",
       "    <tr>\n",
       "      <th>416</th>\n",
       "      <td>1308</td>\n",
       "    </tr>\n",
       "    <tr>\n",
       "      <th>417</th>\n",
       "      <td>1309</td>\n",
       "    </tr>\n",
       "  </tbody>\n",
       "</table>\n",
       "<p>418 rows × 1 columns</p>\n",
       "</div>"
      ],
      "text/plain": [
       "     PassengerId\n",
       "0            892\n",
       "1            893\n",
       "2            894\n",
       "3            895\n",
       "4            896\n",
       "..           ...\n",
       "413         1305\n",
       "414         1306\n",
       "415         1307\n",
       "416         1308\n",
       "417         1309\n",
       "\n",
       "[418 rows x 1 columns]"
      ]
     },
     "execution_count": 87,
     "metadata": {},
     "output_type": "execute_result"
    }
   ],
   "source": [
    "submission.drop('Survived',axis=1,inplace=True)\n",
    "submission"
   ]
  },
  {
   "cell_type": "code",
   "execution_count": 88,
   "id": "4459b688",
   "metadata": {
    "execution": {
     "iopub.execute_input": "2024-08-26T10:24:26.083628Z",
     "iopub.status.busy": "2024-08-26T10:24:26.083188Z",
     "iopub.status.idle": "2024-08-26T10:24:26.089285Z",
     "shell.execute_reply": "2024-08-26T10:24:26.088146Z"
    },
    "papermill": {
     "duration": 0.074627,
     "end_time": "2024-08-26T10:24:26.091618",
     "exception": false,
     "start_time": "2024-08-26T10:24:26.016991",
     "status": "completed"
    },
    "tags": []
   },
   "outputs": [],
   "source": [
    "final_submission_file=pd.concat([submission,predict],axis=1)"
   ]
  },
  {
   "cell_type": "code",
   "execution_count": 89,
   "id": "e2370680",
   "metadata": {
    "execution": {
     "iopub.execute_input": "2024-08-26T10:24:26.223571Z",
     "iopub.status.busy": "2024-08-26T10:24:26.223169Z",
     "iopub.status.idle": "2024-08-26T10:24:26.236076Z",
     "shell.execute_reply": "2024-08-26T10:24:26.234818Z"
    },
    "papermill": {
     "duration": 0.081761,
     "end_time": "2024-08-26T10:24:26.238488",
     "exception": false,
     "start_time": "2024-08-26T10:24:26.156727",
     "status": "completed"
    },
    "tags": []
   },
   "outputs": [
    {
     "data": {
      "text/html": [
       "<div>\n",
       "<style scoped>\n",
       "    .dataframe tbody tr th:only-of-type {\n",
       "        vertical-align: middle;\n",
       "    }\n",
       "\n",
       "    .dataframe tbody tr th {\n",
       "        vertical-align: top;\n",
       "    }\n",
       "\n",
       "    .dataframe thead th {\n",
       "        text-align: right;\n",
       "    }\n",
       "</style>\n",
       "<table border=\"1\" class=\"dataframe\">\n",
       "  <thead>\n",
       "    <tr style=\"text-align: right;\">\n",
       "      <th></th>\n",
       "      <th>PassengerId</th>\n",
       "      <th>Survived</th>\n",
       "    </tr>\n",
       "  </thead>\n",
       "  <tbody>\n",
       "    <tr>\n",
       "      <th>0</th>\n",
       "      <td>892</td>\n",
       "      <td>0</td>\n",
       "    </tr>\n",
       "    <tr>\n",
       "      <th>1</th>\n",
       "      <td>893</td>\n",
       "      <td>0</td>\n",
       "    </tr>\n",
       "    <tr>\n",
       "      <th>2</th>\n",
       "      <td>894</td>\n",
       "      <td>0</td>\n",
       "    </tr>\n",
       "    <tr>\n",
       "      <th>3</th>\n",
       "      <td>895</td>\n",
       "      <td>0</td>\n",
       "    </tr>\n",
       "    <tr>\n",
       "      <th>4</th>\n",
       "      <td>896</td>\n",
       "      <td>0</td>\n",
       "    </tr>\n",
       "    <tr>\n",
       "      <th>...</th>\n",
       "      <td>...</td>\n",
       "      <td>...</td>\n",
       "    </tr>\n",
       "    <tr>\n",
       "      <th>413</th>\n",
       "      <td>1305</td>\n",
       "      <td>0</td>\n",
       "    </tr>\n",
       "    <tr>\n",
       "      <th>414</th>\n",
       "      <td>1306</td>\n",
       "      <td>1</td>\n",
       "    </tr>\n",
       "    <tr>\n",
       "      <th>415</th>\n",
       "      <td>1307</td>\n",
       "      <td>0</td>\n",
       "    </tr>\n",
       "    <tr>\n",
       "      <th>416</th>\n",
       "      <td>1308</td>\n",
       "      <td>0</td>\n",
       "    </tr>\n",
       "    <tr>\n",
       "      <th>417</th>\n",
       "      <td>1309</td>\n",
       "      <td>0</td>\n",
       "    </tr>\n",
       "  </tbody>\n",
       "</table>\n",
       "<p>418 rows × 2 columns</p>\n",
       "</div>"
      ],
      "text/plain": [
       "     PassengerId  Survived\n",
       "0            892         0\n",
       "1            893         0\n",
       "2            894         0\n",
       "3            895         0\n",
       "4            896         0\n",
       "..           ...       ...\n",
       "413         1305         0\n",
       "414         1306         1\n",
       "415         1307         0\n",
       "416         1308         0\n",
       "417         1309         0\n",
       "\n",
       "[418 rows x 2 columns]"
      ]
     },
     "execution_count": 89,
     "metadata": {},
     "output_type": "execute_result"
    }
   ],
   "source": [
    "final_submission_file.rename(columns = {'Survival Prediction' : 'Survived'},inplace=True)\n",
    "final_submission_file"
   ]
  },
  {
   "cell_type": "code",
   "execution_count": 90,
   "id": "6fc943fe",
   "metadata": {
    "execution": {
     "iopub.execute_input": "2024-08-26T10:24:26.377416Z",
     "iopub.status.busy": "2024-08-26T10:24:26.376965Z",
     "iopub.status.idle": "2024-08-26T10:24:26.387393Z",
     "shell.execute_reply": "2024-08-26T10:24:26.386060Z"
    },
    "papermill": {
     "duration": 0.084632,
     "end_time": "2024-08-26T10:24:26.390115",
     "exception": false,
     "start_time": "2024-08-26T10:24:26.305483",
     "status": "completed"
    },
    "tags": []
   },
   "outputs": [],
   "source": [
    "# saving the file in output\n",
    "final_submission_file.to_csv('final_submission_file.csv',index=True)"
   ]
  }
 ],
 "metadata": {
  "kaggle": {
   "accelerator": "none",
   "dataSources": [
    {
     "databundleVersionId": 26502,
     "sourceId": 3136,
     "sourceType": "competition"
    }
   ],
   "dockerImageVersionId": 30761,
   "isGpuEnabled": false,
   "isInternetEnabled": true,
   "language": "python",
   "sourceType": "notebook"
  },
  "kernelspec": {
   "display_name": "Python 3",
   "language": "python",
   "name": "python3"
  },
  "language_info": {
   "codemirror_mode": {
    "name": "ipython",
    "version": 3
   },
   "file_extension": ".py",
   "mimetype": "text/x-python",
   "name": "python",
   "nbconvert_exporter": "python",
   "pygments_lexer": "ipython3",
   "version": "3.10.14"
  },
  "papermill": {
   "default_parameters": {},
   "duration": 42.619244,
   "end_time": "2024-08-26T10:24:27.582864",
   "environment_variables": {},
   "exception": null,
   "input_path": "__notebook__.ipynb",
   "output_path": "__notebook__.ipynb",
   "parameters": {},
   "start_time": "2024-08-26T10:23:44.963620",
   "version": "2.6.0"
  }
 },
 "nbformat": 4,
 "nbformat_minor": 5
}
